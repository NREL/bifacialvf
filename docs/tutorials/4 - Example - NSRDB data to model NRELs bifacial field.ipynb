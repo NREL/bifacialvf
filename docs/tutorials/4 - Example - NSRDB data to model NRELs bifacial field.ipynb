{
 "cells": [
  {
   "cell_type": "markdown",
   "id": "967a8149",
   "metadata": {},
   "source": [
    "# 4 - Example - NSRDB data to model NRELs bifacial field\n"
   ]
  },
  {
   "cell_type": "markdown",
   "id": "c74e1afe",
   "metadata": {},
   "source": [
    "<a id='step1'></a>"
   ]
  },
  {
   "cell_type": "code",
   "execution_count": 1,
   "id": "a2877703",
   "metadata": {},
   "outputs": [],
   "source": [
    "from pathlib import Path\n",
    "import os\n",
    "\n",
    "testfolder = Path().resolve().parent.parent / 'bifacialvf' / 'TEMP' / 'BARN'\n",
    "\n",
    "if not os.path.exists(testfolder):\n",
    "    os.makedirs(testfolder)"
   ]
  },
  {
   "cell_type": "code",
   "execution_count": 3,
   "id": "c1eef4bc",
   "metadata": {},
   "outputs": [],
   "source": [
    "import pandas as pd\n",
    "import bifacialvf"
   ]
  },
  {
   "cell_type": "code",
   "execution_count": 4,
   "id": "7f9c1c7c",
   "metadata": {},
   "outputs": [
    {
     "name": "stdout",
     "output_type": "stream",
     "text": [
      "Working on a  Windows 10\n",
      "Python version  3.11.4 | packaged by Anaconda, Inc. | (main, Jul  5 2023, 13:38:37) [MSC v.1916 64 bit (AMD64)]\n",
      "Pandas version  2.1.0\n",
      "bifacialVF version  0.1.8.1+0.g539ebce.dirty\n"
     ]
    }
   ],
   "source": [
    "# This information helps with debugging and getting support :)\n",
    "import sys, platform\n",
    "print(\"Working on a \", platform.system(), platform.release())\n",
    "print(\"Python version \", sys.version)\n",
    "print(\"Pandas version \", pd.__version__)\n",
    "print(\"bifacialVF version \", bifacialvf.__version__)"
   ]
  },
  {
   "cell_type": "code",
   "execution_count": 5,
   "id": "e45586b1",
   "metadata": {},
   "outputs": [],
   "source": [
    "NREL_API_KEY = None  # <-- please set your NREL API key here\n",
    "# note you must use \"quotes\" around your key as it is a string.\n",
    "\n",
    "if NREL_API_KEY is None:\n",
    "       NREL_API_KEY = 'DEMO_KEY'  # OK for this demo, but better to get your own key"
   ]
  },
  {
   "cell_type": "code",
   "execution_count": 6,
   "id": "e4ca9a61",
   "metadata": {
    "slideshow": {
     "slide_type": "subslide"
    }
   },
   "outputs": [
    {
     "name": "stderr",
     "output_type": "stream",
     "text": [
      "C:\\Users\\sayala\\Documents\\GitHub\\pvlib-python\\pvlib\\iotools\\psm3.py:183: pvlibDeprecationWarning: The ``get_psm3`` function will default to leap_day=True starting in pvlib 0.11.0. Specify leap_day=True to enable this behavior now, or specify leap_day=False to hide this warning.\n",
      "  warnings.warn(\n"
     ]
    }
   ],
   "source": [
    "import pvlib\n",
    "\n",
    "# NREL Coords: 39.7407° N, 105.1686° W\n",
    "\n",
    "metdata, metadata = pvlib.iotools.get_psm3(\n",
    "    latitude=39.7407, longitude=-105.1686,\n",
    "    api_key=NREL_API_KEY,\n",
    "    email='silvana.ovaitt@nrel.gov',  # <-- any email works here fine\n",
    "    names='2022', map_variables=True, leap_day=False)"
   ]
  },
  {
   "cell_type": "markdown",
   "id": "7d0ab1b5",
   "metadata": {},
   "source": [
    "# 3. Set Parameters"
   ]
  },
  {
   "cell_type": "code",
   "execution_count": 7,
   "id": "e4ee748c",
   "metadata": {},
   "outputs": [],
   "source": [
    "# Variables\n",
    "sazm = 180                  # PV Azimuth(deg) or tracker axis direction\n",
    "cw = 2 # m . 1-up portrait\n",
    "pitch=5.7\n",
    "hub_height=1.5 # m\n",
    "norm_hub_height = 1.5/cw\n",
    "norm_pitch = 5.7/cw\n",
    "rowType = \"interior\"        \n",
    "sensorsy = 12                # sampling areas in the module. edges would be 1 and 12.\n",
    "PVfrontSurface = \"glass\"    # options: glass or ARglass\n",
    "PVbackSurface = \"glass\"     # options: glass or ARglass\n",
    "\n",
    "# Tracking instructions\n",
    "tracking=True\n",
    "backtrack=True\n",
    "limit_angle = 50\n",
    "\n",
    "deltastyle = 'exact'  # NSRDB downloads data at center hour 11:30, 12:30, etc... "
   ]
  },
  {
   "cell_type": "code",
   "execution_count": 8,
   "id": "0d7b5402",
   "metadata": {},
   "outputs": [],
   "source": [
    "# We have outdated names that do not match NSRDB. renaming.\n",
    "#name in NSRDB : name in bifacialVF\n",
    "metdata.rename(columns={\"dni\": \"DNI\", \"dhi\": \"DHI\", 'temp_air':'DryBulb', 'wind_speed':'VWind'}, inplace=True)\n",
    "metadata['TZ'] = metadata['Time Zone']\n",
    "metadata['city'] = metadata['City']\n"
   ]
  },
  {
   "cell_type": "code",
   "execution_count": 9,
   "id": "7b6f9dcf",
   "metadata": {},
   "outputs": [
    {
     "name": "stdout",
     "output_type": "stream",
     "text": [
      "Calculating Sun position with no delta, for exact timestamp in input Weather File\n",
      "No albedo value set or included in TMY3 file (TMY Column name 'Alb (unitless)' expected) Setting albedo default to 0.2\n",
      " \n",
      " \n",
      "********* \n",
      "Running Simulation for TMY3: \n",
      "Location:   -\n",
      "Lat:  39.73  Long:  -105.18  Tz  -7\n",
      "Parameters: tilt:  0   Sazm:  180     Hub_Height :  1.5   Pitch:  5.7   Row type:  interior   Albedo:  0.2\n",
      "Saving into Dirk\\Dirk_2022_Results.csv\n",
      " \n",
      " \n",
      "Distance between rows for no shading on Dec 21 at 9 am solar time =  0.0\n",
      "Actual distance between rows =  4.7\n",
      " \n",
      " ***** IMPORTANT --> THIS SIMULATION Has Tracking Activated\n",
      "Backtracking Option is set to:  True\n"
     ]
    },
    {
     "name": "stderr",
     "output_type": "stream",
     "text": [
      "100%|██████████| 8760/8760 [00:41<00:00, 209.96it/s]"
     ]
    },
    {
     "name": "stdout",
     "output_type": "stream",
     "text": [
      "Finished\n"
     ]
    },
    {
     "name": "stderr",
     "output_type": "stream",
     "text": [
      "\n"
     ]
    }
   ],
   "source": [
    "writefiletitle = os.path.join(testfolder, 'Dirk_2022_Results.csv')\n",
    "bifacialvf.simulate(metdata, metadata, writefiletitle=writefiletitle, \n",
    "            sazm=sazm, pitch=norm_pitch, hub_height=norm_hub_height, \n",
    "         rowType=rowType, sensorsy=sensorsy, \n",
    "         PVfrontSurface=PVfrontSurface, PVbackSurface=PVbackSurface, \n",
    "          tracking=tracking, backtrack=backtrack, \n",
    "         limit_angle=limit_angle, deltastyle=deltastyle)\n",
    "\n"
   ]
  }
 ],
 "metadata": {
  "kernelspec": {
   "display_name": "Python 3 (ipykernel)",
   "language": "python",
   "name": "python3"
  },
  "language_info": {
   "codemirror_mode": {
    "name": "ipython",
    "version": 3
   },
   "file_extension": ".py",
   "mimetype": "text/x-python",
   "name": "python",
   "nbconvert_exporter": "python",
   "pygments_lexer": "ipython3",
   "version": "3.11.4"
  }
 },
 "nbformat": 4,
 "nbformat_minor": 5
}
