{
 "cells": [
  {
   "cell_type": "markdown",
   "id": "967a8149",
   "metadata": {},
   "source": [
    "# 1 - Introductory Example: Fixed-Tilt simple setup\n",
    "\n",
    "This jupyter journal will walk us through the creation of the most basic fixed-tilt simulation possible with bifacialvf.\n",
    "We will simulate a 1-up landscape system over a white rooftop.\n",
    "\n",
    "Steps include:\n",
    "\n",
    "<ol>\n",
    "    <li> <a href='#step1'> Create a folder for your simulation, and Load bifacialvf </a></li> \n",
    "    <li> <a href='#step2'> Download Weather File and Read </a></li> \n",
    "    <li> <a href='#step3'> Set all your Parameters </a></li> \n",
    "    <li> <a href='#step4'> Run simulation </a></li> \n",
    "    <li> <a href='#step5'> Read Results </a></li> \n",
    "    <li> <a href='#step6'> Plot Results </a></li> \n",
    "</ol>\n"
   ]
  },
  {
   "cell_type": "markdown",
   "id": "c74e1afe",
   "metadata": {},
   "source": [
    "<a id='step1'></a>"
   ]
  },
  {
   "cell_type": "markdown",
   "id": "6a26970e",
   "metadata": {},
   "source": [
    "\n",
    "## 1. Create a folder for your simulation, and load bifacial_radiance \n",
    "\n",
    "First let's set the folder where the simulation will be saved. By default, this is the TEMP folder in the bifacialvf distribution.\n",
    "\n",
    "The lines below find the location of the folder relative to this Jupyter Journal. You can alternatively point to an empty directory (it will open a load GUI Visual Interface) or specify any other directory in your computer, for example:\n",
    "\n",
    "#### testfolder = r'C:\\Users\\sayala\\Documents\\bifacialVFResults'\n",
    "\n"
   ]
  },
  {
   "cell_type": "code",
   "execution_count": 1,
   "id": "a2877703",
   "metadata": {},
   "outputs": [],
   "source": [
    "from pathlib import Path\n",
    "import os\n",
    "\n",
    "# IO Files\n",
    "testfolder = Path().resolve().parent.parent / 'bifacialvf' / 'TEMP' / 'Tutorial_01'\n",
    "if not os.path.exists(testfolder):\n",
    "    os.makedirs(testfolder)"
   ]
  },
  {
   "cell_type": "markdown",
   "id": "69f50e72",
   "metadata": {},
   "source": [
    "This will load bifacial_radiance and other libraries from python that will be useful for this Jupyter Journal:"
   ]
  },
  {
   "cell_type": "code",
   "execution_count": 2,
   "id": "c1eef4bc",
   "metadata": {},
   "outputs": [],
   "source": [
    "import bifacialvf"
   ]
  },
  {
   "cell_type": "markdown",
   "id": "89203555",
   "metadata": {},
   "source": [
    "<a id='step2'></a>"
   ]
  },
  {
   "cell_type": "markdown",
   "id": "74351350",
   "metadata": {},
   "source": [
    "## 2. Download and Load Weather Files\n",
    "\n",
    "There are various options provided in bifacialVF to load weatherfiles. getEPW is useful because you just set the latitude and longitude of the location and it donwloads the meteorologicla data for any location. "
   ]
  },
  {
   "cell_type": "code",
   "execution_count": 3,
   "id": "02c12c66",
   "metadata": {},
   "outputs": [
    {
     "name": "stdout",
     "output_type": "stream",
     "text": [
      "path = C:\\Users\\sayala\\Documents\\GitHub\\bifacialvf\\bifacialvf\\TEMP\\Tutorial_01\n",
      "Getting weather file: USA_VA_Richmond.724010_TMY2.epw\n",
      " ... OK!\n"
     ]
    }
   ],
   "source": [
    "# Download and Read input\n",
    "TMYtoread=bifacialvf.getEPW(lat=37.5407,lon=-77.4360, path = testfolder)\n",
    "myTMY3, meta = bifacialvf.readInputTMY(TMYtoread)\n"
   ]
  },
  {
   "cell_type": "markdown",
   "id": "45e99a08",
   "metadata": {},
   "source": [
    "We can also specify if data is right labeled (like TMY3 files), or left labeled (like SAM input files) to calculate teh sun position. By default, 'TMY3' format is selected "
   ]
  },
  {
   "cell_type": "code",
   "execution_count": 4,
   "id": "784cf20c",
   "metadata": {},
   "outputs": [],
   "source": [
    "deltastyle = 'TMY3'  # "
   ]
  },
  {
   "cell_type": "markdown",
   "id": "b088385d",
   "metadata": {},
   "source": [
    "<a id='step3'></a>"
   ]
  },
  {
   "cell_type": "markdown",
   "id": "7d0ab1b5",
   "metadata": {},
   "source": [
    "# 3. Set Parameters"
   ]
  },
  {
   "cell_type": "code",
   "execution_count": 5,
   "id": "e4ee748c",
   "metadata": {},
   "outputs": [],
   "source": [
    "# Variables\n",
    "tilt = 10                   # PV tilt (deg)\n",
    "sazm = 180                  # PV Azimuth(deg) or tracker axis direction\n",
    "albedo = 0.62               # ground albedo\n",
    "clearance_height=0.4\n",
    "pitch = 1.5                   # row to row spacing in normalized panel lengths. \n",
    "rowType = \"interior\"        # RowType(first interior last single)\n",
    "transFactor = 0.013         # TransmissionFactor(open area fraction)\n",
    "sensorsy = 6                # sensorsy(# hor rows in panel)   <--> THIS ASSUMES LANDSCAPE ORIENTATION \n",
    "PVfrontSurface = \"glass\"    # PVfrontSurface(glass or ARglass)\n",
    "PVbackSurface = \"glass\"     # PVbackSurface(glass or ARglass)\n",
    "\n",
    "# Calculate PV Output Through Various Methods    \n",
    "# This variables are advanced and explored in other tutorials.\n",
    "#calculateBilInterpol = True         # Only works with landscape at the moment.\n",
    "#calculatePVMismatch = True\n",
    "#portraitorlandscape='landscape'   # portrait or landscape\n",
    "#cellsnum = 72\n",
    "#bififactor = 1.0\n",
    "#agriPV = True                       # Returns ground irradiance values\n",
    "\n",
    "# Tracking instructions\n",
    "tracking=False\n",
    "backtrack=False\n",
    "limit_angle = 60\n",
    "\n"
   ]
  },
  {
   "cell_type": "markdown",
   "id": "6a596869",
   "metadata": {},
   "source": [
    "<a id='step4'></a>"
   ]
  },
  {
   "cell_type": "markdown",
   "id": "d27f7490",
   "metadata": {},
   "source": [
    "# 4. Run Simulation"
   ]
  },
  {
   "cell_type": "code",
   "execution_count": 17,
   "id": "7b6f9dcf",
   "metadata": {},
   "outputs": [
    {
     "name": "stdout",
     "output_type": "stream",
     "text": [
      "Calculating Sun position with a delta of -30 mins. i.e. 12 is 11:30 sunpos\n",
      "Albedo value passed, but also present in TMY3 file.  Using albedo value passed. To use the ones in TMY3 file re-run simulation with albedo=None\n",
      "\n",
      " \n",
      "********* \n",
      "Running Simulation for TMY3: \n",
      "Location:   RICHMOND\n",
      "Lat:  37.5  Long:  -77.33  Tz  -5.0\n",
      "Parameters: tilt:  10   Sazm:  180     Clearance_Height :  0.4   Pitch:  1.5   Row type:  interior   Albedo:  0.62\n",
      "Saving into C:\\Users\\sayala\\Documents\\GitHub\\bifacialvf\\bifacialvf\\TEMP\\Tutorial_01\\Tutorial1_Results.csv\n",
      " \n",
      " \n",
      "Distance between rows for no shading on Dec 21 at 9 am solar time =  0.4510244972733475\n",
      "Actual distance between rows =  0.515192246987792\n",
      " \n"
     ]
    },
    {
     "name": "stderr",
     "output_type": "stream",
     "text": [
      "100%|█████████████████████████████████████████████████████████████████████████████| 8760/8760 [00:32<00:00, 271.91it/s]"
     ]
    },
    {
     "name": "stdout",
     "output_type": "stream",
     "text": [
      "Finished\n"
     ]
    },
    {
     "name": "stderr",
     "output_type": "stream",
     "text": [
      "\n"
     ]
    }
   ],
   "source": [
    "writefiletitle = os.path.join(testfolder, 'Tutorial1_Results.csv')\n",
    "#myTMY3 = myTMY3.iloc[0:24].copy()  # Simulate just the first 24 hours of the data file for speed on this example\n",
    "bifacialvf.simulate(myTMY3, meta, writefiletitle=writefiletitle, \n",
    "         tilt=tilt, sazm=sazm, pitch=pitch, clearance_height=clearance_height, \n",
    "         rowType=rowType, transFactor=transFactor, sensorsy=sensorsy, \n",
    "         PVfrontSurface=PVfrontSurface, PVbackSurface=PVbackSurface, \n",
    "         albedo=albedo, tracking=tracking, backtrack=backtrack, \n",
    "         limit_angle=limit_angle, deltastyle=deltastyle)\n",
    "\n"
   ]
  },
  {
   "cell_type": "markdown",
   "id": "01d236ff",
   "metadata": {},
   "source": [
    "<a id='step5'></a>"
   ]
  },
  {
   "cell_type": "markdown",
   "id": "627ef051",
   "metadata": {},
   "source": [
    "# 5. Load the results from the resultfile\n"
   ]
  },
  {
   "cell_type": "code",
   "execution_count": 23,
   "id": "c302b335",
   "metadata": {},
   "outputs": [
    {
     "name": "stdout",
     "output_type": "stream",
     "text": [
      "The bifacial ratio for ground clearance 0.4 and rtr spacing 1.5 is: 15.6%\n"
     ]
    }
   ],
   "source": [
    "from bifacialvf import loadVFresults\n",
    "(data, metadata) = loadVFresults(writefiletitle)\n",
    "\n",
    "# calculate average front and back global tilted irradiance across the module chord\n",
    "data['GTIFrontavg'] = data[['No_1_RowFrontGTI', 'No_2_RowFrontGTI','No_3_RowFrontGTI','No_4_RowFrontGTI','No_5_RowFrontGTI','No_6_RowFrontGTI']].mean(axis=1)\n",
    "data['GTIBackavg'] = data[['No_1_RowBackGTI', 'No_2_RowBackGTI','No_3_RowBackGTI','No_4_RowBackGTI','No_5_RowBackGTI','No_6_RowBackGTI']].mean(axis=1)\n",
    "\n",
    "\n",
    "# Print the annual bifacial ratio\n",
    "frontIrrSum = data['GTIFrontavg'].sum()\n",
    "backIrrSum = data['GTIBackavg'].sum()\n",
    "print('The bifacial ratio for ground clearance {} and rtr spacing {} is: {:.1f}%'.format(clearance_height,pitch,backIrrSum/frontIrrSum*100))\n"
   ]
  },
  {
   "cell_type": "code",
   "execution_count": 24,
   "id": "2c09663e",
   "metadata": {},
   "outputs": [
    {
     "data": {
      "text/html": [
       "<div>\n",
       "<style scoped>\n",
       "    .dataframe tbody tr th:only-of-type {\n",
       "        vertical-align: middle;\n",
       "    }\n",
       "\n",
       "    .dataframe tbody tr th {\n",
       "        vertical-align: top;\n",
       "    }\n",
       "\n",
       "    .dataframe thead th {\n",
       "        text-align: right;\n",
       "    }\n",
       "</style>\n",
       "<table border=\"1\" class=\"dataframe\">\n",
       "  <thead>\n",
       "    <tr style=\"text-align: right;\">\n",
       "      <th></th>\n",
       "      <th>date</th>\n",
       "      <th>DNI</th>\n",
       "      <th>DHI</th>\n",
       "      <th>albedo</th>\n",
       "      <th>decHRs</th>\n",
       "      <th>ghi</th>\n",
       "      <th>inc</th>\n",
       "      <th>zen</th>\n",
       "      <th>azm</th>\n",
       "      <th>pvFrontSH</th>\n",
       "      <th>...</th>\n",
       "      <th>No_5_RowFrontGTI</th>\n",
       "      <th>No_6_RowFrontGTI</th>\n",
       "      <th>No_1_RowBackGTI</th>\n",
       "      <th>No_2_RowBackGTI</th>\n",
       "      <th>No_3_RowBackGTI</th>\n",
       "      <th>No_4_RowBackGTI</th>\n",
       "      <th>No_5_RowBackGTI</th>\n",
       "      <th>No_6_RowBackGTI</th>\n",
       "      <th>GTIFrontavg</th>\n",
       "      <th>GTIBackavg</th>\n",
       "    </tr>\n",
       "  </thead>\n",
       "  <tbody>\n",
       "    <tr>\n",
       "      <th>0</th>\n",
       "      <td>1965-01-01 08:00:00-05:00</td>\n",
       "      <td>39</td>\n",
       "      <td>14</td>\n",
       "      <td>0.62</td>\n",
       "      <td>7.5</td>\n",
       "      <td>15.513732</td>\n",
       "      <td>82.593396</td>\n",
       "      <td>87.775583</td>\n",
       "      <td>121.509048</td>\n",
       "      <td>0.548363</td>\n",
       "      <td>...</td>\n",
       "      <td>15.829189</td>\n",
       "      <td>15.842958</td>\n",
       "      <td>2.720917</td>\n",
       "      <td>2.481854</td>\n",
       "      <td>2.416821</td>\n",
       "      <td>2.522916</td>\n",
       "      <td>2.717758</td>\n",
       "      <td>2.898926</td>\n",
       "      <td>14.254926</td>\n",
       "      <td>2.626532</td>\n",
       "    </tr>\n",
       "    <tr>\n",
       "      <th>1</th>\n",
       "      <td>1965-01-01 09:00:00-05:00</td>\n",
       "      <td>239</td>\n",
       "      <td>69</td>\n",
       "      <td>0.62</td>\n",
       "      <td>8.5</td>\n",
       "      <td>110.414861</td>\n",
       "      <td>73.784823</td>\n",
       "      <td>80.021191</td>\n",
       "      <td>129.418096</td>\n",
       "      <td>0.069185</td>\n",
       "      <td>...</td>\n",
       "      <td>123.726823</td>\n",
       "      <td>123.846346</td>\n",
       "      <td>11.020498</td>\n",
       "      <td>10.114008</td>\n",
       "      <td>9.859451</td>\n",
       "      <td>10.305024</td>\n",
       "      <td>11.102256</td>\n",
       "      <td>11.803189</td>\n",
       "      <td>118.105112</td>\n",
       "      <td>10.700738</td>\n",
       "    </tr>\n",
       "    <tr>\n",
       "      <th>2</th>\n",
       "      <td>1965-01-01 10:00:00-05:00</td>\n",
       "      <td>3</td>\n",
       "      <td>88</td>\n",
       "      <td>0.62</td>\n",
       "      <td>9.5</td>\n",
       "      <td>88.946539</td>\n",
       "      <td>64.007516</td>\n",
       "      <td>71.608218</td>\n",
       "      <td>140.711789</td>\n",
       "      <td>0.000000</td>\n",
       "      <td>...</td>\n",
       "      <td>84.250417</td>\n",
       "      <td>84.202642</td>\n",
       "      <td>16.495967</td>\n",
       "      <td>15.009433</td>\n",
       "      <td>14.654344</td>\n",
       "      <td>15.291137</td>\n",
       "      <td>16.442516</td>\n",
       "      <td>17.544095</td>\n",
       "      <td>83.942392</td>\n",
       "      <td>15.906249</td>\n",
       "    </tr>\n",
       "    <tr>\n",
       "      <th>3</th>\n",
       "      <td>1965-01-01 11:00:00-05:00</td>\n",
       "      <td>7</td>\n",
       "      <td>156</td>\n",
       "      <td>0.62</td>\n",
       "      <td>10.5</td>\n",
       "      <td>158.940463</td>\n",
       "      <td>56.279828</td>\n",
       "      <td>65.161237</td>\n",
       "      <td>153.848480</td>\n",
       "      <td>0.000000</td>\n",
       "      <td>...</td>\n",
       "      <td>153.485293</td>\n",
       "      <td>153.416869</td>\n",
       "      <td>28.336481</td>\n",
       "      <td>26.117027</td>\n",
       "      <td>25.902736</td>\n",
       "      <td>27.229144</td>\n",
       "      <td>29.042151</td>\n",
       "      <td>30.540968</td>\n",
       "      <td>152.929903</td>\n",
       "      <td>27.861418</td>\n",
       "    </tr>\n",
       "    <tr>\n",
       "      <th>4</th>\n",
       "      <td>1965-01-01 12:00:00-05:00</td>\n",
       "      <td>0</td>\n",
       "      <td>186</td>\n",
       "      <td>0.62</td>\n",
       "      <td>11.5</td>\n",
       "      <td>186.000000</td>\n",
       "      <td>51.542384</td>\n",
       "      <td>61.326212</td>\n",
       "      <td>168.706528</td>\n",
       "      <td>0.000000</td>\n",
       "      <td>...</td>\n",
       "      <td>179.177936</td>\n",
       "      <td>179.103318</td>\n",
       "      <td>33.564375</td>\n",
       "      <td>31.095536</td>\n",
       "      <td>30.913941</td>\n",
       "      <td>32.320596</td>\n",
       "      <td>34.215246</td>\n",
       "      <td>35.894571</td>\n",
       "      <td>178.506523</td>\n",
       "      <td>33.000711</td>\n",
       "    </tr>\n",
       "    <tr>\n",
       "      <th>...</th>\n",
       "      <td>...</td>\n",
       "      <td>...</td>\n",
       "      <td>...</td>\n",
       "      <td>...</td>\n",
       "      <td>...</td>\n",
       "      <td>...</td>\n",
       "      <td>...</td>\n",
       "      <td>...</td>\n",
       "      <td>...</td>\n",
       "      <td>...</td>\n",
       "      <td>...</td>\n",
       "      <td>...</td>\n",
       "      <td>...</td>\n",
       "      <td>...</td>\n",
       "      <td>...</td>\n",
       "      <td>...</td>\n",
       "      <td>...</td>\n",
       "      <td>...</td>\n",
       "      <td>...</td>\n",
       "      <td>...</td>\n",
       "      <td>...</td>\n",
       "    </tr>\n",
       "    <tr>\n",
       "      <th>4377</th>\n",
       "      <td>1970-12-31 13:00:00-05:00</td>\n",
       "      <td>1</td>\n",
       "      <td>242</td>\n",
       "      <td>0.62</td>\n",
       "      <td>12.5</td>\n",
       "      <td>242.488791</td>\n",
       "      <td>50.775762</td>\n",
       "      <td>60.738863</td>\n",
       "      <td>184.650638</td>\n",
       "      <td>0.000000</td>\n",
       "      <td>...</td>\n",
       "      <td>237.588996</td>\n",
       "      <td>237.509847</td>\n",
       "      <td>42.080540</td>\n",
       "      <td>39.375203</td>\n",
       "      <td>39.529076</td>\n",
       "      <td>41.388331</td>\n",
       "      <td>43.496027</td>\n",
       "      <td>45.244617</td>\n",
       "      <td>236.722121</td>\n",
       "      <td>41.852299</td>\n",
       "    </tr>\n",
       "    <tr>\n",
       "      <th>4378</th>\n",
       "      <td>1970-12-31 14:00:00-05:00</td>\n",
       "      <td>0</td>\n",
       "      <td>240</td>\n",
       "      <td>0.62</td>\n",
       "      <td>13.5</td>\n",
       "      <td>240.000000</td>\n",
       "      <td>53.952112</td>\n",
       "      <td>63.285848</td>\n",
       "      <td>200.008098</td>\n",
       "      <td>0.000000</td>\n",
       "      <td>...</td>\n",
       "      <td>236.276011</td>\n",
       "      <td>236.199294</td>\n",
       "      <td>41.070504</td>\n",
       "      <td>38.393510</td>\n",
       "      <td>38.647338</td>\n",
       "      <td>40.762078</td>\n",
       "      <td>43.032810</td>\n",
       "      <td>44.682666</td>\n",
       "      <td>235.428144</td>\n",
       "      <td>41.098151</td>\n",
       "    </tr>\n",
       "    <tr>\n",
       "      <th>4379</th>\n",
       "      <td>1970-12-31 15:00:00-05:00</td>\n",
       "      <td>3</td>\n",
       "      <td>175</td>\n",
       "      <td>0.62</td>\n",
       "      <td>14.5</td>\n",
       "      <td>176.090220</td>\n",
       "      <td>60.518083</td>\n",
       "      <td>68.690439</td>\n",
       "      <td>213.908216</td>\n",
       "      <td>0.000000</td>\n",
       "      <td>...</td>\n",
       "      <td>172.086086</td>\n",
       "      <td>172.017603</td>\n",
       "      <td>30.336585</td>\n",
       "      <td>27.897848</td>\n",
       "      <td>27.644687</td>\n",
       "      <td>29.207474</td>\n",
       "      <td>31.419900</td>\n",
       "      <td>33.130570</td>\n",
       "      <td>171.478063</td>\n",
       "      <td>29.939511</td>\n",
       "    </tr>\n",
       "    <tr>\n",
       "      <th>4380</th>\n",
       "      <td>1970-12-31 16:00:00-05:00</td>\n",
       "      <td>2</td>\n",
       "      <td>114</td>\n",
       "      <td>0.62</td>\n",
       "      <td>15.5</td>\n",
       "      <td>114.472518</td>\n",
       "      <td>69.513942</td>\n",
       "      <td>76.334160</td>\n",
       "      <td>225.953424</td>\n",
       "      <td>0.000000</td>\n",
       "      <td>...</td>\n",
       "      <td>111.453039</td>\n",
       "      <td>111.402451</td>\n",
       "      <td>19.642107</td>\n",
       "      <td>17.846724</td>\n",
       "      <td>17.380480</td>\n",
       "      <td>18.083551</td>\n",
       "      <td>19.419690</td>\n",
       "      <td>20.752516</td>\n",
       "      <td>111.068916</td>\n",
       "      <td>18.854178</td>\n",
       "    </tr>\n",
       "    <tr>\n",
       "      <th>4381</th>\n",
       "      <td>1970-12-31 17:00:00-05:00</td>\n",
       "      <td>1</td>\n",
       "      <td>33</td>\n",
       "      <td>0.62</td>\n",
       "      <td>16.5</td>\n",
       "      <td>33.076757</td>\n",
       "      <td>80.117035</td>\n",
       "      <td>85.597828</td>\n",
       "      <td>236.307165</td>\n",
       "      <td>0.329190</td>\n",
       "      <td>...</td>\n",
       "      <td>31.492000</td>\n",
       "      <td>31.473166</td>\n",
       "      <td>5.983556</td>\n",
       "      <td>5.435243</td>\n",
       "      <td>5.291367</td>\n",
       "      <td>5.501326</td>\n",
       "      <td>5.901942</td>\n",
       "      <td>6.302795</td>\n",
       "      <td>30.518651</td>\n",
       "      <td>5.736038</td>\n",
       "    </tr>\n",
       "  </tbody>\n",
       "</table>\n",
       "<p>4382 rows × 32 columns</p>\n",
       "</div>"
      ],
      "text/plain": [
       "                           date  DNI  DHI  albedo  decHRs         ghi  \\\n",
       "0     1965-01-01 08:00:00-05:00   39   14    0.62     7.5   15.513732   \n",
       "1     1965-01-01 09:00:00-05:00  239   69    0.62     8.5  110.414861   \n",
       "2     1965-01-01 10:00:00-05:00    3   88    0.62     9.5   88.946539   \n",
       "3     1965-01-01 11:00:00-05:00    7  156    0.62    10.5  158.940463   \n",
       "4     1965-01-01 12:00:00-05:00    0  186    0.62    11.5  186.000000   \n",
       "...                         ...  ...  ...     ...     ...         ...   \n",
       "4377  1970-12-31 13:00:00-05:00    1  242    0.62    12.5  242.488791   \n",
       "4378  1970-12-31 14:00:00-05:00    0  240    0.62    13.5  240.000000   \n",
       "4379  1970-12-31 15:00:00-05:00    3  175    0.62    14.5  176.090220   \n",
       "4380  1970-12-31 16:00:00-05:00    2  114    0.62    15.5  114.472518   \n",
       "4381  1970-12-31 17:00:00-05:00    1   33    0.62    16.5   33.076757   \n",
       "\n",
       "            inc        zen         azm  pvFrontSH  ...  No_5_RowFrontGTI  \\\n",
       "0     82.593396  87.775583  121.509048   0.548363  ...         15.829189   \n",
       "1     73.784823  80.021191  129.418096   0.069185  ...        123.726823   \n",
       "2     64.007516  71.608218  140.711789   0.000000  ...         84.250417   \n",
       "3     56.279828  65.161237  153.848480   0.000000  ...        153.485293   \n",
       "4     51.542384  61.326212  168.706528   0.000000  ...        179.177936   \n",
       "...         ...        ...         ...        ...  ...               ...   \n",
       "4377  50.775762  60.738863  184.650638   0.000000  ...        237.588996   \n",
       "4378  53.952112  63.285848  200.008098   0.000000  ...        236.276011   \n",
       "4379  60.518083  68.690439  213.908216   0.000000  ...        172.086086   \n",
       "4380  69.513942  76.334160  225.953424   0.000000  ...        111.453039   \n",
       "4381  80.117035  85.597828  236.307165   0.329190  ...         31.492000   \n",
       "\n",
       "      No_6_RowFrontGTI  No_1_RowBackGTI  No_2_RowBackGTI  No_3_RowBackGTI  \\\n",
       "0            15.842958         2.720917         2.481854         2.416821   \n",
       "1           123.846346        11.020498        10.114008         9.859451   \n",
       "2            84.202642        16.495967        15.009433        14.654344   \n",
       "3           153.416869        28.336481        26.117027        25.902736   \n",
       "4           179.103318        33.564375        31.095536        30.913941   \n",
       "...                ...              ...              ...              ...   \n",
       "4377        237.509847        42.080540        39.375203        39.529076   \n",
       "4378        236.199294        41.070504        38.393510        38.647338   \n",
       "4379        172.017603        30.336585        27.897848        27.644687   \n",
       "4380        111.402451        19.642107        17.846724        17.380480   \n",
       "4381         31.473166         5.983556         5.435243         5.291367   \n",
       "\n",
       "      No_4_RowBackGTI  No_5_RowBackGTI  No_6_RowBackGTI  GTIFrontavg  \\\n",
       "0            2.522916         2.717758         2.898926    14.254926   \n",
       "1           10.305024        11.102256        11.803189   118.105112   \n",
       "2           15.291137        16.442516        17.544095    83.942392   \n",
       "3           27.229144        29.042151        30.540968   152.929903   \n",
       "4           32.320596        34.215246        35.894571   178.506523   \n",
       "...               ...              ...              ...          ...   \n",
       "4377        41.388331        43.496027        45.244617   236.722121   \n",
       "4378        40.762078        43.032810        44.682666   235.428144   \n",
       "4379        29.207474        31.419900        33.130570   171.478063   \n",
       "4380        18.083551        19.419690        20.752516   111.068916   \n",
       "4381         5.501326         5.901942         6.302795    30.518651   \n",
       "\n",
       "      GTIBackavg  \n",
       "0       2.626532  \n",
       "1      10.700738  \n",
       "2      15.906249  \n",
       "3      27.861418  \n",
       "4      33.000711  \n",
       "...          ...  \n",
       "4377   41.852299  \n",
       "4378   41.098151  \n",
       "4379   29.939511  \n",
       "4380   18.854178  \n",
       "4381    5.736038  \n",
       "\n",
       "[4382 rows x 32 columns]"
      ]
     },
     "execution_count": 24,
     "metadata": {},
     "output_type": "execute_result"
    }
   ],
   "source": [
    "data"
   ]
  },
  {
   "cell_type": "markdown",
   "id": "829cab15",
   "metadata": {},
   "source": [
    "# 6. Plot some results "
   ]
  },
  {
   "cell_type": "code",
   "execution_count": 41,
   "id": "9b5b2505",
   "metadata": {},
   "outputs": [
    {
     "data": {
      "image/png": "[encoded data removed]",
      "text/plain": [
       "<Figure size 432x288 with 2 Axes>"
      ]
     },
     "metadata": {
      "needs_background": "light"
     },
     "output_type": "display_data"
    },
    {
     "data": {
      "image/png": "[encoded data removed]",
      "text/plain": [
       "<Figure size 432x288 with 2 Axes>"
      ]
     },
     "metadata": {
      "needs_background": "light"
     },
     "output_type": "display_data"
    }
   ],
   "source": [
    "# plot the rear irradiance distribution for a single point in time. 1999-07-06\n",
    "import matplotlib.pyplot as plt\n",
    "import pandas as pd\n",
    "%matplotlib inline\n",
    "\n",
    "data['GTIBackstd'] = data[['No_1_RowBackGTI', 'No_2_RowBackGTI','No_3_RowBackGTI','No_4_RowBackGTI','No_5_RowBackGTI','No_6_RowBackGTI']].std(axis=1)\n",
    "data.set_index(pd.to_datetime(data['date']), inplace=True, drop=True)\n",
    "data.index = data.index.map(lambda t: t.replace(year=2021))   # Chagning to be the same year\n",
    "singleday = (data.index > '2021-07-09') & (data.index<'2021-07-10')\n",
    "singleday2 = (data.index > '2021-07-15') & (data.index<'2021-07-16')\n",
    "\n",
    "fig, ax = plt.subplots()\n",
    "ax1 = ax.twinx()\n",
    "ax1.plot(data.index[singleday],data['GTIFrontavg'][singleday],'k')\n",
    "ax1.set_ylabel('Front Irradiance (Wm-2)')\n",
    "ax.set_ylabel('Rear Irradiance (Wm-2)')\n",
    "ax.plot(data.index[singleday], data['No_1_RowBackGTI'][singleday],'r' , alpha =0.5)\n",
    "ax.plot(data.index[singleday], data['No_2_RowBackGTI'][singleday], 'b', alpha = 0.5)\n",
    "ax.plot(data.index[singleday], data['No_6_RowBackGTI'][singleday], 'g', alpha = 0.5)\n",
    "ax.set_title('Sunny day')\n",
    "fig.autofmt_xdate()\n",
    "fig.tight_layout()\n",
    "\n",
    "\n",
    "fig2, ax2 = plt.subplots()\n",
    "ax3 = ax2.twinx()\n",
    "ax3.plot(data.index[singleday2],data['GTIFrontavg'][singleday2],'k')\n",
    "ax3.set_ylabel('Front Irradiance (Wm-2)')\n",
    "ax2.set_ylabel('Rear Irradiance (Wm-2)')\n",
    "ax2.plot(data.index[singleday2], data['No_1_RowBackGTI'][singleday2],'r' , alpha =0.5)\n",
    "ax2.plot(data.index[singleday2], data['No_2_RowBackGTI'][singleday2], 'b', alpha = 0.5)\n",
    "ax2.plot(data.index[singleday2], data['No_6_RowBackGTI'][singleday2], 'g', alpha = 0.5)\n",
    "ax2.set_title('Cloudy day')\n",
    "fig2.autofmt_xdate()\n",
    "fig2.tight_layout()\n"
   ]
  }
 ],
 "metadata": {
  "kernelspec": {
   "display_name": "Python 3 (ipykernel)",
   "language": "python",
   "name": "python3"
  },
  "language_info": {
   "codemirror_mode": {
    "name": "ipython",
    "version": 3
   },
   "file_extension": ".py",
   "mimetype": "text/x-python",
   "name": "python",
   "nbconvert_exporter": "python",
   "pygments_lexer": "ipython3",
   "version": "3.8.8"
  }
 },
 "nbformat": 4,
 "nbformat_minor": 5
}
