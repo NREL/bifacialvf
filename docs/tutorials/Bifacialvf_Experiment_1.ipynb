{
 "cells": [
  {
   "cell_type": "markdown",
   "id": "967a8149",
   "metadata": {},
   "source": [
    "# 2 - Introductory Example: Ground Irradiance Analysis for AgriPV\n",
    "\n",
    "This journal supports the process of designing a solar panel configuration to appropriately represent and Agripv setup with varying parameters in bifacialvf.\n",
    "The goal of this journal is to test and compare the irradiance values when changing certain parameters. Only one paramater is changed at a time. \n",
    "The results of this journal are used in the Radiance_Experiment_1 compare them to Radiance results, calculating accuracy as a percent difference.\n",
    "(<a href=\"http://localhost:8888/notebooks/Documents/GitHub/bifacial_radiance/docs/tutorials/BifacialRadiance_Experiment_1.ipynb\">BifacialRadiance_Experiment_1</a>)\n",
    "\n",
    "Details:\n",
    "*\tLocation: lat = 32.25, -110.9 (Tuscon, Arizona)\n",
    "*\tRacking: Fixed-tilt panels\n",
    "*\tPanel size: 1m x 2m                                    \n",
    "*\tAnalysis variations:\n",
    "<ul> <li> a.\tPanel tilt: would like to examine angles 20,30 degrees. \n",
    "<li> b.\tClearance Height: would like to look at multiple heights ([0.25, 0.5, 0.75, 1, 1.5, 2 m) </li> \n",
    "<li> c.\tGround Coverage Ratio (GCR) (E/W): would like to look at multiple GCRs (0.28, 0.33, 0.4, 0.6) </li> \n",
    "<li> d. Ygaps: Looking at multiple Ygaps in the modules. (0, 0.1, 0.2, 0.3, 0.5, 1) </li>\n"
   ]
  },
  {
   "cell_type": "code",
   "execution_count": 1,
   "id": "a2877703",
   "metadata": {},
   "outputs": [],
   "source": [
    "from pathlib import Path\n",
    "import os\n",
    "import bifacialvf\n",
    "import matplotlib.pyplot as plt\n",
    "import numpy as np\n",
    "import pandas as pd\n",
    "import seaborn as sns\n",
    "\n",
    "# IO Files\n",
    "testfolder = Path().resolve().parent.parent / 'bifacialvf' / 'TEMP' / 'Experiment_1'\n",
    "if not os.path.exists(testfolder):\n",
    "    os.makedirs(testfolder)"
   ]
  },
  {
   "cell_type": "code",
   "execution_count": 2,
   "id": "11fd7462",
   "metadata": {
    "scrolled": true
   },
   "outputs": [],
   "source": [
    "# Variables\n",
    "\n",
    "months = ['May','Jun','Jul','Aug','Sep','Oct']\n",
    "lat = 32.25\n",
    "lon = -110.9  #Lat and Long for Tuscon Arizona           \n",
    "sazm = 180                  \n",
    "albedo = 0.31  \n",
    "x = 1\n",
    "y = 2 \n",
    "rowType = \"interior\"        # RowType(first interior last single)\n",
    "transFactor = 0             # TransmissionFactor(open area fraction)\n",
    "sensorsy = 12   # sensorsy(# hor rows in panel)   <--> THIS ASSUMES LANDSCAPE ORIENTATION \n",
    "PVfrontSurface = \"glass\"    # PVfrontSurface(glass or ARglass)\n",
    "PVbackSurface = \"glass\"     # PVbackSurface(glass or ARglass)\n",
    "agriPV = True\n",
    "numpanels = 1\n",
    "CW = y * numpanels\n",
    "\n",
    "#Arrays for loops\n",
    "tilts = [20,30]  \n",
    "clearance_heights = np.array([0.25,0.5,0.75,1,1.5,2]) \n",
    "GCRs = [0.28,0.33,0.4,0.6]\n",
    "\n",
    "#Defaults\n",
    "tilt_def = tilts[0]\n",
    "clearance_height_def = clearance_heights[2]\n",
    "GCR_def = GCRs[1]\n",
    "pitch_def = CW/GCR_def/CW\n",
    "module_place = CW/GCR_def\n",
    " \n",
    "# Tracking instructions\n",
    "tracking=False\n",
    "backtrack=False\n",
    "limit_angle = 65\n",
    "\n",
    "\n",
    "\n"
   ]
  },
  {
   "cell_type": "code",
   "execution_count": 3,
   "id": "fe1ae02e",
   "metadata": {},
   "outputs": [
    {
     "name": "stdout",
     "output_type": "stream",
     "text": [
      "path = C:\\Users\\jjones\\Documents\\GitHub\\bifacialvf\\bifacialvf\\TEMP\\Experiment_1\n",
      "Getting weather file: USA_AZ_Davis-Monthan.AFB.722745_TMY3.epw\n",
      " ... OK!\n"
     ]
    }
   ],
   "source": [
    "#Get weather file for Tuscon AZ\n",
    "TMYtoread=bifacialvf.getEPW(lat=lat,lon=lon, path = testfolder)\n",
    "myTMY3, meta = bifacialvf.readInputTMY(TMYtoread)\n",
    "deltastyle = 'TMY3'"
   ]
  },
  {
   "cell_type": "markdown",
   "id": "ce381ea2",
   "metadata": {},
   "source": [
    "## Experiment for tilt"
   ]
  },
  {
   "cell_type": "code",
   "execution_count": 4,
   "id": "a34742f6",
   "metadata": {},
   "outputs": [
    {
     "name": "stdout",
     "output_type": "stream",
     "text": [
      "Calculating Sun position with a delta of -30 mins. i.e. 12 is 11:30 sunpos\n",
      "Albedo value passed, but also present in TMY3 file.  Using albedo value passed. To use the ones in TMY3 file re-run simulation with albedo=None\n",
      "\n",
      " \n",
      "********* \n",
      "Running Simulation for TMY3: \n",
      "Location:   Davis Monthan Afb\n",
      "Lat:  32.17  Long:  -110.88  Tz  -7.0\n",
      "Parameters: tilt:  20   Sazm:  180     Clearance_Height :  0.75   Pitch:  3.0303030303030303   Row type:  interior   Albedo:  0.31\n",
      "Saving into C:\\Users\\jjones\\Documents\\GitHub\\bifacialvf\\bifacialvf\\TEMP\\Experiment_1\\Results_Test_Tilt_20.csv\n",
      " \n",
      " \n",
      "Distance between rows for no shading on Dec 21 at 9 am solar time =  0.7447282075136877\n",
      "Actual distance between rows =  2.090610409517122\n",
      " \n",
      "Saving Ground Irradiance Values for AgriPV Analysis. \n"
     ]
    },
    {
     "name": "stderr",
     "output_type": "stream",
     "text": [
      "100%|██████████████████████████████████████████████████████████████████████████████| 8760/8760 [01:58<00:00, 73.75it/s]\n"
     ]
    },
    {
     "name": "stdout",
     "output_type": "stream",
     "text": [
      "Finished\n",
      "Albedo value passed, but also present in TMY3 file.  Using albedo value passed. To use the ones in TMY3 file re-run simulation with albedo=None\n",
      "\n",
      " \n",
      "********* \n",
      "Running Simulation for TMY3: \n",
      "Location:   Davis Monthan Afb\n",
      "Lat:  32.17  Long:  -110.88  Tz  -7.0\n",
      "Parameters: tilt:  30   Sazm:  180     Clearance_Height :  0.75   Pitch:  3.0303030303030303   Row type:  interior   Albedo:  0.31\n",
      "Saving into C:\\Users\\jjones\\Documents\\GitHub\\bifacialvf\\bifacialvf\\TEMP\\Experiment_1\\Results_Test_Tilt_30.csv\n",
      " \n",
      " \n",
      "Distance between rows for no shading on Dec 21 at 9 am solar time =  1.0887198050270444\n",
      "Actual distance between rows =  2.1642776265185915\n",
      " \n",
      "Saving Ground Irradiance Values for AgriPV Analysis. \n"
     ]
    },
    {
     "name": "stderr",
     "output_type": "stream",
     "text": [
      "100%|██████████████████████████████████████████████████████████████████████████████| 8760/8760 [02:06<00:00, 69.02it/s]"
     ]
    },
    {
     "name": "stdout",
     "output_type": "stream",
     "text": [
      "Finished\n"
     ]
    },
    {
     "name": "stderr",
     "output_type": "stream",
     "text": [
      "\n"
     ]
    }
   ],
   "source": [
    "for ti in range (0, len(tilts)):\n",
    "    #Build scene and run bifacialvf for all tilts\n",
    "    tilt = tilts[ti]\n",
    "    writefiletitle = os.path.join(testfolder, 'Results_Test_Tilt_'+str(tilt)+'.csv')\n",
    "    bifacialvf.simulate(myTMY3, meta, writefiletitle=writefiletitle, \n",
    "                        tilt=tilt, sazm=sazm, pitch=pitch_def, clearance_height=clearance_height_def, \n",
    "                        rowType=rowType, transFactor=transFactor, sensorsy=sensorsy, \n",
    "                        PVfrontSurface=PVfrontSurface, PVbackSurface=PVbackSurface, \n",
    "                        albedo=albedo, tracking=tracking, backtrack=backtrack, \n",
    "                        limit_angle=limit_angle, deltastyle=deltastyle, agriPV=True)\n"
   ]
  },
  {
   "cell_type": "code",
   "execution_count": 5,
   "id": "503dc284",
   "metadata": {},
   "outputs": [
    {
     "data": {
      "image/png": "[encoded data removed]",
      "text/plain": [
       "<Figure size 432x288 with 1 Axes>"
      ]
     },
     "metadata": {
      "needs_background": "light"
     },
     "output_type": "display_data"
    }
   ],
   "source": [
    "# Graph Tilts\n",
    "for ti in range (0, len(tilts)):\n",
    "    tilt = tilts[ti]\n",
    "    writefiletitle = os.path.join(testfolder, 'Results_Test_Tilt_'+str(tilt)+'.csv')\n",
    "    #Load the results from the resultfile\n",
    "    from bifacialvf import loadVFresults\n",
    "    (data, metadata) = loadVFresults(writefiletitle)\n",
    "    #Work with data in resultfile\n",
    "    data.set_index(pd.to_datetime(data['date']), inplace=True, drop=True)\n",
    "    data.index = data.index.map(lambda t: t.replace(year=2021))   # Chagning to be the same year\n",
    "    groundIrrads = data['Ground Irradiance Values'].str.strip('[]').str.split(' ', expand=True).astype(float)\n",
    "    df = groundIrrads.groupby([pd.Grouper(freq='M')]).sum().T\n",
    "    df.rename(columns={ df.columns[0]: \"Jan\", df.columns[1]: \"Feb\",df.columns[2]: \"Mar\", df.columns[3]: \"Apr\",\n",
    "\n",
    "                       df.columns[4]: \"May\",df.columns[5]: \"Jun\",df.columns[6]: \"Jul\",df.columns[7]: \"Aug\",\n",
    "                       df.columns[8]: \"Sep\",df.columns[9]: \"Oct\",df.columns[10]: \"Nov\",df.columns[11]: \"Dec\"    }, inplace = True)\n",
    "    x_axis = list(range(1,101))\n",
    "    plt.figure(1)\n",
    "    VF = plt.plot(x_axis, df['Jun']/1000, label=tilt)\n",
    "    module_end = (2/module_place)*100 #Percentage between rows where the module ends)\n",
    "    plt.axvspan(0, module_end, alpha=.05, color='green')\n",
    "    plt.title('Bifacial_VF')\n",
    "    plt.ylim([0, 260])\n",
    "    plt.xlabel('Position between start of row and next row [%]')\n",
    "    plt.ylabel('Cumulative Insolation for the month [kWh/m2]')\n",
    "    plt.legend()"
   ]
  },
  {
   "cell_type": "markdown",
   "id": "2b37bad6",
   "metadata": {},
   "source": [
    "## Experiment for Clearance height"
   ]
  },
  {
   "cell_type": "code",
   "execution_count": 6,
   "id": "988b9d7a",
   "metadata": {},
   "outputs": [
    {
     "name": "stdout",
     "output_type": "stream",
     "text": [
      "Albedo value passed, but also present in TMY3 file.  Using albedo value passed. To use the ones in TMY3 file re-run simulation with albedo=None\n",
      "\n",
      " \n",
      "********* \n",
      "Running Simulation for TMY3: \n",
      "Location:   Davis Monthan Afb\n",
      "Lat:  32.17  Long:  -110.88  Tz  -7.0\n",
      "Parameters: tilt:  20   Sazm:  180     Clearance_Height :  0.125   Pitch:  3.0303030303030303   Row type:  interior   Albedo:  0.31\n",
      "Saving into C:\\Users\\jjones\\Documents\\GitHub\\bifacialvf\\bifacialvf\\TEMP\\Experiment_1\\Results_Test_ClearanceHeight_0.25.csv\n",
      " \n",
      " \n",
      "Distance between rows for no shading on Dec 21 at 9 am solar time =  0.7447282075136877\n",
      "Actual distance between rows =  2.090610409517122\n",
      " \n",
      "Saving Ground Irradiance Values for AgriPV Analysis. \n"
     ]
    },
    {
     "name": "stderr",
     "output_type": "stream",
     "text": [
      "100%|██████████████████████████████████████████████████████████████████████████████| 8760/8760 [01:32<00:00, 94.63it/s]\n"
     ]
    },
    {
     "name": "stdout",
     "output_type": "stream",
     "text": [
      "Finished\n",
      "Albedo value passed, but also present in TMY3 file.  Using albedo value passed. To use the ones in TMY3 file re-run simulation with albedo=None\n",
      "\n",
      " \n",
      "********* \n",
      "Running Simulation for TMY3: \n",
      "Location:   Davis Monthan Afb\n",
      "Lat:  32.17  Long:  -110.88  Tz  -7.0\n",
      "Parameters: tilt:  20   Sazm:  180     Clearance_Height :  0.25   Pitch:  3.0303030303030303   Row type:  interior   Albedo:  0.31\n",
      "Saving into C:\\Users\\jjones\\Documents\\GitHub\\bifacialvf\\bifacialvf\\TEMP\\Experiment_1\\Results_Test_ClearanceHeight_0.5.csv\n",
      " \n",
      " \n",
      "Distance between rows for no shading on Dec 21 at 9 am solar time =  0.7447282075136877\n",
      "Actual distance between rows =  2.090610409517122\n",
      " \n",
      "Saving Ground Irradiance Values for AgriPV Analysis. \n"
     ]
    },
    {
     "name": "stderr",
     "output_type": "stream",
     "text": [
      "100%|██████████████████████████████████████████████████████████████████████████████| 8760/8760 [01:35<00:00, 91.31it/s]\n"
     ]
    },
    {
     "name": "stdout",
     "output_type": "stream",
     "text": [
      "Finished\n",
      "Albedo value passed, but also present in TMY3 file.  Using albedo value passed. To use the ones in TMY3 file re-run simulation with albedo=None\n",
      "\n",
      " \n",
      "********* \n",
      "Running Simulation for TMY3: \n",
      "Location:   Davis Monthan Afb\n",
      "Lat:  32.17  Long:  -110.88  Tz  -7.0\n",
      "Parameters: tilt:  20   Sazm:  180     Clearance_Height :  0.375   Pitch:  3.0303030303030303   Row type:  interior   Albedo:  0.31\n",
      "Saving into C:\\Users\\jjones\\Documents\\GitHub\\bifacialvf\\bifacialvf\\TEMP\\Experiment_1\\Results_Test_ClearanceHeight_0.75.csv\n",
      " \n",
      " \n",
      "Distance between rows for no shading on Dec 21 at 9 am solar time =  0.7447282075136877\n",
      "Actual distance between rows =  2.090610409517122\n",
      " \n",
      "Saving Ground Irradiance Values for AgriPV Analysis. \n"
     ]
    },
    {
     "name": "stderr",
     "output_type": "stream",
     "text": [
      "100%|██████████████████████████████████████████████████████████████████████████████| 8760/8760 [01:37<00:00, 89.65it/s]\n"
     ]
    },
    {
     "name": "stdout",
     "output_type": "stream",
     "text": [
      "Finished\n",
      "Albedo value passed, but also present in TMY3 file.  Using albedo value passed. To use the ones in TMY3 file re-run simulation with albedo=None\n",
      "\n",
      " \n",
      "********* \n",
      "Running Simulation for TMY3: \n",
      "Location:   Davis Monthan Afb\n",
      "Lat:  32.17  Long:  -110.88  Tz  -7.0\n",
      "Parameters: tilt:  20   Sazm:  180     Clearance_Height :  0.5   Pitch:  3.0303030303030303   Row type:  interior   Albedo:  0.31\n",
      "Saving into C:\\Users\\jjones\\Documents\\GitHub\\bifacialvf\\bifacialvf\\TEMP\\Experiment_1\\Results_Test_ClearanceHeight_1.0.csv\n",
      " \n",
      " \n",
      "Distance between rows for no shading on Dec 21 at 9 am solar time =  0.7447282075136877\n",
      "Actual distance between rows =  2.090610409517122\n",
      " \n",
      "Saving Ground Irradiance Values for AgriPV Analysis. \n"
     ]
    },
    {
     "name": "stderr",
     "output_type": "stream",
     "text": [
      "100%|██████████████████████████████████████████████████████████████████████████████| 8760/8760 [01:45<00:00, 83.00it/s]\n"
     ]
    },
    {
     "name": "stdout",
     "output_type": "stream",
     "text": [
      "Finished\n",
      "Albedo value passed, but also present in TMY3 file.  Using albedo value passed. To use the ones in TMY3 file re-run simulation with albedo=None\n",
      "\n",
      " \n",
      "********* \n",
      "Running Simulation for TMY3: \n",
      "Location:   Davis Monthan Afb\n",
      "Lat:  32.17  Long:  -110.88  Tz  -7.0\n",
      "Parameters: tilt:  20   Sazm:  180     Clearance_Height :  0.75   Pitch:  3.0303030303030303   Row type:  interior   Albedo:  0.31\n",
      "Saving into C:\\Users\\jjones\\Documents\\GitHub\\bifacialvf\\bifacialvf\\TEMP\\Experiment_1\\Results_Test_ClearanceHeight_1.5.csv\n",
      " \n",
      " \n",
      "Distance between rows for no shading on Dec 21 at 9 am solar time =  0.7447282075136877\n",
      "Actual distance between rows =  2.090610409517122\n",
      " \n",
      "Saving Ground Irradiance Values for AgriPV Analysis. \n"
     ]
    },
    {
     "name": "stderr",
     "output_type": "stream",
     "text": [
      "100%|██████████████████████████████████████████████████████████████████████████████| 8760/8760 [01:49<00:00, 80.36it/s]\n"
     ]
    },
    {
     "name": "stdout",
     "output_type": "stream",
     "text": [
      "Finished\n",
      "Albedo value passed, but also present in TMY3 file.  Using albedo value passed. To use the ones in TMY3 file re-run simulation with albedo=None\n",
      "\n",
      " \n",
      "********* \n",
      "Running Simulation for TMY3: \n",
      "Location:   Davis Monthan Afb\n",
      "Lat:  32.17  Long:  -110.88  Tz  -7.0\n",
      "Parameters: tilt:  20   Sazm:  180     Clearance_Height :  1.0   Pitch:  3.0303030303030303   Row type:  interior   Albedo:  0.31\n",
      "Saving into C:\\Users\\jjones\\Documents\\GitHub\\bifacialvf\\bifacialvf\\TEMP\\Experiment_1\\Results_Test_ClearanceHeight_2.0.csv\n",
      " \n",
      " \n",
      "Distance between rows for no shading on Dec 21 at 9 am solar time =  0.7447282075136877\n",
      "Actual distance between rows =  2.090610409517122\n",
      " \n",
      "Saving Ground Irradiance Values for AgriPV Analysis. \n"
     ]
    },
    {
     "name": "stderr",
     "output_type": "stream",
     "text": [
      "100%|██████████████████████████████████████████████████████████████████████████████| 8760/8760 [01:47<00:00, 81.37it/s]"
     ]
    },
    {
     "name": "stdout",
     "output_type": "stream",
     "text": [
      "Finished\n"
     ]
    },
    {
     "name": "stderr",
     "output_type": "stream",
     "text": [
      "\n"
     ]
    }
   ],
   "source": [
    "for ch in range (0, len(clearance_heights)):\n",
    "    chreg = clearance_heights[ch]\n",
    "    clearance_height = chreg/CW #Normalize using the collector width. Needed for bifacial VF\n",
    "    writefiletitle = os.path.join(testfolder, 'Results_Test_ClearanceHeight_'+str(chreg)+'.csv')\n",
    "    bifacialvf.simulate(myTMY3, meta, writefiletitle=writefiletitle, \n",
    "                        tilt=tilt_def, sazm=sazm, pitch=pitch_def, clearance_height=clearance_height, \n",
    "                        rowType=rowType, transFactor=transFactor, sensorsy=sensorsy, \n",
    "                        PVfrontSurface=PVfrontSurface, PVbackSurface=PVbackSurface, \n",
    "                        albedo=albedo, tracking=tracking, backtrack=backtrack, \n",
    "                        limit_angle=limit_angle, deltastyle=deltastyle, agriPV=True)\n"
   ]
  },
  {
   "cell_type": "code",
   "execution_count": 8,
   "id": "d16074c2",
   "metadata": {},
   "outputs": [
    {
     "data": {
      "image/png": "[encoded data removed]",
      "text/plain": [
       "<Figure size 432x288 with 1 Axes>"
      ]
     },
     "metadata": {
      "needs_background": "light"
     },
     "output_type": "display_data"
    }
   ],
   "source": [
    "for ch in range (0, len(clearance_heights)):\n",
    "    #Graph results for all clearance heights\n",
    "    chreg = clearance_heights[ch]\n",
    "    clearance_height = chreg/CW #Normalize using the collector width. Needed for bifacial VF\n",
    "    writefiletitle = os.path.join(testfolder, 'Results_Test_ClearanceHeight_'+str(chreg)+'.csv')\n",
    "    #Load the results from the resultfile\n",
    "    from bifacialvf import loadVFresults\n",
    "    (data, metadata) = loadVFresults(writefiletitle)\n",
    "    #Work with data in resultfile\n",
    "    data.set_index(pd.to_datetime(data['date']), inplace=True, drop=True)\n",
    "    data.index = data.index.map(lambda t: t.replace(year=2021))   # Chagning to be the same year\n",
    "    groundIrrads = data['Ground Irradiance Values'].str.strip('[]').str.split(' ', expand=True).astype(float)\n",
    "    df = groundIrrads.groupby([pd.Grouper(freq='M')]).sum().T\n",
    "    df.rename(columns={ df.columns[0]: \"Jan\", df.columns[1]: \"Feb\",df.columns[2]: \"Mar\", df.columns[3]: \"Apr\",\n",
    "\n",
    "                       df.columns[4]: \"May\",df.columns[5]: \"Jun\",df.columns[6]: \"Jul\",df.columns[7]: \"Aug\",\n",
    "                       df.columns[8]: \"Sep\",df.columns[9]: \"Oct\",df.columns[10]: \"Nov\",df.columns[11]: \"Dec\"    }, inplace = True)\n",
    "    x_axis = list(range(1,101))\n",
    "    plt.figure(1)\n",
    "    VF = plt.plot(x_axis, df['Jun']/1000, label=chreg)\n",
    "    module_end = (2/module_place)*100 #Percentage between rows where the module ends)\n",
    "    plt.axvspan(0, module_end, alpha=.05, color='green')\n",
    "    plt.title('Bifacial_VF')\n",
    "    plt.xlabel('Position between start of row and next row [%]')\n",
    "    plt.ylabel('Cumulative Insolation for the month [kWh/m2]')\n",
    "    plt.legend()"
   ]
  },
  {
   "cell_type": "markdown",
   "id": "8b75f4bf",
   "metadata": {},
   "source": [
    "## Experiment for GCR"
   ]
  },
  {
   "cell_type": "code",
   "execution_count": 9,
   "id": "c379a2ec",
   "metadata": {},
   "outputs": [
    {
     "name": "stdout",
     "output_type": "stream",
     "text": [
      "Albedo value passed, but also present in TMY3 file.  Using albedo value passed. To use the ones in TMY3 file re-run simulation with albedo=None\n",
      "\n",
      " \n",
      "********* \n",
      "Running Simulation for TMY3: \n",
      "Location:   Davis Monthan Afb\n",
      "Lat:  32.17  Long:  -110.88  Tz  -7.0\n",
      "Parameters: tilt:  20   Sazm:  180     Clearance_Height :  0.75   Pitch:  7.142857142857142   Row type:  interior   Albedo:  0.31\n",
      "Saving into C:\\Users\\jjones\\Documents\\GitHub\\bifacialvf\\bifacialvf\\TEMP\\Experiment_1\\Results_Test_GCR_0.28.csv\n",
      " \n",
      " \n",
      "Distance between rows for no shading on Dec 21 at 9 am solar time =  0.7447282075136877\n",
      "Actual distance between rows =  6.2031645220712335\n",
      " \n",
      "Saving Ground Irradiance Values for AgriPV Analysis. \n"
     ]
    },
    {
     "name": "stderr",
     "output_type": "stream",
     "text": [
      "100%|██████████████████████████████████████████████████████████████████████████████| 8760/8760 [01:37<00:00, 89.76it/s]\n"
     ]
    },
    {
     "name": "stdout",
     "output_type": "stream",
     "text": [
      "Finished\n",
      "Albedo value passed, but also present in TMY3 file.  Using albedo value passed. To use the ones in TMY3 file re-run simulation with albedo=None\n",
      "\n",
      " \n",
      "********* \n",
      "Running Simulation for TMY3: \n",
      "Location:   Davis Monthan Afb\n",
      "Lat:  32.17  Long:  -110.88  Tz  -7.0\n",
      "Parameters: tilt:  20   Sazm:  180     Clearance_Height :  0.75   Pitch:  6.0606060606060606   Row type:  interior   Albedo:  0.31\n",
      "Saving into C:\\Users\\jjones\\Documents\\GitHub\\bifacialvf\\bifacialvf\\TEMP\\Experiment_1\\Results_Test_GCR_0.33.csv\n",
      " \n",
      " \n",
      "Distance between rows for no shading on Dec 21 at 9 am solar time =  0.7447282075136877\n",
      "Actual distance between rows =  5.120913439820152\n",
      " \n",
      "Saving Ground Irradiance Values for AgriPV Analysis. \n"
     ]
    },
    {
     "name": "stderr",
     "output_type": "stream",
     "text": [
      "100%|██████████████████████████████████████████████████████████████████████████████| 8760/8760 [01:37<00:00, 90.21it/s]\n"
     ]
    },
    {
     "name": "stdout",
     "output_type": "stream",
     "text": [
      "Finished\n",
      "Albedo value passed, but also present in TMY3 file.  Using albedo value passed. To use the ones in TMY3 file re-run simulation with albedo=None\n",
      "\n",
      " \n",
      "********* \n",
      "Running Simulation for TMY3: \n",
      "Location:   Davis Monthan Afb\n",
      "Lat:  32.17  Long:  -110.88  Tz  -7.0\n",
      "Parameters: tilt:  20   Sazm:  180     Clearance_Height :  0.75   Pitch:  5.0   Row type:  interior   Albedo:  0.31\n",
      "Saving into C:\\Users\\jjones\\Documents\\GitHub\\bifacialvf\\bifacialvf\\TEMP\\Experiment_1\\Results_Test_GCR_0.4.csv\n",
      " \n",
      " \n",
      "Distance between rows for no shading on Dec 21 at 9 am solar time =  0.7447282075136877\n",
      "Actual distance between rows =  4.060307379214091\n",
      " \n",
      "Saving Ground Irradiance Values for AgriPV Analysis. \n"
     ]
    },
    {
     "name": "stderr",
     "output_type": "stream",
     "text": [
      "100%|██████████████████████████████████████████████████████████████████████████████| 8760/8760 [01:39<00:00, 88.17it/s]\n"
     ]
    },
    {
     "name": "stdout",
     "output_type": "stream",
     "text": [
      "Finished\n",
      "Albedo value passed, but also present in TMY3 file.  Using albedo value passed. To use the ones in TMY3 file re-run simulation with albedo=None\n",
      "\n",
      " \n",
      "********* \n",
      "Running Simulation for TMY3: \n",
      "Location:   Davis Monthan Afb\n",
      "Lat:  32.17  Long:  -110.88  Tz  -7.0\n",
      "Parameters: tilt:  20   Sazm:  180     Clearance_Height :  0.75   Pitch:  3.3333333333333335   Row type:  interior   Albedo:  0.31\n",
      "Saving into C:\\Users\\jjones\\Documents\\GitHub\\bifacialvf\\bifacialvf\\TEMP\\Experiment_1\\Results_Test_GCR_0.6.csv\n",
      " \n",
      " \n",
      "Distance between rows for no shading on Dec 21 at 9 am solar time =  0.7447282075136877\n",
      "Actual distance between rows =  2.393640712547425\n",
      " \n",
      "Saving Ground Irradiance Values for AgriPV Analysis. \n"
     ]
    },
    {
     "name": "stderr",
     "output_type": "stream",
     "text": [
      "100%|██████████████████████████████████████████████████████████████████████████████| 8760/8760 [01:46<00:00, 82.36it/s]"
     ]
    },
    {
     "name": "stdout",
     "output_type": "stream",
     "text": [
      "Finished\n"
     ]
    },
    {
     "name": "stderr",
     "output_type": "stream",
     "text": [
      "\n"
     ]
    }
   ],
   "source": [
    "for gc in range (0, len(GCRs)):\n",
    "    GCR = GCRs[gc]\n",
    "    pitch = CW/GCR\n",
    "    writefiletitle = os.path.join(testfolder, 'Results_Test_GCR_'+str(GCR)+'.csv')\n",
    "    bifacialvf.simulate(myTMY3, meta, writefiletitle=writefiletitle, \n",
    "                        tilt=tilt_def, sazm=sazm, pitch=pitch, clearance_height=clearance_height_def, \n",
    "                        rowType=rowType, transFactor=transFactor, sensorsy=sensorsy, \n",
    "                        PVfrontSurface=PVfrontSurface, PVbackSurface=PVbackSurface, \n",
    "                        albedo=albedo, tracking=tracking, backtrack=backtrack, \n",
    "                        limit_angle=limit_angle, deltastyle=deltastyle, agriPV=True)\n",
    "\n",
    "  "
   ]
  },
  {
   "cell_type": "code",
   "execution_count": 10,
   "id": "f7e326e8",
   "metadata": {},
   "outputs": [
    {
     "data": {
      "image/png": "[encoded data removed]",
      "text/plain": [
       "<Figure size 432x288 with 1 Axes>"
      ]
     },
     "metadata": {
      "needs_background": "light"
     },
     "output_type": "display_data"
    }
   ],
   "source": [
    "for gc in range (0, len(GCRs)):\n",
    "    GCR = GCRs[gc]\n",
    "    pitch = CW/GCR\n",
    "    writefiletitle = os.path.join(testfolder, 'Results_Test_GCR_'+str(GCR)+'.csv')\n",
    "    #Load the results from the resultfile\n",
    "    from bifacialvf import loadVFresults\n",
    "    (data, metadata) = loadVFresults(writefiletitle)\n",
    "    #Work with data in resultfile\n",
    "    data.set_index(pd.to_datetime(data['date']), inplace=True, drop=True)\n",
    "    data.index = data.index.map(lambda t: t.replace(year=2021))   # Chagning to be the same year\n",
    "    groundIrrads = data['Ground Irradiance Values'].str.strip('[]').str.split(' ', expand=True).astype(float)\n",
    "    df = groundIrrads.groupby([pd.Grouper(freq='M')]).sum().T\n",
    "    # I'm sure there's a fancier way to do this but hey, this works.\n",
    "    df.rename(columns={ df.columns[0]: \"Jan\", df.columns[1]: \"Feb\",df.columns[2]: \"Mar\", df.columns[3]: \"Apr\",\n",
    "\n",
    "                       df.columns[4]: \"May\",df.columns[5]: \"Jun\",df.columns[6]: \"Jul\",df.columns[7]: \"Aug\",\n",
    "                       df.columns[8]: \"Sep\",df.columns[9]: \"Oct\",df.columns[10]: \"Nov\",df.columns[11]: \"Dec\"    }, inplace = True)\n",
    "    x_axis = list(range(1,101))\n",
    "    plt.figure(1)\n",
    "    VF = plt.plot(x_axis, df['Jun']/1000, label=GCR)\n",
    "    plt.title('Bifacial_VF')\n",
    "    plt.xlabel('Position between start of row and next row [%]')\n",
    "    plt.ylabel('Cumulative Insolation for the month [kWh/m2]')\n",
    "    plt.legend()"
   ]
  },
  {
   "cell_type": "markdown",
   "id": "e174f58f",
   "metadata": {},
   "source": [
    "## Compare VF and Radiance"
   ]
  },
  {
   "cell_type": "code",
   "execution_count": 11,
   "id": "84a9cdff",
   "metadata": {},
   "outputs": [
    {
     "data": {
      "text/plain": [
       "<matplotlib.legend.Legend at 0x25c54377eb0>"
      ]
     },
     "execution_count": 11,
     "metadata": {},
     "output_type": "execute_result"
    },
    {
     "data": {
      "image/png": "[encoded data removed]",
      "text/plain": [
       "<Figure size 432x288 with 1 Axes>"
      ]
     },
     "metadata": {
      "needs_background": "light"
     },
     "output_type": "display_data"
    }
   ],
   "source": [
    "from bifacialvf import loadVFresults\n",
    "VFfile = r'C:\\Users\\jjones\\Documents\\GitHub\\bifacialvf\\bifacialvf\\TEMP\\Experiment_1\\Results_Test_Tilt_20.csv'\n",
    "(data, metadata) = loadVFresults(VFfile)\n",
    "#Work with data in resultfile\n",
    "data.set_index(pd.to_datetime(data['date']), inplace=True, drop=True)\n",
    "data.index = data.index.map(lambda t: t.replace(year=2021))   # Chagning to be the same year\n",
    "groundIrrads = data['Ground Irradiance Values'].str.strip('[]').str.split(' ', expand=True).astype(float)\n",
    "df = groundIrrads.groupby([pd.Grouper(freq='M')]).sum().T\n",
    "# I'm sure there's a fancier way to do this but hey, this works.\n",
    "df.rename(columns={ df.columns[0]: \"Jan\", df.columns[1]: \"Feb\",df.columns[2]: \"Mar\", df.columns[3]: \"Apr\",\n",
    "\n",
    "                   df.columns[4]: \"May\",df.columns[5]: \"Jun\",df.columns[6]: \"Jul\",df.columns[7]: \"Aug\",\n",
    "                   df.columns[8]: \"Sep\",df.columns[9]: \"Oct\",df.columns[10]: \"Nov\",df.columns[11]: \"Dec\"    }, inplace = True)\n",
    "x_axis = list(range(1,101))\n",
    "Radiance_File = r'C:\\Users\\jjones\\Documents\\GitHub\\bifacial_radiance\\bifacial_radiance\\TEMP\\Experiment_1\\results\\irr_Rad_Experiment1_tilt_20_Ground_Analysis_Front.csv'\n",
    "(dataR, metadata) = loadVFresults(Radiance_File)\n",
    "data_lineR = dataR\n",
    "data_line_fR = data_lineR[::-1].reset_index(drop = True)\n",
    "data_line_fR.rename(columns={ data_line_fR.columns[0]: \"x\", data_line_fR.columns[1]: \"y\",data_line_fR.columns[2]: \"z\", data_line_fR.columns[3]: \"mattype\",data_line_fR.columns[4]: \"Wm2Front\",}, inplace = True)\n",
    "yshift = data_line_fR['y'] + 1\n",
    "ystep = (yshift/6.06)*100\n",
    "#Plot Radiance and VF lines\n",
    "plt.figure(1)\n",
    "Rad = plt.plot(ystep, data_line_fR['Wm2Front']/1000, label='Rad (122)')\n",
    "VF = plt.plot(x_axis, df['Jun']/1000, label='VF (100)')\n",
    "module_end = (2/module_place)*100 #Percentage between rows where the module ends)\n",
    "plt.axvspan(0, module_end, alpha=.05, color='green')\n",
    "plt.title('Bifacial_VF and Radiance Comparison (June)')\n",
    "plt.xlabel('Position between start of row and next row [%]')\n",
    "plt.ylabel('Cumulative Insolation for the month [kWh/m2]')\n",
    "plt.legend()"
   ]
  },
  {
   "cell_type": "markdown",
   "id": "c4d2dff1",
   "metadata": {},
   "source": [
    "## Changing Transmission Factor"
   ]
  },
  {
   "cell_type": "code",
   "execution_count": 12,
   "id": "0f222f23",
   "metadata": {},
   "outputs": [
    {
     "name": "stdout",
     "output_type": "stream",
     "text": [
      "2 2 0.0\n",
      "Albedo value passed, but also present in TMY3 file.  Using albedo value passed. To use the ones in TMY3 file re-run simulation with albedo=None\n",
      "\n",
      " \n",
      "********* \n",
      "Running Simulation for TMY3: \n",
      "Location:   Davis Monthan Afb\n",
      "Lat:  32.17  Long:  -110.88  Tz  -7.0\n",
      "Parameters: tilt:  20   Sazm:  180     Clearance_Height :  0.75   Pitch:  3.0303030303030303   Row type:  interior   Albedo:  0.31\n",
      "Saving into C:\\Users\\jjones\\Documents\\GitHub\\bifacialvf\\bifacialvf\\TEMP\\Experiment_1\\Results_Test_TFactor_0.0.csv\n",
      " \n",
      " \n",
      "Distance between rows for no shading on Dec 21 at 9 am solar time =  0.7447282075136877\n",
      "Actual distance between rows =  2.090610409517122\n",
      " \n",
      "Saving Ground Irradiance Values for AgriPV Analysis. \n"
     ]
    },
    {
     "name": "stderr",
     "output_type": "stream",
     "text": [
      "100%|██████████████████████████████████████████████████████████████████████████████| 8760/8760 [01:51<00:00, 78.23it/s]\n"
     ]
    },
    {
     "name": "stdout",
     "output_type": "stream",
     "text": [
      "Finished\n",
      "2.1 2 0.04761904761904767\n",
      "Albedo value passed, but also present in TMY3 file.  Using albedo value passed. To use the ones in TMY3 file re-run simulation with albedo=None\n",
      "\n",
      " \n",
      "********* \n",
      "Running Simulation for TMY3: \n",
      "Location:   Davis Monthan Afb\n",
      "Lat:  32.17  Long:  -110.88  Tz  -7.0\n",
      "Parameters: tilt:  20   Sazm:  180     Clearance_Height :  0.75   Pitch:  3.03030303030303   Row type:  interior   Albedo:  0.31\n",
      "Saving into C:\\Users\\jjones\\Documents\\GitHub\\bifacialvf\\bifacialvf\\TEMP\\Experiment_1\\Results_Test_TFactor_0.04761904761904767.csv\n",
      " \n",
      " \n",
      "Distance between rows for no shading on Dec 21 at 9 am solar time =  0.7447282075136877\n",
      "Actual distance between rows =  2.0906104095171214\n",
      " \n",
      "Saving Ground Irradiance Values for AgriPV Analysis. \n"
     ]
    },
    {
     "name": "stderr",
     "output_type": "stream",
     "text": [
      "100%|██████████████████████████████████████████████████████████████████████████████| 8760/8760 [01:44<00:00, 83.53it/s]\n"
     ]
    },
    {
     "name": "stdout",
     "output_type": "stream",
     "text": [
      "Finished\n",
      "2.2 2 0.09090909090909094\n",
      "Albedo value passed, but also present in TMY3 file.  Using albedo value passed. To use the ones in TMY3 file re-run simulation with albedo=None\n",
      "\n",
      " \n",
      "********* \n",
      "Running Simulation for TMY3: \n",
      "Location:   Davis Monthan Afb\n",
      "Lat:  32.17  Long:  -110.88  Tz  -7.0\n",
      "Parameters: tilt:  20   Sazm:  180     Clearance_Height :  0.75   Pitch:  3.0303030303030303   Row type:  interior   Albedo:  0.31\n",
      "Saving into C:\\Users\\jjones\\Documents\\GitHub\\bifacialvf\\bifacialvf\\TEMP\\Experiment_1\\Results_Test_TFactor_0.09090909090909094.csv\n",
      " \n",
      " \n",
      "Distance between rows for no shading on Dec 21 at 9 am solar time =  0.7447282075136877\n",
      "Actual distance between rows =  2.090610409517122\n",
      " \n",
      "Saving Ground Irradiance Values for AgriPV Analysis. \n"
     ]
    },
    {
     "name": "stderr",
     "output_type": "stream",
     "text": [
      "100%|██████████████████████████████████████████████████████████████████████████████| 8760/8760 [01:47<00:00, 81.46it/s]\n"
     ]
    },
    {
     "name": "stdout",
     "output_type": "stream",
     "text": [
      "Finished\n",
      "2.3 2 0.13043478260869557\n",
      "Albedo value passed, but also present in TMY3 file.  Using albedo value passed. To use the ones in TMY3 file re-run simulation with albedo=None\n",
      "\n",
      " \n",
      "********* \n",
      "Running Simulation for TMY3: \n",
      "Location:   Davis Monthan Afb\n",
      "Lat:  32.17  Long:  -110.88  Tz  -7.0\n",
      "Parameters: tilt:  20   Sazm:  180     Clearance_Height :  0.75   Pitch:  3.0303030303030303   Row type:  interior   Albedo:  0.31\n",
      "Saving into C:\\Users\\jjones\\Documents\\GitHub\\bifacialvf\\bifacialvf\\TEMP\\Experiment_1\\Results_Test_TFactor_0.13043478260869557.csv\n",
      " \n",
      " \n",
      "Distance between rows for no shading on Dec 21 at 9 am solar time =  0.7447282075136877\n",
      "Actual distance between rows =  2.090610409517122\n",
      " \n",
      "Saving Ground Irradiance Values for AgriPV Analysis. \n"
     ]
    },
    {
     "name": "stderr",
     "output_type": "stream",
     "text": [
      "100%|██████████████████████████████████████████████████████████████████████████████| 8760/8760 [01:53<00:00, 77.12it/s]\n"
     ]
    },
    {
     "name": "stdout",
     "output_type": "stream",
     "text": [
      "Finished\n",
      "2.5 2 0.19999999999999996\n",
      "Albedo value passed, but also present in TMY3 file.  Using albedo value passed. To use the ones in TMY3 file re-run simulation with albedo=None\n",
      "\n",
      " \n",
      "********* \n",
      "Running Simulation for TMY3: \n",
      "Location:   Davis Monthan Afb\n",
      "Lat:  32.17  Long:  -110.88  Tz  -7.0\n",
      "Parameters: tilt:  20   Sazm:  180     Clearance_Height :  0.75   Pitch:  3.0303030303030303   Row type:  interior   Albedo:  0.31\n",
      "Saving into C:\\Users\\jjones\\Documents\\GitHub\\bifacialvf\\bifacialvf\\TEMP\\Experiment_1\\Results_Test_TFactor_0.19999999999999996.csv\n",
      " \n",
      " \n",
      "Distance between rows for no shading on Dec 21 at 9 am solar time =  0.7447282075136877\n",
      "Actual distance between rows =  2.090610409517122\n",
      " \n",
      "Saving Ground Irradiance Values for AgriPV Analysis. \n"
     ]
    },
    {
     "name": "stderr",
     "output_type": "stream",
     "text": [
      "100%|██████████████████████████████████████████████████████████████████████████████| 8760/8760 [01:58<00:00, 73.71it/s]\n"
     ]
    },
    {
     "name": "stdout",
     "output_type": "stream",
     "text": [
      "Finished\n",
      "3 2 0.33333333333333337\n",
      "Albedo value passed, but also present in TMY3 file.  Using albedo value passed. To use the ones in TMY3 file re-run simulation with albedo=None\n",
      "\n",
      " \n",
      "********* \n",
      "Running Simulation for TMY3: \n",
      "Location:   Davis Monthan Afb\n",
      "Lat:  32.17  Long:  -110.88  Tz  -7.0\n",
      "Parameters: tilt:  20   Sazm:  180     Clearance_Height :  0.75   Pitch:  3.03030303030303   Row type:  interior   Albedo:  0.31\n",
      "Saving into C:\\Users\\jjones\\Documents\\GitHub\\bifacialvf\\bifacialvf\\TEMP\\Experiment_1\\Results_Test_TFactor_0.33333333333333337.csv\n",
      " \n",
      " \n",
      "Distance between rows for no shading on Dec 21 at 9 am solar time =  0.7447282075136877\n",
      "Actual distance between rows =  2.0906104095171214\n",
      " \n",
      "Saving Ground Irradiance Values for AgriPV Analysis. \n"
     ]
    },
    {
     "name": "stderr",
     "output_type": "stream",
     "text": [
      "100%|██████████████████████████████████████████████████████████████████████████████| 8760/8760 [01:54<00:00, 76.19it/s]"
     ]
    },
    {
     "name": "stdout",
     "output_type": "stream",
     "text": [
      "Finished\n"
     ]
    },
    {
     "name": "stderr",
     "output_type": "stream",
     "text": [
      "\n"
     ]
    }
   ],
   "source": [
    "xl = 2\n",
    "yl = 1 \n",
    "ygaps = [0,.1,.2,.3,.5,1]\n",
    "numpanels_l = 2\n",
    "\n",
    "\n",
    "for yg in range (0, len(ygaps)):\n",
    "        #Build scene and run raytracing for all 3 azimuths\n",
    "    ygap = ygaps[yg]\n",
    "    CW = yl * numpanels_l +(ygap * (numpanels_l-1)) #Collector Width\n",
    "    AA = yl*numpanels_l #Area of module that light hits\n",
    "    transFactor = 1 - (AA/CW) # TransmissionFactor(open area fraction)\n",
    "    pitch = CW/GCR_def/CW\n",
    "    print(CW,AA,transFactor)\n",
    "    writefiletitle = os.path.join(testfolder, 'Results_Test_TFactor_'+str(transFactor)+'.csv')\n",
    "    bifacialvf.simulate(myTMY3, meta, writefiletitle=writefiletitle, \n",
    "                        tilt=tilt_def, sazm=sazm, pitch=pitch, clearance_height=clearance_height_def, \n",
    "                        rowType=rowType, transFactor=transFactor, sensorsy=sensorsy, \n",
    "                        PVfrontSurface=PVfrontSurface, PVbackSurface=PVbackSurface, \n",
    "                        albedo=albedo, tracking=tracking, backtrack=backtrack, \n",
    "                        limit_angle=limit_angle, deltastyle=deltastyle, agriPV=True)"
   ]
  },
  {
   "cell_type": "code",
   "execution_count": 13,
   "id": "84690c7b",
   "metadata": {},
   "outputs": [
    {
     "name": "stdout",
     "output_type": "stream",
     "text": [
      "2 2 0.0\n",
      "2.1 2 0.04761904761904767\n",
      "2.2 2 0.09090909090909094\n",
      "2.3 2 0.13043478260869557\n",
      "2.5 2 0.19999999999999996\n",
      "3 2 0.33333333333333337\n"
     ]
    },
    {
     "data": {
      "image/png": "[encoded data removed]",
      "text/plain": [
       "<Figure size 432x288 with 1 Axes>"
      ]
     },
     "metadata": {
      "needs_background": "light"
     },
     "output_type": "display_data"
    }
   ],
   "source": [
    "xl = 2\n",
    "yl = 1 \n",
    "ygaps = [0,.1,.2,.3,.5,1]\n",
    "numpanels_l = 2\n",
    "\n",
    "\n",
    "for yg in range (0, len(ygaps)):\n",
    "    ygap = ygaps[yg]\n",
    "    CW = yl * numpanels_l +(ygap * (numpanels_l-1)) #Collector Width\n",
    "    AA = yl*numpanels_l #Area of module that light hits\n",
    "    transFactor = 1 - (AA/CW) # TransmissionFactor(open area fraction)\n",
    "    pitch = CW/GCR_def/CW\n",
    "    print(CW,AA,transFactor)\n",
    "    writefiletitle = os.path.join(testfolder, 'Results_Test_TFactor_'+str(transFactor)+'.csv')\n",
    "\n",
    "    #Load the results from the resultfile\n",
    "    from bifacialvf import loadVFresults\n",
    "    (data, metadata) = loadVFresults(writefiletitle)\n",
    "    #Work with data in resultfile\n",
    "    data.set_index(pd.to_datetime(data['date']), inplace=True, drop=True)\n",
    "    data.index = data.index.map(lambda t: t.replace(year=2021))   # Chagning to be the same year\n",
    "    groundIrrads = data['Ground Irradiance Values'].str.strip('[]').str.split(' ', expand=True).astype(float)\n",
    "    df = groundIrrads.groupby([pd.Grouper(freq='M')]).sum().T\n",
    "    # I'm sure there's a fancier way to do this but hey, this works.\n",
    "    df.rename(columns={ df.columns[0]: \"Jan\", df.columns[1]: \"Feb\",df.columns[2]: \"Mar\", df.columns[3]: \"Apr\",\n",
    "\n",
    "                       df.columns[4]: \"May\",df.columns[5]: \"Jun\",df.columns[6]: \"Jul\",df.columns[7]: \"Aug\",\n",
    "                       df.columns[8]: \"Sep\",df.columns[9]: \"Oct\",df.columns[10]: \"Nov\",df.columns[11]: \"Dec\"    }, inplace = True)\n",
    "    x_axis = list(range(1,101))\n",
    "    plt.figure(1)\n",
    "    VF = plt.plot(x_axis, df['Jun']/1000, label=transFactor)\n",
    "    plt.title('Bifacial_VF')\n",
    "    plt.xlabel('Position between start of row and next row [%]')\n",
    "    plt.ylabel('Cumulative Insolation for the month [kWh/m2]')\n",
    "    plt.legend()"
   ]
  }
 ],
 "metadata": {
  "kernelspec": {
   "display_name": "Python 3 (ipykernel)",
   "language": "python",
   "name": "python3"
  },
  "language_info": {
   "codemirror_mode": {
    "name": "ipython",
    "version": 3
   },
   "file_extension": ".py",
   "mimetype": "text/x-python",
   "name": "python",
   "nbconvert_exporter": "python",
   "pygments_lexer": "ipython3",
   "version": "3.9.12"
  }
 },
 "nbformat": 4,
 "nbformat_minor": 5
}
