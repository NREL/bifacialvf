{
 "cells": [
  {
   "cell_type": "markdown",
   "id": "967a8149",
   "metadata": {},
   "source": [
    "# 1 - Introductory Example: Fixed-Tilt simple setup\n",
    "\n",
    "This jupyter journal will walk us through the creation of the most basic fixed-tilt simulation possible with bifacialvf.\n",
    "We will simulate a 1-up landscape system over a white rooftop.\n",
    "\n",
    "Steps include:\n",
    "\n",
    "<ol>\n",
    "    <li> <a href='#step1'> Create a folder for your simulation, and Load bifacialvf </a></li> \n",
    "    <li> <a href='#step2'> Download Weather File and Read </a></li> \n",
    "    <li> <a href='#step3'> Set all your Parameters </a></li> \n",
    "    <li> <a href='#step4'> Run simulation </a></li> \n",
    "    <li> <a href='#step5'> Read Results </a></li> \n",
    "    <li> <a href='#step6'> Plot Results </a></li> \n",
    "</ol>\n"
   ]
  },
  {
   "cell_type": "markdown",
   "id": "c74e1afe",
   "metadata": {},
   "source": [
    "<a id='step1'></a>"
   ]
  },
  {
   "cell_type": "code",
   "execution_count": 1,
   "id": "a2877703",
   "metadata": {},
   "outputs": [],
   "source": [
    "from pathlib import Path\n",
    "import os\n",
    "import bifacialvf\n",
    "\n",
    "# IO Files\n",
    "testfolder = Path().resolve().parent.parent / 'bifacialvf' / 'TEMP' / 'Tutorial_03'\n",
    "if not os.path.exists(testfolder):\n",
    "    os.makedirs(testfolder)"
   ]
  },
  {
   "cell_type": "code",
   "execution_count": 2,
   "id": "02c12c66",
   "metadata": {},
   "outputs": [
    {
     "name": "stdout",
     "output_type": "stream",
     "text": [
      "path = C:\\Users\\sayala\\Documents\\GitHub\\bifacialvf\\bifacialvf\\TEMP\\Tutorial_03\n",
      "Getting weather file: USA_VA_Richmond.724010_TMY2.epw\n",
      " ... OK!\n"
     ]
    }
   ],
   "source": [
    "# Download and Read input\n",
    "TMYtoread=bifacialvf.getEPW(lat=37.5407,lon=-77.4360, path = testfolder)\n",
    "myTMY3, meta = bifacialvf.readInputTMY(TMYtoread)\n",
    "deltastyle = 'TMY3'  # "
   ]
  },
  {
   "cell_type": "code",
   "execution_count": 3,
   "id": "e4ee748c",
   "metadata": {},
   "outputs": [
    {
     "name": "stdout",
     "output_type": "stream",
     "text": [
      "Calculating Sun position with a delta of -30 mins. i.e. 12 is 11:30 sunpos\n",
      "Albedo value passed, but also present in TMY3 file.  Using albedo value passed. To use the ones in TMY3 file re-run simulation with albedo=None\n",
      "\n",
      " \n",
      "********* \n",
      "Running Simulation for TMY3: \n",
      "Location:   RICHMOND\n",
      "Lat:  37.5  Long:  -77.33  Tz  -5.0\n",
      "Parameters: tilt:  10   Sazm:  180     Clearance_Height :  0.4   Pitch:  1.5   Row type:  interior   Albedo:  0.62\n",
      "Saving into C:\\Users\\sayala\\Documents\\GitHub\\bifacialvf\\bifacialvf\\TEMP\\Tutorial_03\\Tutorial3_Results.csv\n",
      " \n",
      " \n",
      "Distance between rows for no shading on Dec 21 at 9 am solar time =  0.4510244972733475\n",
      "Actual distance between rows =  0.515192246987792\n",
      " \n"
     ]
    },
    {
     "name": "stderr",
     "output_type": "stream",
     "text": [
      "100%|█████████████████████████████████████████████████████████████████████████████████| 24/24 [00:00<00:00, 407.26it/s]"
     ]
    },
    {
     "name": "stdout",
     "output_type": "stream",
     "text": [
      "Warning: Bilinear Interpolation supports only Landscape mode for this release. \n",
      "Warning: BilInterpolParams dictionary is None OR is wrongly defined. Using default values for Bilintear Interpolation routine\n",
      "Starting Bilinear Interpolation Analysis\n"
     ]
    },
    {
     "name": "stderr",
     "output_type": "stream",
     "text": [
      "\n"
     ]
    },
    {
     "name": "stdout",
     "output_type": "stream",
     "text": [
      "Finished. Time elapsed for calculating Bilinear Interpolation Output (s): 0%\n",
      "The DC Power Mismatch loss for the year is of: 1.316%\n",
      "The detailed irradiance power is: 348.2 W\n",
      "The average irradinace power is: 352.9 W\n",
      "starting\n",
      "Time elapsed for calculating PVMismatch Output  0.3130042552947998\n",
      "ending\n",
      "The DC Power Mismatch loss for the year is of: 1.202%\n",
      "The detailed irradiance power is: 284.4 W\n",
      "The average irradinace power is: 287.8 W\n",
      "Finished\n"
     ]
    }
   ],
   "source": [
    "# Variables\n",
    "tilt = 10                   # PV tilt (deg)\n",
    "sazm = 180                  # PV Azimuth(deg) or tracker axis direction\n",
    "albedo = 0.62               # ground albedo\n",
    "clearance_height=0.4\n",
    "pitch = 1.5                   # row to row spacing in normalized panel lengths. \n",
    "rowType = \"interior\"        # RowType(first interior last single)\n",
    "transFactor = 0.013         # TransmissionFactor(open area fraction)\n",
    "sensorsy = 6                # sensorsy(# hor rows in panel)   <--> THIS ASSUMES LANDSCAPE ORIENTATION \n",
    "PVfrontSurface = \"glass\"    # PVfrontSurface(glass or ARglass)\n",
    "PVbackSurface = \"glass\"     # PVbackSurface(glass or ARglass)\n",
    "\n",
    "# Calculate PV Output Through Various Methods    \n",
    "# This variables are advanced and explored in other tutorials.\n",
    "calculateBilInterpol = True         # Only works with landscape at the moment.\n",
    "calculatePVMismatch = True\n",
    "portraitorlandscape='landscape'   # portrait or landscape\n",
    "cellsnum = 72\n",
    "bififactor = 1.0\n",
    "agriPV = False                       # Returns ground irradiance values\n",
    "\n",
    "# Tracking instructions\n",
    "tracking=False\n",
    "backtrack=False\n",
    "limit_angle = 60\n",
    "\n",
    "writefiletitle = os.path.join(testfolder, 'Tutorial3_Results.csv')\n",
    "myTMY3 = myTMY3.iloc[0:24].copy()  # Simulate just the first 24 hours of the data file for speed on this example\n",
    "bifacialvf.simulate(myTMY3, meta, writefiletitle=writefiletitle, \n",
    "         tilt=tilt, sazm=sazm, pitch=pitch, clearance_height=clearance_height, \n",
    "         rowType=rowType, transFactor=transFactor, sensorsy=sensorsy, \n",
    "         PVfrontSurface=PVfrontSurface, PVbackSurface=PVbackSurface, \n",
    "         albedo=albedo, tracking=tracking, backtrack=backtrack, \n",
    "         limit_angle=limit_angle, deltastyle=deltastyle,\n",
    "        calculateBilInterpol=calculateBilInterpol, calculatePVMismatch=calculatePVMismatch,\n",
    "        cellsnum = cellsnum, bififactor=bififactor, agriPV=agriPV)\n",
    "\n"
   ]
  },
  {
   "cell_type": "markdown",
   "id": "627ef051",
   "metadata": {},
   "source": [
    "# 5. Load the results from the resultfile\n"
   ]
  },
  {
   "cell_type": "code",
   "execution_count": 4,
   "id": "c302b335",
   "metadata": {},
   "outputs": [],
   "source": [
    "from bifacialvf import loadVFresults\n",
    "mismatchResultstitle = os.path.join(testfolder, 'Tutorial3_Results_PVMismatch.csv')\n",
    "(data, metadata) = loadVFresults(mismatchResultstitle)\n"
   ]
  },
  {
   "cell_type": "code",
   "execution_count": 5,
   "id": "2c09663e",
   "metadata": {},
   "outputs": [
    {
     "data": {
      "text/plain": [
       "Index(['date', 'DNI', 'DHI', 'albedo', 'decHRs', 'ghi', 'inc', 'zen', 'azm',\n",
       "       'pvFrontSH', 'aveFrontGroundGHI', 'GTIfrontBroadBand', 'pvBackSH',\n",
       "       'aveBackGroundGHI', 'GTIbackBroadBand', 'maxShadow', 'Tamb', 'VWind',\n",
       "       'No_1_RowFrontGTI', 'No_2_RowFrontGTI', 'No_3_RowFrontGTI',\n",
       "       'No_4_RowFrontGTI', 'No_5_RowFrontGTI', 'No_6_RowFrontGTI',\n",
       "       'No_1_RowBackGTI', 'No_2_RowBackGTI', 'No_3_RowBackGTI',\n",
       "       'No_4_RowBackGTI', 'No_5_RowBackGTI', 'No_6_RowBackGTI',\n",
       "       'PVMismatch FRONT + BACK (Averaged) PmaxIdeal [W]',\n",
       "       'PVMismatch FRONT + BACK (Detailed) PmaxUnmatched [W]',\n",
       "       'PVMismatch FRONT ONLY (Averaged) PmaxIdeal [W]',\n",
       "       'PVMismatch FRONT ONLY (Detailed) PmaxUnmatched [W]'],\n",
       "      dtype='object')"
      ]
     },
     "execution_count": 5,
     "metadata": {},
     "output_type": "execute_result"
    }
   ],
   "source": [
    "data.keys()"
   ]
  }
 ],
 "metadata": {
  "kernelspec": {
   "display_name": "Python 3 (ipykernel)",
   "language": "python",
   "name": "python3"
  },
  "language_info": {
   "codemirror_mode": {
    "name": "ipython",
    "version": 3
   },
   "file_extension": ".py",
   "mimetype": "text/x-python",
   "name": "python",
   "nbconvert_exporter": "python",
   "pygments_lexer": "ipython3",
   "version": "3.8.8"
  }
 },
 "nbformat": 4,
 "nbformat_minor": 5
}
