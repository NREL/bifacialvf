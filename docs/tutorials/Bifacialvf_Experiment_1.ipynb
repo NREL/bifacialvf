{
 "cells": [
  {
   "cell_type": "markdown",
   "id": "967a8149",
   "metadata": {},
   "source": [
    "# 2 - Introductory Example: Ground Irradiance Analysis for AgriPV\n",
    "\n",
    "This jupyter journal will walk us through the creation of the most basic fixed-tilt simulation possible with bifacialvf.\n",
    "We will simulate a 1-up landscape system over a grass albedo and look at the ground irradiance from the start of 1 row to the other.\n"
   ]
  },
  {
   "cell_type": "code",
   "execution_count": 2,
   "id": "a2877703",
   "metadata": {},
   "outputs": [],
   "source": [
    "from pathlib import Path\n",
    "import os\n",
    "import bifacialvf\n",
    "import matplotlib.pyplot as plt\n",
    "import numpy as np\n",
    "import pandas as pd\n",
    "import seaborn as sns\n",
    "\n",
    "\n",
    "\n",
    "# IO Files\n",
    "testfolder = Path().resolve().parent.parent / 'bifacialvf' / 'TEMP' / 'Experiment_1'\n",
    "if not os.path.exists(testfolder):\n",
    "    os.makedirs(testfolder)"
   ]
  },
  {
   "cell_type": "code",
   "execution_count": null,
   "id": "38e3237c",
   "metadata": {},
   "outputs": [],
   "source": [
    "plt.rcParams['timezone'] = 'Etc/GMT+7'\n",
    "font = {'family' : 'DejaVu Sans',\n",
    "'weight' : 'bold',\n",
    "'size'   : 22}\n",
    "plt.rc('font', **font)\n",
    "plt.rcParams['figure.figsize'] = (12, 5)"
   ]
  },
  {
   "cell_type": "code",
   "execution_count": 11,
   "id": "11fd7462",
   "metadata": {
    "scrolled": true
   },
   "outputs": [],
   "source": [
    "# Variables\n",
    "\n",
    "months = ['May','Jun','Jul','Aug','Sep','Oct']\n",
    "lat = 32.25\n",
    "lon = -110.9  #Lat and Long for Tuscon Arizona           \n",
    "sazm = 180                  \n",
    "albedo = 0.31  # Changed from 0.31 for test 6/9/22\n",
    "x = 1\n",
    "y = 2 \n",
    "rowType = \"interior\"        # RowType(first interior last single)\n",
    "transFactor = 0             # TransmissionFactor(open area fraction)\n",
    "sensorsy = 12   # sensorsy(# hor rows in panel)   <--> THIS ASSUMES LANDSCAPE ORIENTATION \n",
    "PVfrontSurface = \"glass\"    # PVfrontSurface(glass or ARglass)\n",
    "PVbackSurface = \"glass\"     # PVbackSurface(glass or ARglass)\n",
    "agriPV = True\n",
    "numpanels = 1\n",
    "#xgap =  0.9144   \n",
    "#nMods = 7\n",
    "#ygap = .02 # Meters\n",
    "#numpanels = 4\n",
    "CW = y * numpanels\n",
    "#CW = x + 2*xgap \n",
    "\n",
    "#Arrays for loops\n",
    "tilts = [20,30]  \n",
    "clearance_heights = np.array([0.25,0.5,0.75,1,1.5,2]) \n",
    "GCRs = [0.28,0.33,0.4,0.6]\n",
    "#Defaults\n",
    "tilt_def = tilts[0]\n",
    "clearance_height_def = clearance_heights[2]\n",
    "GCR_def = GCRs[1]\n",
    "pitch_def = CW/GCR_def/CW\n",
    "module_place = CW/GCR_def\n",
    " \n",
    "# Tracking instructions\n",
    "tracking=False\n",
    "backtrack=False\n",
    "limit_angle = 65\n",
    "\n",
    "\n",
    "\n"
   ]
  },
  {
   "cell_type": "code",
   "execution_count": 6,
   "id": "fe1ae02e",
   "metadata": {},
   "outputs": [
    {
     "name": "stdout",
     "output_type": "stream",
     "text": [
      "path = C:\\Users\\jjones\\Documents\\GitHub\\bifacialvf\\bifacialvf\\TEMP\\Experiment_1\n",
      "Getting weather file: USA_AZ_Davis-Monthan.AFB.722745_TMY3.epw\n",
      " ... OK!\n"
     ]
    }
   ],
   "source": [
    "#Get weather file for Tuscon AZ\n",
    "TMYtoread=bifacialvf.getEPW(lat=lat,lon=lon, path = testfolder)\n",
    "myTMY3, meta = bifacialvf.readInputTMY(TMYtoread)\n",
    "deltastyle = 'TMY3'"
   ]
  },
  {
   "cell_type": "markdown",
   "id": "ce381ea2",
   "metadata": {},
   "source": [
    "## Experiment for tilt"
   ]
  },
  {
   "cell_type": "code",
   "execution_count": 10,
   "id": "a34742f6",
   "metadata": {},
   "outputs": [
    {
     "name": "stdout",
     "output_type": "stream",
     "text": [
      "Albedo value passed, but also present in TMY3 file.  Using albedo value passed. To use the ones in TMY3 file re-run simulation with albedo=None\n",
      "\n",
      " \n",
      "********* \n",
      "Running Simulation for TMY3: \n",
      "Location:   Davis Monthan Afb\n",
      "Lat:  32.17  Long:  -110.88  Tz  -7.0\n",
      "Parameters: tilt:  20   Sazm:  180     Clearance_Height :  0.75   Pitch:  3.0303030303030303   Row type:  interior   Albedo:  0.31\n",
      "Saving into C:\\Users\\jjones\\Documents\\GitHub\\bifacialvf\\bifacialvf\\TEMP\\Experiment_1\\Results_Test_Tilt_20.csv\n",
      " \n",
      " \n",
      "Distance between rows for no shading on Dec 21 at 9 am solar time =  0.7447282075136877\n",
      "Actual distance between rows =  2.090610409517122\n",
      " \n",
      "Saving Ground Irradiance Values for AgriPV Analysis. \n"
     ]
    },
    {
     "name": "stderr",
     "output_type": "stream",
     "text": [
      "100%|██████████████████████████████████████████████████████████████████████████████| 8760/8760 [03:32<00:00, 41.30it/s]\n"
     ]
    },
    {
     "name": "stdout",
     "output_type": "stream",
     "text": [
      "Finished\n",
      "date            Jan           Feb            Mar            Apr  \\\n",
      "0      98803.175207  90530.787351  134773.118509  202124.875802   \n",
      "1     100343.107940  90242.621302  134333.345432  200129.354108   \n",
      "2     100994.183048  90117.312609  133906.425722  197588.760928   \n",
      "3     101453.566657  89829.253197  133496.898692  193379.035319   \n",
      "4     101522.905223  89619.860124  133106.490171  190109.780774   \n",
      "..              ...           ...            ...            ...   \n",
      "95     94317.291204  90605.409019  136887.675941  209316.566052   \n",
      "96     94925.806329  90726.951416  136426.933666  207998.041447   \n",
      "97     95890.006590  90669.220801  135944.391207  206416.146803   \n",
      "98     96529.874729  90548.147309  135475.588291  204900.767343   \n",
      "99     97677.857673  90512.615695  135061.225303  203389.354512   \n",
      "\n",
      "date            May            Jun            Jul            Aug  \\\n",
      "0     196047.563238  172529.808584  163026.806611  171055.011006   \n",
      "1     185303.467694  152436.599038  149978.655951  166674.414364   \n",
      "2     171433.111778  134897.441544  141747.387721  162619.091870   \n",
      "3     152701.166065   92001.264197  113300.926310  158654.621792   \n",
      "4     116248.317658   20266.300322   67530.183110  150748.082677   \n",
      "..              ...            ...            ...            ...   \n",
      "95    220871.978415  223928.502185  187330.948002  178788.395630   \n",
      "96    218070.287179  210127.391820  184554.634797  177350.983132   \n",
      "97    214018.701229  195953.564361  176297.788342  175975.338826   \n",
      "98    208554.317828  193502.217826  171331.182325  174654.301404   \n",
      "99    201679.890815  193183.424716  165749.412470  173522.341921   \n",
      "\n",
      "date            Sep            Oct           Nov           Dec  \n",
      "0     139272.627156  135387.645329  94201.443570  79260.025557  \n",
      "1     138855.826467  135238.532455  94708.822155  81409.187944  \n",
      "2     138028.518836  135084.944006  94655.228244  83010.560076  \n",
      "3     137387.078430  134968.993327  95114.409530  82881.297501  \n",
      "4     136470.792374  134880.370298  95352.960427  83279.504318  \n",
      "..              ...            ...           ...           ...  \n",
      "95    141507.960402  136082.021801  92910.636307  77389.895962  \n",
      "96    141040.384352  136030.835114  93020.439356  77300.211211  \n",
      "97    140549.095747  135760.751228  93376.914629  77662.087738  \n",
      "98    140073.339498  135613.547141  93380.860732  78050.033960  \n",
      "99    139582.801377  135458.319279  93948.829715  78500.208401  \n",
      "\n",
      "[100 rows x 12 columns]\n",
      "Albedo value passed, but also present in TMY3 file.  Using albedo value passed. To use the ones in TMY3 file re-run simulation with albedo=None\n",
      "\n",
      " \n",
      "********* \n",
      "Running Simulation for TMY3: \n",
      "Location:   Davis Monthan Afb\n",
      "Lat:  32.17  Long:  -110.88  Tz  -7.0\n",
      "Parameters: tilt:  30   Sazm:  180     Clearance_Height :  0.75   Pitch:  3.0303030303030303   Row type:  interior   Albedo:  0.31\n",
      "Saving into C:\\Users\\jjones\\Documents\\GitHub\\bifacialvf\\bifacialvf\\TEMP\\Experiment_1\\Results_Test_Tilt_30.csv\n",
      " \n",
      " \n",
      "Distance between rows for no shading on Dec 21 at 9 am solar time =  1.0887198050270444\n",
      "Actual distance between rows =  2.1642776265185915\n",
      " \n",
      "Saving Ground Irradiance Values for AgriPV Analysis. \n"
     ]
    },
    {
     "name": "stderr",
     "output_type": "stream",
     "text": [
      "100%|██████████████████████████████████████████████████████████████████████████████| 8760/8760 [03:32<00:00, 41.32it/s]\n"
     ]
    },
    {
     "name": "stdout",
     "output_type": "stream",
     "text": [
      "Finished\n",
      "date           Jan           Feb            Mar            Apr            May  \\\n",
      "0     91849.558328  89334.103063  135505.138429  202795.092173  196667.674578   \n",
      "1     92884.037887  89154.002132  135089.914949  200791.436228  185942.472465   \n",
      "2     93356.309941  89068.599564  134727.286018  198288.116018  172090.227518   \n",
      "3     93997.531200  89241.165065  134338.700268  194094.623342  153375.478926   \n",
      "4     94680.749606  89092.926767  133969.268700  190816.837842  116934.424759   \n",
      "..             ...           ...            ...            ...            ...   \n",
      "95    88459.113001  89898.906872  137448.666988  209850.468543  221369.898902   \n",
      "96    90080.961463  90107.781932  137017.027152  208553.085503  218590.604975   \n",
      "97    90537.020166  89800.533433  136563.257553  207015.862735  214550.980739   \n",
      "98    90883.750604  89502.481337  136174.603951  205508.653046  209108.396248   \n",
      "99    91645.265429  89426.096442  135735.192553  204017.398325  202255.324675   \n",
      "\n",
      "date            Jun            Jul            Aug            Sep  \\\n",
      "0     173062.540497  163757.009033  171743.237187  140216.850605   \n",
      "1     152986.074031  150731.333556  167383.099166  139786.348280   \n",
      "2     135454.133921  142526.401268  163347.388008  138958.474044   \n",
      "3      92556.111744  114100.397148  159401.539712  138339.710526   \n",
      "4      20835.454369   68348.858371  151512.481922  137428.523701   \n",
      "..              ...            ...            ...            ...   \n",
      "95    224364.703298  187899.316799  179333.282845  142214.944722   \n",
      "96    210576.664831  185149.646907  177920.123117  141801.351295   \n",
      "97    196422.460760  176923.508080  176568.456924  141334.436009   \n",
      "98    193985.045191  171982.833535  175271.024299  140903.613626   \n",
      "99    193685.176958  166426.467611  174162.189406  140441.235740   \n",
      "\n",
      "date            Oct           Nov           Dec  \n",
      "0     135260.503899  91657.472200  75523.560785  \n",
      "1     135009.970877  91469.173662  75876.778325  \n",
      "2     134766.579729  91469.308310  76019.905739  \n",
      "3     134759.253238  91568.685895  76289.400173  \n",
      "4     134536.349641  92037.866090  76698.836953  \n",
      "..              ...           ...           ...  \n",
      "95    135819.738371  89311.027359  65449.888071  \n",
      "96    135859.976777  89127.038780  68037.766190  \n",
      "97    135595.861540  89625.982229  71707.612711  \n",
      "98    135416.912624  90179.942885  75561.569375  \n",
      "99    135153.043294  91200.766958  75346.155107  \n",
      "\n",
      "[100 rows x 12 columns]\n"
     ]
    },
    {
     "data": {
      "image/png": "[encoded data removed]",
      "text/plain": [
       "<Figure size 432x288 with 1 Axes>"
      ]
     },
     "metadata": {
      "needs_background": "light"
     },
     "output_type": "display_data"
    }
   ],
   "source": [
    "for ti in range (0, len(tilts)):\n",
    "        #Build scene and run raytracing for all 3 azimuths\n",
    "    tilt = tilts[ti]\n",
    "    writefiletitle = os.path.join(testfolder, 'Results_Test_Tilt_'+str(tilt)+'.csv')\n",
    "    bifacialvf.simulate(myTMY3, meta, writefiletitle=writefiletitle, \n",
    "                        tilt=tilt, sazm=sazm, pitch=pitch_def, clearance_height=clearance_height_def, \n",
    "                        rowType=rowType, transFactor=transFactor, sensorsy=sensorsy, \n",
    "                        PVfrontSurface=PVfrontSurface, PVbackSurface=PVbackSurface, \n",
    "                        albedo=albedo, tracking=tracking, backtrack=backtrack, \n",
    "                        limit_angle=limit_angle, deltastyle=deltastyle, agriPV=True)\n"
   ]
  },
  {
   "cell_type": "code",
   "execution_count": 131,
   "id": "503dc284",
   "metadata": {},
   "outputs": [
    {
     "data": {
      "image/png": "[encoded data removed]",
      "text/plain": [
       "<Figure size 432x288 with 1 Axes>"
      ]
     },
     "metadata": {
      "needs_background": "light"
     },
     "output_type": "display_data"
    }
   ],
   "source": [
    "# Graph Tilts\n",
    "for ti in range (0, len(tilts)):\n",
    "    tilt = tilts[ti]\n",
    "    writefiletitle = os.path.join(testfolder, 'Results_Test_Tilt_'+str(tilt)+'.csv')\n",
    "    #Load the results from the resultfile\n",
    "    from bifacialvf import loadVFresults\n",
    "    (data, metadata) = loadVFresults(writefiletitle)\n",
    "    #Work with data in resultfile\n",
    "    data.set_index(pd.to_datetime(data['date']), inplace=True, drop=True)\n",
    "    data.index = data.index.map(lambda t: t.replace(year=2021))   # Chagning to be the same year\n",
    "    groundIrrads = data['Ground Irradiance Values'].str.strip('[]').str.split(' ', expand=True).astype(float)\n",
    "    df = groundIrrads.groupby([pd.Grouper(freq='M')]).sum().T\n",
    "    df.rename(columns={ df.columns[0]: \"Jan\", df.columns[1]: \"Feb\",df.columns[2]: \"Mar\", df.columns[3]: \"Apr\",\n",
    "\n",
    "                       df.columns[4]: \"May\",df.columns[5]: \"Jun\",df.columns[6]: \"Jul\",df.columns[7]: \"Aug\",\n",
    "                       df.columns[8]: \"Sep\",df.columns[9]: \"Oct\",df.columns[10]: \"Nov\",df.columns[11]: \"Dec\"    }, inplace = True)\n",
    "    #xstep = (len(data_line_f))\n",
    "    x_axis = list(range(1,101))\n",
    "    #x_axis_rad = np.linspace(0,100,xstep)\n",
    "    plt.figure(1)\n",
    "    VF = plt.plot(x_axis, df['Jun']/1000, label=tilt)\n",
    "    #fig = (df['May']/1000).plot()\n",
    "    #Radiance = plt.plot(x_axis_rad,data_line_f['Wm2Front']/1000, label='Radiance')\n",
    "    #fig.set_xlabel('Position between start of row and next row [%]')\n",
    "    #fig.set_ylabel('Cumulative Insolation for the month [kWh/m2]')\n",
    "    module_end = (2/module_place)*100 #Percentage between rows where the module ends)\n",
    "    plt.axvspan(0, module_end, alpha=.05, color='green')\n",
    "    plt.title('Bifacial_VF')\n",
    "    plt.ylim([0, 260])\n",
    "    plt.xlabel('Position between start of row and next row [%]')\n",
    "    plt.ylabel('Cumulative Insolation for the month [kWh/m2]')\n",
    "    plt.legend()"
   ]
  },
  {
   "cell_type": "markdown",
   "id": "2b37bad6",
   "metadata": {},
   "source": [
    "## Experiment for Clearance height"
   ]
  },
  {
   "cell_type": "code",
   "execution_count": 9,
   "id": "988b9d7a",
   "metadata": {},
   "outputs": [
    {
     "name": "stdout",
     "output_type": "stream",
     "text": [
      "Albedo value passed, but also present in TMY3 file.  Using albedo value passed. To use the ones in TMY3 file re-run simulation with albedo=None\n",
      "\n",
      " \n",
      "********* \n",
      "Running Simulation for TMY3: \n",
      "Location:   Davis Monthan Afb\n",
      "Lat:  32.17  Long:  -110.88  Tz  -7.0\n",
      "Parameters: tilt:  20   Sazm:  180     Clearance_Height :  0.125   Pitch:  3.0303030303030303   Row type:  interior   Albedo:  0.31\n",
      "Saving into C:\\Users\\jjones\\Documents\\GitHub\\bifacialvf\\bifacialvf\\TEMP\\Experiment_1\\Results_Test_ClearanceHeight_0.25.csv\n",
      " \n",
      " \n",
      "Distance between rows for no shading on Dec 21 at 9 am solar time =  0.7447282075136877\n",
      "Actual distance between rows =  2.090610409517122\n",
      " \n",
      "Saving Ground Irradiance Values for AgriPV Analysis. \n"
     ]
    },
    {
     "name": "stderr",
     "output_type": "stream",
     "text": [
      "100%|██████████████████████████████████████████████████████████████████████████████| 8760/8760 [03:05<00:00, 47.16it/s]\n"
     ]
    },
    {
     "name": "stdout",
     "output_type": "stream",
     "text": [
      "Finished\n",
      "Albedo value passed, but also present in TMY3 file.  Using albedo value passed. To use the ones in TMY3 file re-run simulation with albedo=None\n",
      "\n",
      " \n",
      "********* \n",
      "Running Simulation for TMY3: \n",
      "Location:   Davis Monthan Afb\n",
      "Lat:  32.17  Long:  -110.88  Tz  -7.0\n",
      "Parameters: tilt:  20   Sazm:  180     Clearance_Height :  0.25   Pitch:  3.0303030303030303   Row type:  interior   Albedo:  0.31\n",
      "Saving into C:\\Users\\jjones\\Documents\\GitHub\\bifacialvf\\bifacialvf\\TEMP\\Experiment_1\\Results_Test_ClearanceHeight_0.5.csv\n",
      " \n",
      " \n",
      "Distance between rows for no shading on Dec 21 at 9 am solar time =  0.7447282075136877\n",
      "Actual distance between rows =  2.090610409517122\n",
      " \n",
      "Saving Ground Irradiance Values for AgriPV Analysis. \n"
     ]
    },
    {
     "name": "stderr",
     "output_type": "stream",
     "text": [
      "100%|██████████████████████████████████████████████████████████████████████████████| 8760/8760 [03:15<00:00, 44.85it/s]\n"
     ]
    },
    {
     "name": "stdout",
     "output_type": "stream",
     "text": [
      "Finished\n",
      "Albedo value passed, but also present in TMY3 file.  Using albedo value passed. To use the ones in TMY3 file re-run simulation with albedo=None\n",
      "\n",
      " \n",
      "********* \n",
      "Running Simulation for TMY3: \n",
      "Location:   Davis Monthan Afb\n",
      "Lat:  32.17  Long:  -110.88  Tz  -7.0\n",
      "Parameters: tilt:  20   Sazm:  180     Clearance_Height :  0.375   Pitch:  3.0303030303030303   Row type:  interior   Albedo:  0.31\n",
      "Saving into C:\\Users\\jjones\\Documents\\GitHub\\bifacialvf\\bifacialvf\\TEMP\\Experiment_1\\Results_Test_ClearanceHeight_0.75.csv\n",
      " \n",
      " \n",
      "Distance between rows for no shading on Dec 21 at 9 am solar time =  0.7447282075136877\n",
      "Actual distance between rows =  2.090610409517122\n",
      " \n",
      "Saving Ground Irradiance Values for AgriPV Analysis. \n"
     ]
    },
    {
     "name": "stderr",
     "output_type": "stream",
     "text": [
      "100%|██████████████████████████████████████████████████████████████████████████████| 8760/8760 [03:28<00:00, 41.96it/s]\n"
     ]
    },
    {
     "name": "stdout",
     "output_type": "stream",
     "text": [
      "Finished\n",
      "Albedo value passed, but also present in TMY3 file.  Using albedo value passed. To use the ones in TMY3 file re-run simulation with albedo=None\n",
      "\n",
      " \n",
      "********* \n",
      "Running Simulation for TMY3: \n",
      "Location:   Davis Monthan Afb\n",
      "Lat:  32.17  Long:  -110.88  Tz  -7.0\n",
      "Parameters: tilt:  20   Sazm:  180     Clearance_Height :  0.5   Pitch:  3.0303030303030303   Row type:  interior   Albedo:  0.31\n",
      "Saving into C:\\Users\\jjones\\Documents\\GitHub\\bifacialvf\\bifacialvf\\TEMP\\Experiment_1\\Results_Test_ClearanceHeight_1.0.csv\n",
      " \n",
      " \n",
      "Distance between rows for no shading on Dec 21 at 9 am solar time =  0.7447282075136877\n",
      "Actual distance between rows =  2.090610409517122\n",
      " \n",
      "Saving Ground Irradiance Values for AgriPV Analysis. \n"
     ]
    },
    {
     "name": "stderr",
     "output_type": "stream",
     "text": [
      "100%|██████████████████████████████████████████████████████████████████████████████| 8760/8760 [03:12<00:00, 45.56it/s]\n"
     ]
    },
    {
     "name": "stdout",
     "output_type": "stream",
     "text": [
      "Finished\n",
      "Albedo value passed, but also present in TMY3 file.  Using albedo value passed. To use the ones in TMY3 file re-run simulation with albedo=None\n",
      "\n",
      " \n",
      "********* \n",
      "Running Simulation for TMY3: \n",
      "Location:   Davis Monthan Afb\n",
      "Lat:  32.17  Long:  -110.88  Tz  -7.0\n",
      "Parameters: tilt:  20   Sazm:  180     Clearance_Height :  0.75   Pitch:  3.0303030303030303   Row type:  interior   Albedo:  0.31\n",
      "Saving into C:\\Users\\jjones\\Documents\\GitHub\\bifacialvf\\bifacialvf\\TEMP\\Experiment_1\\Results_Test_ClearanceHeight_1.5.csv\n",
      " \n",
      " \n",
      "Distance between rows for no shading on Dec 21 at 9 am solar time =  0.7447282075136877\n",
      "Actual distance between rows =  2.090610409517122\n",
      " \n",
      "Saving Ground Irradiance Values for AgriPV Analysis. \n"
     ]
    },
    {
     "name": "stderr",
     "output_type": "stream",
     "text": [
      "100%|██████████████████████████████████████████████████████████████████████████████| 8760/8760 [03:28<00:00, 42.00it/s]\n"
     ]
    },
    {
     "name": "stdout",
     "output_type": "stream",
     "text": [
      "Finished\n",
      "Albedo value passed, but also present in TMY3 file.  Using albedo value passed. To use the ones in TMY3 file re-run simulation with albedo=None\n",
      "\n",
      " \n",
      "********* \n",
      "Running Simulation for TMY3: \n",
      "Location:   Davis Monthan Afb\n",
      "Lat:  32.17  Long:  -110.88  Tz  -7.0\n",
      "Parameters: tilt:  20   Sazm:  180     Clearance_Height :  1.0   Pitch:  3.0303030303030303   Row type:  interior   Albedo:  0.31\n",
      "Saving into C:\\Users\\jjones\\Documents\\GitHub\\bifacialvf\\bifacialvf\\TEMP\\Experiment_1\\Results_Test_ClearanceHeight_2.0.csv\n",
      " \n",
      " \n",
      "Distance between rows for no shading on Dec 21 at 9 am solar time =  0.7447282075136877\n",
      "Actual distance between rows =  2.090610409517122\n",
      " \n",
      "Saving Ground Irradiance Values for AgriPV Analysis. \n"
     ]
    },
    {
     "name": "stderr",
     "output_type": "stream",
     "text": [
      "100%|██████████████████████████████████████████████████████████████████████████████| 8760/8760 [03:34<00:00, 40.89it/s]\n"
     ]
    },
    {
     "name": "stdout",
     "output_type": "stream",
     "text": [
      "Finished\n"
     ]
    },
    {
     "data": {
      "image/png": "[encoded data removed]",
      "text/plain": [
       "<Figure size 432x288 with 1 Axes>"
      ]
     },
     "metadata": {
      "needs_background": "light"
     },
     "output_type": "display_data"
    }
   ],
   "source": [
    "for ch in range (0, len(clearance_heights)):\n",
    "    chreg = clearance_heights[ch]\n",
    "    clearance_height = chreg/CW #Normalize using the collector width. Needed for bifacial VF\n",
    "    writefiletitle = os.path.join(testfolder, 'Results_Test_ClearanceHeight_'+str(chreg)+'.csv')\n",
    "    bifacialvf.simulate(myTMY3, meta, writefiletitle=writefiletitle, \n",
    "                        tilt=tilt_def, sazm=sazm, pitch=pitch_def, clearance_height=clearance_height, \n",
    "                        rowType=rowType, transFactor=transFactor, sensorsy=sensorsy, \n",
    "                        PVfrontSurface=PVfrontSurface, PVbackSurface=PVbackSurface, \n",
    "                        albedo=albedo, tracking=tracking, backtrack=backtrack, \n",
    "                        limit_angle=limit_angle, deltastyle=deltastyle, agriPV=True)\n"
   ]
  },
  {
   "cell_type": "code",
   "execution_count": 134,
   "id": "d16074c2",
   "metadata": {},
   "outputs": [
    {
     "data": {
      "image/png": "[encoded data removed]",
      "text/plain": [
       "<Figure size 432x288 with 1 Axes>"
      ]
     },
     "metadata": {
      "needs_background": "light"
     },
     "output_type": "display_data"
    }
   ],
   "source": [
    "for ch in range (0, len(clearance_heights)):\n",
    "    #Build scene and run raytracing for all 3 azimuths\n",
    "    chreg = clearance_heights[ch]\n",
    "    clearance_height = chreg/CW #Normalize using the collector width. Needed for bifacial VF\n",
    "    writefiletitle = os.path.join(testfolder, 'Results_Test_ClearanceHeight_'+str(chreg)+'.csv')\n",
    "    #Load the results from the resultfile\n",
    "    from bifacialvf import loadVFresults\n",
    "    (data, metadata) = loadVFresults(writefiletitle)\n",
    "    #Work with data in resultfile\n",
    "    data.set_index(pd.to_datetime(data['date']), inplace=True, drop=True)\n",
    "    data.index = data.index.map(lambda t: t.replace(year=2021))   # Chagning to be the same year\n",
    "    groundIrrads = data['Ground Irradiance Values'].str.strip('[]').str.split(' ', expand=True).astype(float)\n",
    "    df = groundIrrads.groupby([pd.Grouper(freq='M')]).sum().T\n",
    "    df.rename(columns={ df.columns[0]: \"Jan\", df.columns[1]: \"Feb\",df.columns[2]: \"Mar\", df.columns[3]: \"Apr\",\n",
    "\n",
    "                       df.columns[4]: \"May\",df.columns[5]: \"Jun\",df.columns[6]: \"Jul\",df.columns[7]: \"Aug\",\n",
    "                       df.columns[8]: \"Sep\",df.columns[9]: \"Oct\",df.columns[10]: \"Nov\",df.columns[11]: \"Dec\"    }, inplace = True)\n",
    "    #xstep = (len(data_line_f))\n",
    "    x_axis = list(range(1,101))\n",
    "    #x_axis_rad = np.linspace(0,100,xstep)\n",
    "    plt.figure(1)\n",
    "    VF = plt.plot(x_axis, df['Jun']/1000, label=chreg)\n",
    "    #fig = (df['May']/1000).plot()\n",
    "    #Radiance = plt.plot(x_axis_rad,data_line_f['Wm2Front']/1000, label='Radiance')\n",
    "    #fig.set_xlabel('Position between start of row and next row [%]')\n",
    "    #fig.set_ylabel('Cumulative Insolation for the month [kWh/m2]')\n",
    "    module_end = (2/module_place)*100 #Percentage between rows where the module ends)\n",
    "    plt.axvspan(0, module_end, alpha=.05, color='green')\n",
    "    plt.title('Bifacial_VF')\n",
    "    plt.xlabel('Position between start of row and next row [%]')\n",
    "    plt.ylabel('Cumulative Insolation for the month [kWh/m2]')\n",
    "    plt.legend()"
   ]
  },
  {
   "cell_type": "markdown",
   "id": "8b75f4bf",
   "metadata": {},
   "source": [
    "## Experiment for GCR"
   ]
  },
  {
   "cell_type": "code",
   "execution_count": 28,
   "id": "c379a2ec",
   "metadata": {},
   "outputs": [
    {
     "name": "stdout",
     "output_type": "stream",
     "text": [
      "Albedo value passed, but also present in TMY3 file.  Using albedo value passed. To use the ones in TMY3 file re-run simulation with albedo=None\n",
      "\n",
      " \n",
      "********* \n",
      "Running Simulation for TMY3: \n",
      "Location:   Davis Monthan Afb\n",
      "Lat:  32.17  Long:  -110.88  Tz  -7.0\n",
      "Parameters: tilt:  20   Sazm:  180     Clearance_Height :  0.375   Pitch:  7.142857142857142   Row type:  interior   Albedo:  0.31\n",
      "Saving into C:\\Users\\jjones\\Documents\\GitHub\\bifacialvf\\bifacialvf\\TEMP\\Experiment_1\\Results_Test_GCR_0.28.csv\n",
      " \n",
      " \n",
      "Distance between rows for no shading on Dec 21 at 9 am solar time =  0.7447282075136877\n",
      "Actual distance between rows =  6.2031645220712335\n",
      " \n",
      "Saving Ground Irradiance Values for AgriPV Analysis. \n"
     ]
    },
    {
     "name": "stderr",
     "output_type": "stream",
     "text": [
      "100%|█████████████████████████████████████████████████████████████████████████████| 8760/8760 [01:25<00:00, 102.98it/s]\n"
     ]
    },
    {
     "name": "stdout",
     "output_type": "stream",
     "text": [
      "Finished\n",
      "Albedo value passed, but also present in TMY3 file.  Using albedo value passed. To use the ones in TMY3 file re-run simulation with albedo=None\n",
      "\n",
      " \n",
      "********* \n",
      "Running Simulation for TMY3: \n",
      "Location:   Davis Monthan Afb\n",
      "Lat:  32.17  Long:  -110.88  Tz  -7.0\n",
      "Parameters: tilt:  20   Sazm:  180     Clearance_Height :  0.375   Pitch:  6.0606060606060606   Row type:  interior   Albedo:  0.31\n",
      "Saving into C:\\Users\\jjones\\Documents\\GitHub\\bifacialvf\\bifacialvf\\TEMP\\Experiment_1\\Results_Test_GCR_0.33.csv\n",
      " \n",
      " \n",
      "Distance between rows for no shading on Dec 21 at 9 am solar time =  0.7447282075136877\n",
      "Actual distance between rows =  5.120913439820152\n",
      " \n",
      "Saving Ground Irradiance Values for AgriPV Analysis. \n"
     ]
    },
    {
     "name": "stderr",
     "output_type": "stream",
     "text": [
      "100%|█████████████████████████████████████████████████████████████████████████████| 8760/8760 [01:27<00:00, 100.57it/s]\n"
     ]
    },
    {
     "name": "stdout",
     "output_type": "stream",
     "text": [
      "Finished\n",
      "Albedo value passed, but also present in TMY3 file.  Using albedo value passed. To use the ones in TMY3 file re-run simulation with albedo=None\n",
      "\n",
      " \n",
      "********* \n",
      "Running Simulation for TMY3: \n",
      "Location:   Davis Monthan Afb\n",
      "Lat:  32.17  Long:  -110.88  Tz  -7.0\n",
      "Parameters: tilt:  20   Sazm:  180     Clearance_Height :  0.375   Pitch:  5.0   Row type:  interior   Albedo:  0.31\n",
      "Saving into C:\\Users\\jjones\\Documents\\GitHub\\bifacialvf\\bifacialvf\\TEMP\\Experiment_1\\Results_Test_GCR_0.4.csv\n",
      " \n",
      " \n",
      "Distance between rows for no shading on Dec 21 at 9 am solar time =  0.7447282075136877\n",
      "Actual distance between rows =  4.060307379214091\n",
      " \n",
      "Saving Ground Irradiance Values for AgriPV Analysis. \n"
     ]
    },
    {
     "name": "stderr",
     "output_type": "stream",
     "text": [
      "100%|█████████████████████████████████████████████████████████████████████████████| 8760/8760 [01:27<00:00, 100.02it/s]\n"
     ]
    },
    {
     "name": "stdout",
     "output_type": "stream",
     "text": [
      "Finished\n",
      "Albedo value passed, but also present in TMY3 file.  Using albedo value passed. To use the ones in TMY3 file re-run simulation with albedo=None\n",
      "\n",
      " \n",
      "********* \n",
      "Running Simulation for TMY3: \n",
      "Location:   Davis Monthan Afb\n",
      "Lat:  32.17  Long:  -110.88  Tz  -7.0\n",
      "Parameters: tilt:  20   Sazm:  180     Clearance_Height :  0.375   Pitch:  3.3333333333333335   Row type:  interior   Albedo:  0.31\n",
      "Saving into C:\\Users\\jjones\\Documents\\GitHub\\bifacialvf\\bifacialvf\\TEMP\\Experiment_1\\Results_Test_GCR_0.6.csv\n",
      " \n",
      " \n",
      "Distance between rows for no shading on Dec 21 at 9 am solar time =  0.7447282075136877\n",
      "Actual distance between rows =  2.393640712547425\n",
      " \n",
      "Saving Ground Irradiance Values for AgriPV Analysis. \n"
     ]
    },
    {
     "name": "stderr",
     "output_type": "stream",
     "text": [
      "100%|██████████████████████████████████████████████████████████████████████████████| 8760/8760 [01:30<00:00, 97.05it/s]\n"
     ]
    },
    {
     "name": "stdout",
     "output_type": "stream",
     "text": [
      "Finished\n"
     ]
    },
    {
     "data": {
      "image/png": "[encoded data removed]",
      "text/plain": [
       "<Figure size 432x288 with 1 Axes>"
      ]
     },
     "metadata": {
      "needs_background": "light"
     },
     "output_type": "display_data"
    }
   ],
   "source": [
    "for gc in range (0, len(GCRs)):\n",
    "    GCR = GCRs[gc]\n",
    "    pitch = CW/GCR\n",
    "    writefiletitle = os.path.join(testfolder, 'Results_Test_GCR_'+str(GCR)+'.csv')\n",
    "    bifacialvf.simulate(myTMY3, meta, writefiletitle=writefiletitle, \n",
    "                        tilt=tilt_def, sazm=sazm, pitch=pitch, clearance_height=clearance_height_def, \n",
    "                        rowType=rowType, transFactor=transFactor, sensorsy=sensorsy, \n",
    "                        PVfrontSurface=PVfrontSurface, PVbackSurface=PVbackSurface, \n",
    "                        albedo=albedo, tracking=tracking, backtrack=backtrack, \n",
    "                        limit_angle=limit_angle, deltastyle=deltastyle, agriPV=True)\n",
    "\n",
    "  "
   ]
  },
  {
   "cell_type": "code",
   "execution_count": 136,
   "id": "f7e326e8",
   "metadata": {},
   "outputs": [
    {
     "data": {
      "image/png": "[encoded data removed]",
      "text/plain": [
       "<Figure size 432x288 with 1 Axes>"
      ]
     },
     "metadata": {
      "needs_background": "light"
     },
     "output_type": "display_data"
    }
   ],
   "source": [
    "for gc in range (0, len(GCRs)):\n",
    "    GCR = GCRs[gc]\n",
    "    pitch = CW/GCR\n",
    "    writefiletitle = os.path.join(testfolder, 'Results_Test_GCR_'+str(GCR)+'.csv')\n",
    "    #Load the results from the resultfile\n",
    "    from bifacialvf import loadVFresults\n",
    "    (data, metadata) = loadVFresults(writefiletitle)\n",
    "    #Work with data in resultfile\n",
    "    data.set_index(pd.to_datetime(data['date']), inplace=True, drop=True)\n",
    "    data.index = data.index.map(lambda t: t.replace(year=2021))   # Chagning to be the same year\n",
    "    groundIrrads = data['Ground Irradiance Values'].str.strip('[]').str.split(' ', expand=True).astype(float)\n",
    "    df = groundIrrads.groupby([pd.Grouper(freq='M')]).sum().T\n",
    "    # I'm sure there's a fancier way to do this but hey, this works.\n",
    "    df.rename(columns={ df.columns[0]: \"Jan\", df.columns[1]: \"Feb\",df.columns[2]: \"Mar\", df.columns[3]: \"Apr\",\n",
    "\n",
    "                       df.columns[4]: \"May\",df.columns[5]: \"Jun\",df.columns[6]: \"Jul\",df.columns[7]: \"Aug\",\n",
    "                       df.columns[8]: \"Sep\",df.columns[9]: \"Oct\",df.columns[10]: \"Nov\",df.columns[11]: \"Dec\"    }, inplace = True)\n",
    "    #xstep = (len(data_line_f))\n",
    "    x_axis = list(range(1,101))\n",
    "    #x_axis_rad = np.linspace(0,100,xstep)\n",
    "    plt.figure(1)\n",
    "    VF = plt.plot(x_axis, df['Jun']/1000, label=GCR)\n",
    "    #fig = (df['May']/1000).plot()\n",
    "    #Radiance = plt.plot(x_axis_rad,data_line_f['Wm2Front']/1000, label='Radiance')\n",
    "    #fig.set_xlabel('Position between start of row and next row [%]')\n",
    "    #fig.set_ylabel('Cumulative Insolation for the month [kWh/m2]')\n",
    "    module_end = (2/pitch)*100 #Percentage between rows where the module ends)\n",
    "    #plt.axvspan(0, module_end, alpha=.05, color='green')\n",
    "    plt.title('Bifacial_VF')\n",
    "    plt.xlabel('Position between start of row and next row [%]')\n",
    "    plt.ylabel('Cumulative Insolation for the month [kWh/m2]')\n",
    "    plt.legend()"
   ]
  },
  {
   "cell_type": "markdown",
   "id": "e174f58f",
   "metadata": {},
   "source": [
    "## Compare VF and Radiance"
   ]
  },
  {
   "cell_type": "code",
   "execution_count": 16,
   "id": "84a9cdff",
   "metadata": {},
   "outputs": [
    {
     "data": {
      "text/plain": [
       "<matplotlib.legend.Legend at 0x24b86bf58b0>"
      ]
     },
     "execution_count": 16,
     "metadata": {},
     "output_type": "execute_result"
    },
    {
     "data": {
      "image/png": "[encoded data removed]",
      "text/plain": [
       "<Figure size 432x288 with 1 Axes>"
      ]
     },
     "metadata": {
      "needs_background": "light"
     },
     "output_type": "display_data"
    }
   ],
   "source": [
    "from bifacialvf import loadVFresults\n",
    "VFfile = r'C:\\Users\\jjones\\Documents\\GitHub\\bifacialvf\\bifacialvf\\TEMP\\Experiment_1\\Results_Test_Tilt_20.csv'\n",
    "(data, metadata) = loadVFresults(VFfile)\n",
    "#Work with data in resultfile\n",
    "data.set_index(pd.to_datetime(data['date']), inplace=True, drop=True)\n",
    "data.index = data.index.map(lambda t: t.replace(year=2021))   # Chagning to be the same year\n",
    "groundIrrads = data['Ground Irradiance Values'].str.strip('[]').str.split(' ', expand=True).astype(float)\n",
    "df = groundIrrads.groupby([pd.Grouper(freq='M')]).sum().T\n",
    "# I'm sure there's a fancier way to do this but hey, this works.\n",
    "df.rename(columns={ df.columns[0]: \"Jan\", df.columns[1]: \"Feb\",df.columns[2]: \"Mar\", df.columns[3]: \"Apr\",\n",
    "\n",
    "                   df.columns[4]: \"May\",df.columns[5]: \"Jun\",df.columns[6]: \"Jul\",df.columns[7]: \"Aug\",\n",
    "                   df.columns[8]: \"Sep\",df.columns[9]: \"Oct\",df.columns[10]: \"Nov\",df.columns[11]: \"Dec\"    }, inplace = True)\n",
    "#xstep = (len(data_line_f))\n",
    "x_axis = list(range(1,101))\n",
    "#x_axis_rad = np.linspace(0,100,xstep)\n",
    "\n",
    "#fig = (df['May']/1000).plot()\n",
    "#Radiance = plt.plot(x_axis_rad,data_line_f['Wm2Front']/1000, label='Radiance')\n",
    "Radiance_File = r'C:\\Users\\jjones\\Documents\\GitHub\\bifacial_radiance\\bifacial_radiance\\TEMP\\Experiment_1\\results\\irr_Rad_Experiment1_tilt_20_Ground_Analysis_Front.csv'\n",
    "(dataR, metadata) = loadVFresults(Radiance_File)\n",
    "data_lineR = dataR#.iloc[13220:13285] #Account for the three lines ignored in the loadVFresults command. Don't need them since \n",
    "data_line_fR = data_lineR[::-1].reset_index(drop = True)\n",
    "data_line_fR.rename(columns={ data_line_fR.columns[0]: \"x\", data_line_fR.columns[1]: \"y\",data_line_fR.columns[2]: \"z\", data_line_fR.columns[3]: \"mattype\",data_line_fR.columns[4]: \"Wm2Front\",}, inplace = True)\n",
    "#Radirr = Radmin/ghitot\n",
    "#VFirr = VFmin/ghitot\n",
    "#Rad_irr_factor.append(Radirr)\n",
    "#VF_irr_factor.append(VFirr)\n",
    "#fig.set_xlabel('Position between start of row and next row [%]')\n",
    "#fig.set_ylabel('Cumulative Insolation for the month [kWh/m2]')\n",
    "yshift = data_line_fR['y'] + 1\n",
    "ystep = (yshift/6.06)*100\n",
    "#Plot Radiance and VF lines\n",
    "plt.figure(1)\n",
    "Rad = plt.plot(ystep, data_line_fR['Wm2Front']/1000, label='Rad (122)')\n",
    "VF = plt.plot(x_axis, df['Jun']/1000, label='VF (100)')\n",
    "module_end = (2/module_place)*100 #Percentage between rows where the module ends)\n",
    "plt.axvspan(0, module_end, alpha=.05, color='green')\n",
    "plt.title('Bifacial_VF and Radiance Comparison (June)')\n",
    "plt.xlabel('Position between start of row and next row [%]')\n",
    "plt.ylabel('Cumulative Insolation for the month [kWh/m2]')\n",
    "plt.legend()"
   ]
  },
  {
   "cell_type": "markdown",
   "id": "c4d2dff1",
   "metadata": {},
   "source": [
    "## Changing Transmission Factor"
   ]
  },
  {
   "cell_type": "code",
   "execution_count": 21,
   "id": "0f222f23",
   "metadata": {},
   "outputs": [
    {
     "name": "stdout",
     "output_type": "stream",
     "text": [
      "2 2 0.0\n",
      "Albedo value passed, but also present in TMY3 file.  Using albedo value passed. To use the ones in TMY3 file re-run simulation with albedo=None\n",
      "\n",
      " \n",
      "********* \n",
      "Running Simulation for TMY3: \n",
      "Location:   Davis Monthan Afb\n",
      "Lat:  32.17  Long:  -110.88  Tz  -7.0\n",
      "Parameters: tilt:  20   Sazm:  180     Clearance_Height :  0.75   Pitch:  3.0303030303030303   Row type:  interior   Albedo:  0.31\n",
      "Saving into C:\\Users\\jjones\\Documents\\GitHub\\bifacialvf\\bifacialvf\\TEMP\\Experiment_1\\Results_Test_TFactor_0.0.csv\n",
      " \n",
      " \n",
      "Distance between rows for no shading on Dec 21 at 9 am solar time =  0.7447282075136877\n",
      "Actual distance between rows =  2.090610409517122\n",
      " \n",
      "Saving Ground Irradiance Values for AgriPV Analysis. \n"
     ]
    },
    {
     "name": "stderr",
     "output_type": "stream",
     "text": [
      "100%|██████████████████████████████████████████████████████████████████████████████| 8760/8760 [01:43<00:00, 84.43it/s]\n"
     ]
    },
    {
     "name": "stdout",
     "output_type": "stream",
     "text": [
      "Finished\n",
      "2.1 2 0.04761904761904767\n",
      "Albedo value passed, but also present in TMY3 file.  Using albedo value passed. To use the ones in TMY3 file re-run simulation with albedo=None\n",
      "\n",
      " \n",
      "********* \n",
      "Running Simulation for TMY3: \n",
      "Location:   Davis Monthan Afb\n",
      "Lat:  32.17  Long:  -110.88  Tz  -7.0\n",
      "Parameters: tilt:  20   Sazm:  180     Clearance_Height :  0.75   Pitch:  3.03030303030303   Row type:  interior   Albedo:  0.31\n",
      "Saving into C:\\Users\\jjones\\Documents\\GitHub\\bifacialvf\\bifacialvf\\TEMP\\Experiment_1\\Results_Test_TFactor_0.04761904761904767.csv\n",
      " \n",
      " \n",
      "Distance between rows for no shading on Dec 21 at 9 am solar time =  0.7447282075136877\n",
      "Actual distance between rows =  2.0906104095171214\n",
      " \n",
      "Saving Ground Irradiance Values for AgriPV Analysis. \n"
     ]
    },
    {
     "name": "stderr",
     "output_type": "stream",
     "text": [
      "100%|██████████████████████████████████████████████████████████████████████████████| 8760/8760 [01:45<00:00, 83.28it/s]\n"
     ]
    },
    {
     "name": "stdout",
     "output_type": "stream",
     "text": [
      "Finished\n",
      "2.2 2 0.09090909090909094\n",
      "Albedo value passed, but also present in TMY3 file.  Using albedo value passed. To use the ones in TMY3 file re-run simulation with albedo=None\n",
      "\n",
      " \n",
      "********* \n",
      "Running Simulation for TMY3: \n",
      "Location:   Davis Monthan Afb\n",
      "Lat:  32.17  Long:  -110.88  Tz  -7.0\n",
      "Parameters: tilt:  20   Sazm:  180     Clearance_Height :  0.75   Pitch:  3.0303030303030303   Row type:  interior   Albedo:  0.31\n",
      "Saving into C:\\Users\\jjones\\Documents\\GitHub\\bifacialvf\\bifacialvf\\TEMP\\Experiment_1\\Results_Test_TFactor_0.09090909090909094.csv\n",
      " \n",
      " \n",
      "Distance between rows for no shading on Dec 21 at 9 am solar time =  0.7447282075136877\n",
      "Actual distance between rows =  2.090610409517122\n",
      " \n",
      "Saving Ground Irradiance Values for AgriPV Analysis. \n"
     ]
    },
    {
     "name": "stderr",
     "output_type": "stream",
     "text": [
      "100%|██████████████████████████████████████████████████████████████████████████████| 8760/8760 [01:41<00:00, 86.52it/s]\n"
     ]
    },
    {
     "name": "stdout",
     "output_type": "stream",
     "text": [
      "Finished\n",
      "2.3 2 0.13043478260869557\n",
      "Albedo value passed, but also present in TMY3 file.  Using albedo value passed. To use the ones in TMY3 file re-run simulation with albedo=None\n",
      "\n",
      " \n",
      "********* \n",
      "Running Simulation for TMY3: \n",
      "Location:   Davis Monthan Afb\n",
      "Lat:  32.17  Long:  -110.88  Tz  -7.0\n",
      "Parameters: tilt:  20   Sazm:  180     Clearance_Height :  0.75   Pitch:  3.0303030303030303   Row type:  interior   Albedo:  0.31\n",
      "Saving into C:\\Users\\jjones\\Documents\\GitHub\\bifacialvf\\bifacialvf\\TEMP\\Experiment_1\\Results_Test_TFactor_0.13043478260869557.csv\n",
      " \n",
      " \n",
      "Distance between rows for no shading on Dec 21 at 9 am solar time =  0.7447282075136877\n",
      "Actual distance between rows =  2.090610409517122\n",
      " \n",
      "Saving Ground Irradiance Values for AgriPV Analysis. \n"
     ]
    },
    {
     "name": "stderr",
     "output_type": "stream",
     "text": [
      "100%|██████████████████████████████████████████████████████████████████████████████| 8760/8760 [01:40<00:00, 86.97it/s]\n"
     ]
    },
    {
     "name": "stdout",
     "output_type": "stream",
     "text": [
      "Finished\n",
      "2.5 2 0.19999999999999996\n",
      "Albedo value passed, but also present in TMY3 file.  Using albedo value passed. To use the ones in TMY3 file re-run simulation with albedo=None\n",
      "\n",
      " \n",
      "********* \n",
      "Running Simulation for TMY3: \n",
      "Location:   Davis Monthan Afb\n",
      "Lat:  32.17  Long:  -110.88  Tz  -7.0\n",
      "Parameters: tilt:  20   Sazm:  180     Clearance_Height :  0.75   Pitch:  3.0303030303030303   Row type:  interior   Albedo:  0.31\n",
      "Saving into C:\\Users\\jjones\\Documents\\GitHub\\bifacialvf\\bifacialvf\\TEMP\\Experiment_1\\Results_Test_TFactor_0.19999999999999996.csv\n",
      " \n",
      " \n",
      "Distance between rows for no shading on Dec 21 at 9 am solar time =  0.7447282075136877\n",
      "Actual distance between rows =  2.090610409517122\n",
      " \n",
      "Saving Ground Irradiance Values for AgriPV Analysis. \n"
     ]
    },
    {
     "name": "stderr",
     "output_type": "stream",
     "text": [
      "100%|██████████████████████████████████████████████████████████████████████████████| 8760/8760 [01:41<00:00, 86.32it/s]\n"
     ]
    },
    {
     "name": "stdout",
     "output_type": "stream",
     "text": [
      "Finished\n",
      "3 2 0.33333333333333337\n",
      "Albedo value passed, but also present in TMY3 file.  Using albedo value passed. To use the ones in TMY3 file re-run simulation with albedo=None\n",
      "\n",
      " \n",
      "********* \n",
      "Running Simulation for TMY3: \n",
      "Location:   Davis Monthan Afb\n",
      "Lat:  32.17  Long:  -110.88  Tz  -7.0\n",
      "Parameters: tilt:  20   Sazm:  180     Clearance_Height :  0.75   Pitch:  3.03030303030303   Row type:  interior   Albedo:  0.31\n",
      "Saving into C:\\Users\\jjones\\Documents\\GitHub\\bifacialvf\\bifacialvf\\TEMP\\Experiment_1\\Results_Test_TFactor_0.33333333333333337.csv\n",
      " \n",
      " \n",
      "Distance between rows for no shading on Dec 21 at 9 am solar time =  0.7447282075136877\n",
      "Actual distance between rows =  2.0906104095171214\n",
      " \n",
      "Saving Ground Irradiance Values for AgriPV Analysis. \n"
     ]
    },
    {
     "name": "stderr",
     "output_type": "stream",
     "text": [
      "100%|██████████████████████████████████████████████████████████████████████████████| 8760/8760 [01:46<00:00, 81.92it/s]"
     ]
    },
    {
     "name": "stdout",
     "output_type": "stream",
     "text": [
      "Finished\n"
     ]
    },
    {
     "name": "stderr",
     "output_type": "stream",
     "text": [
      "\n"
     ]
    }
   ],
   "source": [
    "xl = 2\n",
    "yl = 1 \n",
    "ygaps = [0,.1,.2,.3,.5,1]\n",
    "numpanels_l = 2\n",
    "\n",
    "\n",
    "for yg in range (0, len(ygaps)):\n",
    "        #Build scene and run raytracing for all 3 azimuths\n",
    "    ygap = ygaps[yg]\n",
    "    CW = yl * numpanels_l +(ygap * (numpanels_l-1)) #Collector Width\n",
    "    AA = yl*numpanels_l #Area of module that light hits\n",
    "    transFactor = 1 - (AA/CW) # TransmissionFactor(open area fraction)\n",
    "    pitch = CW/GCR_def/CW\n",
    "    print(CW,AA,transFactor)\n",
    "    writefiletitle = os.path.join(testfolder, 'Results_Test_TFactor_'+str(transFactor)+'.csv')\n",
    "    bifacialvf.simulate(myTMY3, meta, writefiletitle=writefiletitle, \n",
    "                        tilt=tilt_def, sazm=sazm, pitch=pitch, clearance_height=clearance_height_def, \n",
    "                        rowType=rowType, transFactor=transFactor, sensorsy=sensorsy, \n",
    "                        PVfrontSurface=PVfrontSurface, PVbackSurface=PVbackSurface, \n",
    "                        albedo=albedo, tracking=tracking, backtrack=backtrack, \n",
    "                        limit_angle=limit_angle, deltastyle=deltastyle, agriPV=True)"
   ]
  },
  {
   "cell_type": "code",
   "execution_count": 138,
   "id": "84690c7b",
   "metadata": {},
   "outputs": [
    {
     "name": "stdout",
     "output_type": "stream",
     "text": [
      "2 2 0.0\n",
      "2.1 2 0.04761904761904767\n",
      "2.2 2 0.09090909090909094\n",
      "2.3 2 0.13043478260869557\n",
      "2.5 2 0.19999999999999996\n",
      "3 2 0.33333333333333337\n"
     ]
    },
    {
     "data": {
      "image/png": "[encoded data removed]",
      "text/plain": [
       "<Figure size 432x288 with 1 Axes>"
      ]
     },
     "metadata": {
      "needs_background": "light"
     },
     "output_type": "display_data"
    }
   ],
   "source": [
    "xl = 2\n",
    "yl = 1 \n",
    "ygaps = [0,.1,.2,.3,.5,1]\n",
    "numpanels_l = 2\n",
    "\n",
    "\n",
    "for yg in range (0, len(ygaps)):\n",
    "        #Build scene and run raytracing for all 3 azimuths\n",
    "    ygap = ygaps[yg]\n",
    "    CW = yl * numpanels_l +(ygap * (numpanels_l-1)) #Collector Width\n",
    "    AA = yl*numpanels_l #Area of module that light hits\n",
    "    transFactor = 1 - (AA/CW) # TransmissionFactor(open area fraction)\n",
    "    pitch = CW/GCR_def/CW\n",
    "    print(CW,AA,transFactor)\n",
    "    writefiletitle = os.path.join(testfolder, 'Results_Test_TFactor_'+str(transFactor)+'.csv')\n",
    "\n",
    "    #Load the results from the resultfile\n",
    "    from bifacialvf import loadVFresults\n",
    "    (data, metadata) = loadVFresults(writefiletitle)\n",
    "    #Work with data in resultfile\n",
    "    data.set_index(pd.to_datetime(data['date']), inplace=True, drop=True)\n",
    "    data.index = data.index.map(lambda t: t.replace(year=2021))   # Chagning to be the same year\n",
    "    groundIrrads = data['Ground Irradiance Values'].str.strip('[]').str.split(' ', expand=True).astype(float)\n",
    "    df = groundIrrads.groupby([pd.Grouper(freq='M')]).sum().T\n",
    "    # I'm sure there's a fancier way to do this but hey, this works.\n",
    "    df.rename(columns={ df.columns[0]: \"Jan\", df.columns[1]: \"Feb\",df.columns[2]: \"Mar\", df.columns[3]: \"Apr\",\n",
    "\n",
    "                       df.columns[4]: \"May\",df.columns[5]: \"Jun\",df.columns[6]: \"Jul\",df.columns[7]: \"Aug\",\n",
    "                       df.columns[8]: \"Sep\",df.columns[9]: \"Oct\",df.columns[10]: \"Nov\",df.columns[11]: \"Dec\"    }, inplace = True)\n",
    "    #xstep = (len(data_line_f))\n",
    "    x_axis = list(range(1,101))\n",
    "    #x_axis_rad = np.linspace(0,100,xstep)\n",
    "    plt.figure(1)\n",
    "    VF = plt.plot(x_axis, df['Oct']/1000, label=transFactor)\n",
    "    #fig = (df['May']/1000).plot()\n",
    "    #Radiance = plt.plot(x_axis_rad,data_line_f['Wm2Front']/1000, label='Radiance')\n",
    "    #fig.set_xlabel('Position between start of row and next row [%]')\n",
    "    #fig.set_ylabel('Cumulative Insolation for the month [kWh/m2]')\n",
    "    plt.title('Bifacial_VF')\n",
    "    plt.xlabel('Position between start of row and next row [%]')\n",
    "    plt.ylabel('Cumulative Insolation for the month [kWh/m2]')\n",
    "    plt.legend()"
   ]
  },
  {
   "cell_type": "markdown",
   "id": "627ef051",
   "metadata": {},
   "source": [
    "# 5.Compare Radiance and VF for Nespelem, WA\n"
   ]
  },
  {
   "cell_type": "code",
   "execution_count": 104,
   "id": "9bad6b5e",
   "metadata": {},
   "outputs": [
    {
     "name": "stdout",
     "output_type": "stream",
     "text": [
      "1.5772807911367968\n",
      "Calculating Sun position with a delta of -30 mins. i.e. 12 is 11:30 sunpos\n",
      "Albedo value passed, but also present in TMY3 file.  Using albedo value passed. To use the ones in TMY3 file re-run simulation with albedo=None\n",
      "\n",
      " \n",
      "********* \n",
      "Running Simulation for TMY3: \n",
      "Location:   NESPELEM\n",
      "Lat:  48.17  Long:  -118.98  Tz  -8.0\n",
      "Parameters: tilt:  25   Sazm:  180     Clearance_Height :  0.3543499511241447   Pitch:  1.5772807911367968   Row type:  interior   Albedo:  0.31\n",
      "Saving into C:\\Users\\jjones\\Documents\\GitHub\\bifacialvf\\bifacialvf\\TEMP\\Experiment_1\\Results_Test_az_180.csv\n",
      " \n",
      " \n",
      "Distance between rows for no shading on Dec 21 at 9 am solar time =  2.0197831672109294\n",
      "Actual distance between rows =  0.6709730041001468\n",
      " \n",
      "Saving Ground Irradiance Values for AgriPV Analysis. \n"
     ]
    },
    {
     "name": "stderr",
     "output_type": "stream",
     "text": [
      "100%|██████████████████████████████████████████████████████████████████████████████| 8760/8760 [01:47<00:00, 81.48it/s]\n"
     ]
    },
    {
     "name": "stdout",
     "output_type": "stream",
     "text": [
      "Finished\n",
      "Albedo value passed, but also present in TMY3 file.  Using albedo value passed. To use the ones in TMY3 file re-run simulation with albedo=None\n",
      "\n",
      " \n",
      "********* \n",
      "Running Simulation for TMY3: \n",
      "Location:   NESPELEM\n",
      "Lat:  48.17  Long:  -118.98  Tz  -8.0\n",
      "Parameters: tilt:  25   Sazm:  150     Clearance_Height :  0.3543499511241447   Pitch:  1.5772807911367968   Row type:  interior   Albedo:  0.31\n",
      "Saving into C:\\Users\\jjones\\Documents\\GitHub\\bifacialvf\\bifacialvf\\TEMP\\Experiment_1\\Results_Test_az_150.csv\n",
      " \n",
      " \n",
      "Distance between rows for no shading on Dec 21 at 9 am solar time =  2.5431554219159778\n",
      "Actual distance between rows =  0.6709730041001468\n",
      " \n",
      "Saving Ground Irradiance Values for AgriPV Analysis. \n"
     ]
    },
    {
     "name": "stderr",
     "output_type": "stream",
     "text": [
      "100%|██████████████████████████████████████████████████████████████████████████████| 8760/8760 [01:41<00:00, 86.30it/s]\n"
     ]
    },
    {
     "name": "stdout",
     "output_type": "stream",
     "text": [
      "Finished\n",
      "Albedo value passed, but also present in TMY3 file.  Using albedo value passed. To use the ones in TMY3 file re-run simulation with albedo=None\n",
      "\n",
      " \n",
      "********* \n",
      "Running Simulation for TMY3: \n",
      "Location:   NESPELEM\n",
      "Lat:  48.17  Long:  -118.98  Tz  -8.0\n",
      "Parameters: tilt:  25   Sazm:  210     Clearance_Height :  0.3543499511241447   Pitch:  1.5772807911367968   Row type:  interior   Albedo:  0.31\n",
      "Saving into C:\\Users\\jjones\\Documents\\GitHub\\bifacialvf\\bifacialvf\\TEMP\\Experiment_1\\Results_Test_az_210.csv\n",
      " \n",
      " \n",
      "Distance between rows for no shading on Dec 21 at 9 am solar time =  0.9552116439657368\n",
      "Actual distance between rows =  0.6709730041001468\n",
      " \n",
      "Saving Ground Irradiance Values for AgriPV Analysis. \n"
     ]
    },
    {
     "name": "stderr",
     "output_type": "stream",
     "text": [
      "100%|██████████████████████████████████████████████████████████████████████████████| 8760/8760 [01:42<00:00, 85.44it/s]\n"
     ]
    },
    {
     "name": "stdout",
     "output_type": "stream",
     "text": [
      "Finished\n"
     ]
    }
   ],
   "source": [
    "\n",
    "\n",
    "# Variablee\n",
    "starttimes =['2005-05-01 1:30:0', '2007-06-01 1:30:0', '2020-07-01 1:30:0', '2020-08-01 1:30:0', '2002-09-01 1:30:0', '1998-10-01 1:30:0']\n",
    "endtimes = ['2005-05-31 23:30:0', '2007-06-30 23:30:0','2020-07-31 23:30:0', '2020-08-31 23:30:0', '2002-09-30 23:30:0', '1998-10-31 23:30:0']\n",
    "months = ['May','Jun','Jul','Aug','Sep','Oct']\n",
    "lat = 48.167039\n",
    "lon = -118.976656  #Lat and Long for Nespelem, WA           \n",
    "tilt = 25                  # PV tilt (deg)\n",
    "sazms = np.array([180, 150, 210]) #cycling through 3 different azimuths                  # PV Azimuth(deg) or tracker axis direction\n",
    "albedo = 0.31  # Changed from 0.31 \n",
    "x = 2.031\n",
    "y = 1.008 \n",
    "xgap =  0.9144   \n",
    "nMods = 7\n",
    "ygap = .02 # Meters\n",
    "numpanels = 4\n",
    "CW = y * numpanels + (numpanels-1)*ygap\n",
    "#CW = x + 2*xgap\n",
    "clearance_height=1.45/CW #1.5m / collector width\n",
    "D = 2.8    \n",
    "\n",
    " \n",
    "\n",
    "pitch = (((y * numpanels) * np.cos(np.radians(tilt)))+D)/CW\n",
    "print(pitch)\n",
    "#pitch = 2/0.35/2              # 1 / 0.35 where 0.35 is gcr --- row to row spacing in normalized panel lengths. \n",
    "rowType = \"interior\"        # RowType(first interior last single)\n",
    "transFactor = 0             # TransmissionFactor(open area fraction)\n",
    "sensorsy = 12   # sensorsy(# hor rows in panel)   <--> THIS ASSUMES LANDSCAPE ORIENTATION \n",
    "PVfrontSurface = \"glass\"    # PVfrontSurface(glass or ARglass)\n",
    "PVbackSurface = \"glass\"     # PVbackSurface(glass or ARglass)\n",
    "agriPV = True\n",
    "\n",
    " # Calculate PV Output Through Various Methods    \n",
    "# calculateBilInterpol = False   # Only works with landscape at the moment.\n",
    "# calculatePVMismatch = False\n",
    "# portraitorlandscape='portrait'   # portrait or landscape\n",
    "# cellsnum = 72\n",
    "# bififactor = 1.0\n",
    "\n",
    "# Tracking instructions\n",
    "tracking=False\n",
    "backtrack=False\n",
    "limit_angle = 65\n",
    "\n",
    "\n",
    "\n",
    "#for ti in range (0, len(starttimes)):\n",
    " #   starttime = pd.to_datetime(starttimes[ti])\n",
    "  #  endtime = pd.to_datetime(endtimes[ti])\n",
    "   # month = months[ti]\n",
    "    #demo.readWeatherFile(epwfile, starttime=starttime, endtime=endtime) # Name and path\n",
    "    # Download and Read input\n",
    "    #TMYtoread=bifacialvf.getEPW(lat=lat,lon=lon, path = testfolder)\n",
    "TMYtoread = r'C:\\Users\\jjones\\Documents\\GitHub\\bifacial_radiance\\bifacial_radiance\\TEMP\\Nespelem_test2\\EPWs\\nespelem_wa_48.167039_-118.976656_psm3-tmy_60_tmy_TMY3formatV2.csv'\n",
    "myTMY3, meta = bifacialvf.readInputTMY(TMYtoread) #starttime=starttime, endtime=endtime these don't work. Need another way to control dates\n",
    "deltastyle = 'TMY3'\n",
    "    #myTMY3 = myTMY3.iloc[0:24].copy()  # Simulate just the first 24 hours of the data file for speed on this example\n",
    "for az in range (0, len(sazms)):\n",
    "        #Build scene and run raytracing for all 3 azimuths\n",
    "    sazm = sazms[az]\n",
    "    writefiletitle = os.path.join(testfolder, 'Results_Test_az_'+str(sazm)+'.csv')\n",
    "    bifacialvf.simulate(myTMY3, meta, writefiletitle=writefiletitle, \n",
    "                        tilt=tilt, sazm=sazm, pitch=pitch, clearance_height=clearance_height, \n",
    "                        rowType=rowType, transFactor=transFactor, sensorsy=sensorsy, \n",
    "                        PVfrontSurface=PVfrontSurface, PVbackSurface=PVbackSurface, \n",
    "                        albedo=albedo, tracking=tracking, backtrack=backtrack, \n",
    "                        limit_angle=limit_angle, deltastyle=deltastyle, agriPV=True)\n",
    "\n",
    "#Load the results from the resultfile\n",
    "from bifacialvf import loadVFresults\n",
    "(data, metadata) = loadVFresults(writefiletitle)"
   ]
  },
  {
   "cell_type": "code",
   "execution_count": 105,
   "id": "f5c24899",
   "metadata": {},
   "outputs": [],
   "source": [
    "from bifacialvf import loadVFresults\n",
    "writefile180 = os.path.join(testfolder,'Results_Test_az_180.csv')\n",
    "(data, metadata) = loadVFresults(writefile180)"
   ]
  },
  {
   "cell_type": "code",
   "execution_count": 106,
   "id": "080a5bd9",
   "metadata": {},
   "outputs": [],
   "source": [
    "data.set_index(pd.to_datetime(data['date']), inplace=True, drop=True)\n",
    "data.index = data.index.map(lambda t: t.replace(year=2021))   # Chagning to be the same year\n",
    "groundIrrads = data['Ground Irradiance Values'].str.strip('[]').str.split(' ', expand=True).astype(float)\n",
    "df = groundIrrads.groupby([pd.Grouper(freq='M')]).sum().T\n",
    "# I'm sure there's a fancier way to do this but hey, this works.\n",
    "df.rename(columns={ df.columns[0]: \"Jan\", df.columns[1]: \"Feb\",df.columns[2]: \"Mar\", df.columns[3]: \"Apr\",\n",
    "\n",
    "                   df.columns[4]: \"May\",df.columns[5]: \"Jun\",df.columns[6]: \"Jul\",df.columns[7]: \"Aug\",\n",
    "                   df.columns[8]: \"Sep\",df.columns[9]: \"Oct\",df.columns[10]: \"Nov\",df.columns[11]: \"Dec\"    }, inplace = True)"
   ]
  },
  {
   "cell_type": "code",
   "execution_count": 108,
   "id": "81e6da81",
   "metadata": {
    "scrolled": true
   },
   "outputs": [
    {
     "name": "stdout",
     "output_type": "stream",
     "text": [
      "date          Jan          Feb           Mar            Apr            May  \\\n",
      "0     5164.762291  7639.476759  14460.960643  120430.441288  154470.469449   \n",
      "1     4978.705220  7364.269772  15051.538926  123008.467380  152268.344598   \n",
      "2     4794.595760  7091.943600  14842.907116  123674.574255  146103.782095   \n",
      "3     4614.041639  6824.876322  15532.220354  126016.773868  143331.252140   \n",
      "4     4438.540067  6565.282539  17387.402242  125617.762771  140962.749702   \n",
      "..            ...          ...           ...            ...            ...   \n",
      "95    6034.332931  8925.705305  15791.749515  102552.681788  161340.772887   \n",
      "96    5861.657297  8670.291520  15520.346339  106046.364394  160508.476799   \n",
      "97    5682.720685  8405.616785  15078.951230  109772.648511  159850.288753   \n",
      "98    5499.011254  8133.882318  14851.848208  113090.704660  159174.544698   \n",
      "99    5312.129765  7857.455890  14779.788701  117078.928151  158487.132766   \n",
      "\n",
      "date            Jun            Jul            Aug           Sep           Oct  \\\n",
      "0     150640.631684  196861.790852  177928.118074  43305.336299   8691.622069   \n",
      "1     146715.603083  189228.235131  177259.512755  48111.858048   8378.512259   \n",
      "2     146068.586876  183033.077063  176861.956494  54552.716808   8068.680022   \n",
      "3     145434.065207  179343.628991  175439.825418  61542.228769   7764.830960   \n",
      "4     144817.299718  178937.629394  171782.701041  65895.568081   7469.484679   \n",
      "..              ...            ...            ...           ...           ...   \n",
      "95    169675.589508  204941.213581  165348.190542  22106.725854  10154.996168   \n",
      "96    169068.755220  204541.751417  171261.074263  24281.960986   9864.405573   \n",
      "97    168439.917964  204127.805311  175684.863257  26537.381766   9563.278568   \n",
      "98    167794.307581  203702.817920  178369.871394  30056.553340   9254.119528   \n",
      "99    164403.727474  203270.492395  178546.741019  36835.389446   8939.622329   \n",
      "\n",
      "date          Nov          Dec  \n",
      "0     6034.544866  5071.028519  \n",
      "1     5817.154466  4888.348145  \n",
      "2     5602.039668  4707.580033  \n",
      "3     5391.078954  4530.302737  \n",
      "4     5186.021673  4357.986292  \n",
      "..            ...          ...  \n",
      "95    7050.557365  5924.817574  \n",
      "96    6848.801931  5755.275781  \n",
      "97    6639.731126  5579.586638  \n",
      "98    6425.083724  5399.211295  \n",
      "99    6206.730068  5215.721464  \n",
      "\n",
      "[100 rows x 12 columns]\n"
     ]
    }
   ],
   "source": [
    "print(df)"
   ]
  },
  {
   "cell_type": "code",
   "execution_count": 109,
   "id": "485f1aee",
   "metadata": {},
   "outputs": [
    {
     "name": "stdout",
     "output_type": "stream",
     "text": [
      "15042.352483735353\n"
     ]
    }
   ],
   "source": [
    "print(df.Jun.min())"
   ]
  },
  {
   "cell_type": "markdown",
   "id": "73ecb5b0",
   "metadata": {},
   "source": [
    "## Bring in Corresponing data from Bifacial Radiance"
   ]
  },
  {
   "cell_type": "code",
   "execution_count": 110,
   "id": "babddb56",
   "metadata": {},
   "outputs": [],
   "source": [
    "from bifacialvf import loadVFresults\n",
    "Radiance_File = r'C:\\Users\\jjones\\Documents\\GitHub\\bifacial_radiance\\bifacial_radiance\\TEMP\\Nespelem_test2\\results\\irr_nespelem_May_az_180_Ground_Analysis_Front.csv'\n",
    "(data2, metadata) = loadVFresults(Radiance_File)"
   ]
  },
  {
   "cell_type": "code",
   "execution_count": 111,
   "id": "a41a6433",
   "metadata": {},
   "outputs": [
    {
     "name": "stdout",
     "output_type": "stream",
     "text": [
      "      x         y     z      mattype  Wm2Front\n",
      "0   0.0 -1.906850  0.05  groundplane  193895.1\n",
      "1   0.0 -1.805881  0.05  groundplane  193880.9\n",
      "2   0.0 -1.704913  0.05  groundplane  193866.6\n",
      "3   0.0 -1.603944  0.05  groundplane  191958.2\n",
      "4   0.0 -1.502975  0.05  groundplane  189798.0\n",
      "..  ...       ...   ...          ...       ...\n",
      "60  0.0  4.151277  0.05  groundplane  188938.0\n",
      "61  0.0  4.252246  0.05  groundplane  190665.8\n",
      "62  0.0  4.353214  0.05  groundplane  191916.5\n",
      "63  0.0  4.454183  0.05  groundplane  192844.0\n",
      "64  0.0  4.555152  0.05  groundplane  192800.1\n",
      "\n",
      "[65 rows x 5 columns]\n"
     ]
    }
   ],
   "source": [
    "#Based on calculations, the points in the bifacial radiance file that correspond with the points in the bifacialvf\n",
    "# file are (0,-1.825) to (0,4.625). This is rows 13222 through 13287 (65 points) in the excel file. Will isolate these rows\n",
    "#data2.rename(columns={ data2.columns[0]: \"x\", data2.columns[1]: \"y\",data2.columns[2]: \"z\", data2.columns[3]: \"mattype\",\n",
    "                   #data2.columns[4]: \"Wm2Front\",}, inplace = True)\n",
    "#print(data2)\n",
    "data_line = data2.iloc[13220:13285] #Account for the three lines ignored in the loadVFresults command. Don't need them since \n",
    "#data_line_f=np.flipud(data_line)\n",
    "data_line_f = data_line[::-1].reset_index(drop = True) \n",
    "data_line_f.rename(columns={ data_line_f.columns[0]: \"x\", data_line_f.columns[1]: \"y\",data_line_f.columns[2]: \"z\", data_line_f.columns[3]: \"mattype\",data_line_f.columns[4]: \"Wm2Front\",}, inplace = True)\n",
    "#we're focused on later points.\n",
    "print(data_line_f)\n",
    "#print(data_line_f['Wm2Front'].min())"
   ]
  },
  {
   "cell_type": "code",
   "execution_count": 112,
   "id": "069dc16e",
   "metadata": {},
   "outputs": [],
   "source": [
    "xstep = (len(data_line_f))\n",
    "x_axis = list(range(1,101))\n",
    "x_axis_rad = np.linspace(0,100,xstep)\n",
    "#print(x_axis_rad)\n",
    "#print(x_axis)"
   ]
  },
  {
   "cell_type": "markdown",
   "id": "70a04679",
   "metadata": {},
   "source": [
    "## Bar Plots of Irradiance Factors for each month"
   ]
  },
  {
   "cell_type": "code",
   "execution_count": 113,
   "id": "80081b2a",
   "metadata": {},
   "outputs": [],
   "source": [
    "#data.set_index(pd.to_datetime(data['date']), inplace=True, drop=True)\n",
    "#data.index = data.index.map(lambda t: t.replace(year=2021))   # Chagning to be the same year\n",
    "ghi = data['ghi'] #.str.strip('[]').str.split(' ', expand=True).astype(float)"
   ]
  },
  {
   "cell_type": "code",
   "execution_count": 114,
   "id": "db5edcbd",
   "metadata": {},
   "outputs": [
    {
     "name": "stdout",
     "output_type": "stream",
     "text": [
      "date\n",
      "2021-01-31 00:00:00-08:00     31408.852748\n",
      "2021-02-28 00:00:00-08:00     58163.039240\n",
      "2021-03-31 00:00:00-08:00    102667.133770\n",
      "2021-04-30 00:00:00-08:00    153951.742639\n",
      "2021-05-31 00:00:00-08:00    193226.204375\n",
      "2021-06-30 00:00:00-08:00    203666.180803\n",
      "2021-07-31 00:00:00-08:00    233165.445912\n",
      "2021-08-31 00:00:00-08:00    201076.287745\n",
      "2021-09-30 00:00:00-08:00    138290.738569\n",
      "2021-10-31 00:00:00-08:00     84477.895755\n",
      "2021-11-30 00:00:00-08:00     42850.672965\n",
      "2021-12-31 00:00:00-08:00     27551.170195\n",
      "Freq: M, Name: ghi, dtype: float64\n"
     ]
    }
   ],
   "source": [
    "dates = ['May','Jun','Jul','Aug','Sep','Oct']\n",
    "dghi = ghi.groupby([pd.Grouper(freq='M')]).sum().T\n",
    "# I'm sure there's a fancier way to do this but hey, this works.\n",
    "print(dghi)\n",
    "#dghi.rename(columns={ dghi.rows[0]: \"Jan\", dghi.columns[1]: \"Feb\",dghi.columns[2]: \"Mar\", dghi.columns[3]: \"Apr\",\n",
    "                   #dghi.columns[4]: \"May\",dghi.columns[5]: \"June\",dghi.columns[6]: \"July\",dghi.columns[7]: \"Aug\",\n",
    "                   #dghi.columns[8]: \"Sept\",dghi.columns[9]: \"Oct\",dghi.columns[10]: \"Nov\",dghi.columns[11]: \"Dec\"    }, inplace = True)"
   ]
  },
  {
   "cell_type": "code",
   "execution_count": 125,
   "id": "3008f228",
   "metadata": {},
   "outputs": [],
   "source": [
    "Rad_irr_factor=[]\n",
    "VF_irr_factor=[]\n",
    "for ti in range (0, len(dates)):\n",
    "    month = dates[ti]\n",
    "    ghitot = dghi[ti+5]\n",
    "    #Min for VF data\n",
    "    VFmin = df[month].min() \n",
    "    #Min for Radiance data\n",
    "    Radiance_File = r'C:\\Users\\jjones\\Documents\\GitHub\\bifacial_radiance\\bifacial_radiance\\TEMP\\Nespelem_test2\\results\\irr_nespelem_'+month+'_az_180_Ground_Analysis_Front.csv'\n",
    "    (dataR, metadata) = loadVFresults(Radiance_File)\n",
    "    data_lineR = dataR.iloc[13220:13285] #Account for the three lines ignored in the loadVFresults command. Don't need them since \n",
    "    data_line_fR = data_lineR[::-1].reset_index(drop = True)\n",
    "    data_line_fR.rename(columns={ data_line_fR.columns[0]: \"x\", data_line_fR.columns[1]: \"y\",data_line_fR.columns[2]: \"z\", data_line_fR.columns[3]: \"mattype\",data_line_fR.columns[4]: \"Wm2Front\",}, inplace = True)\n",
    "    Radmin =  data_line_fR['Wm2Front'].min()\n",
    "    Radirr = Radmin/ghitot\n",
    "    VFirr = VFmin/ghitot\n",
    "    Rad_irr_factor.append(Radirr)\n",
    "    VF_irr_factor.append(VFirr)"
   ]
  },
  {
   "cell_type": "code",
   "execution_count": 126,
   "id": "a6e2fbe2",
   "metadata": {},
   "outputs": [
    {
     "data": {
      "image/png": "[encoded data removed]",
      "text/plain": [
       "<Figure size 432x288 with 1 Axes>"
      ]
     },
     "metadata": {
      "needs_background": "light"
     },
     "output_type": "display_data"
    }
   ],
   "source": [
    "dates_e = ['May','Jun','Jul','Aug','Sep','Oct','Nov']\n",
    "x_axis = np.arange(len(dates))\n",
    "# Multi bar Chart\n",
    "plt.bar(x_axis -0.2, Rad_irr_factor, width=0.4, label = 'bif_rad')\n",
    "plt.bar(x_axis +0.2, VF_irr_factor, width=0.4, label = 'vf')\n",
    "# Xticks\n",
    "plt.xticks(x_axis, dates)\n",
    "# Add legend and titles\n",
    "plt.legend()\n",
    "plt.title('Comparison of Irradiance Factors')\n",
    "plt.ylabel('Irradiance Factor')\n",
    "# Display\n",
    "plt.show()"
   ]
  },
  {
   "cell_type": "code",
   "execution_count": 56,
   "id": "c6fd8055",
   "metadata": {},
   "outputs": [
    {
     "name": "stdout",
     "output_type": "stream",
     "text": [
      "[0.12972750411887518, 0.18822993630779164, 0.13293690376687894, 0.06263773635311651, 0.07144001824316604, 0.09091666056461582, 0.1051991800021125, 0.10224795495834828, 0.12486402086597634, 0.14727970181913433, 0.16793713122788106, 0.15528083835590611]\n"
     ]
    },
    {
     "data": {
      "image/png": "[encoded data removed]",
      "text/plain": [
       "<Figure size 432x288 with 1 Axes>"
      ]
     },
     "metadata": {
      "needs_background": "light"
     },
     "output_type": "display_data"
    }
   ],
   "source": [
    "VF_all =  VF_irr_factor\n",
    "VF_all.append(df['Nov'].min()/dghi[10])\n",
    "VF_all.append(df['Dec'].min()/dghi[11])\n",
    "VF_all.insert(0,df['Apr'].min()/dghi[3])\n",
    "VF_all.insert(0,df['Mar'].min()/dghi[2])\n",
    "VF_all.insert(0,df['Feb'].min()/dghi[1])\n",
    "VF_all.insert(0,df['Jan'].min()/dghi[0])\n",
    "print(VF_all)\n",
    "dates_e = ['Jan','Feb','Mar','Apr','May','Jun','Jul','Aug','Sep','Oct','Nov','Dec']\n",
    "x_axis = np.arange(len(dates_e))\n",
    "# Multi bar Chart\n",
    "plt.bar(x_axis, VF_all, width=0.4, label = 'vf')\n",
    "# Xticks\n",
    "plt.xticks(x_axis, dates_e)\n",
    "# Add legend and titles\n",
    "plt.legend()\n",
    "plt.title('Comparison of Irradiance Factors')\n",
    "plt.ylabel('Irradiance Factor')\n",
    "# Display\n",
    "plt.show()"
   ]
  },
  {
   "cell_type": "code",
   "execution_count": null,
   "id": "ca7950d1",
   "metadata": {},
   "outputs": [],
   "source": [
    "monthlyGHI = pd.DataFrame(data['ghi'].groupby([pd.Grouper(freq='M')]).sum())"
   ]
  },
  {
   "cell_type": "code",
   "execution_count": null,
   "id": "5ce1bf61",
   "metadata": {},
   "outputs": [],
   "source": [
    "monthlyGHI['Month'] = ['Jan', 'Feb', 'Mar', 'Apr', 'May', 'June', 'July', 'Aug', 'Sept', 'Oct', 'Nov', 'Dec']\n",
    "monthlyGHI.set_index(monthlyGHI['Month'], inplace=True)\n",
    "monthlyGHI = monthlyGHI.drop(columns='Month')"
   ]
  },
  {
   "cell_type": "code",
   "execution_count": null,
   "id": "eb4a5bb2",
   "metadata": {},
   "outputs": [],
   "source": [
    "print(monthlyGHI)"
   ]
  },
  {
   "cell_type": "code",
   "execution_count": null,
   "id": "d311fb60",
   "metadata": {},
   "outputs": [],
   "source": [
    "df_norm = df.T\n",
    "df_norm = df_norm.div(monthlyGHI['ghi'], axis=0)\n",
    "df_norm = df_norm.T"
   ]
  },
  {
   "cell_type": "code",
   "execution_count": null,
   "id": "7f63b0f3",
   "metadata": {},
   "outputs": [],
   "source": [
    "fig = (df_norm).plot()\n",
    "fig.set_xlabel('Position between start of row and next row [%]')\n",
    "fig.set_ylabel('Normalized Insolation for the month/GHI')"
   ]
  },
  {
   "cell_type": "code",
   "execution_count": null,
   "id": "0011785f",
   "metadata": {},
   "outputs": [],
   "source": []
  }
 ],
 "metadata": {
  "kernelspec": {
   "display_name": "Python 3 (ipykernel)",
   "language": "python",
   "name": "python3"
  },
  "language_info": {
   "codemirror_mode": {
    "name": "ipython",
    "version": 3
   },
   "file_extension": ".py",
   "mimetype": "text/x-python",
   "name": "python",
   "nbconvert_exporter": "python",
   "pygments_lexer": "ipython3",
   "version": "3.9.12"
  }
 },
 "nbformat": 4,
 "nbformat_minor": 5
}
