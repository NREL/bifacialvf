{
 "cells": [
  {
   "cell_type": "code",
   "execution_count": 1,
   "id": "e522a348",
   "metadata": {},
   "outputs": [
    {
     "ename": "NameError",
     "evalue": "name 'getSkyConfigurationFactors' is not defined",
     "output_type": "error",
     "traceback": [
      "\u001b[1;31m---------------------------------------------------------------------------\u001b[0m",
      "\u001b[1;31mNameError\u001b[0m                                 Traceback (most recent call last)",
      "\u001b[1;32m~\\AppData\\Local\\Temp\\1/ipykernel_7780/1917928093.py\u001b[0m in \u001b[0;36m<module>\u001b[1;34m\u001b[0m\n\u001b[0;32m      3\u001b[0m \u001b[0mrowType\u001b[0m \u001b[1;33m=\u001b[0m \u001b[1;34m'interior'\u001b[0m\u001b[1;33m\u001b[0m\u001b[1;33m\u001b[0m\u001b[0m\n\u001b[0;32m      4\u001b[0m \u001b[1;33m\u001b[0m\u001b[0m\n\u001b[1;32m----> 5\u001b[1;33m \u001b[1;33m[\u001b[0m\u001b[0mrearSkyConfigFactors2\u001b[0m\u001b[1;33m,\u001b[0m \u001b[0mfrontSkyConfigFactors2\u001b[0m\u001b[1;33m]\u001b[0m \u001b[1;33m=\u001b[0m \u001b[0mgetSkyConfigurationFactors\u001b[0m\u001b[1;33m(\u001b[0m\u001b[0mrowType\u001b[0m\u001b[1;33m,\u001b[0m \u001b[0mtilt\u001b[0m\u001b[1;33m,\u001b[0m \u001b[0mC\u001b[0m\u001b[1;33m,\u001b[0m \u001b[0mD\u001b[0m\u001b[1;33m)\u001b[0m       \u001b[1;31m## Sky configuration factors are the same for all times, only based on geometry and row type\u001b[0m\u001b[1;33m\u001b[0m\u001b[1;33m\u001b[0m\u001b[0m\n\u001b[0m\u001b[0;32m      6\u001b[0m \u001b[1;33m\u001b[0m\u001b[0m\n\u001b[0;32m      7\u001b[0m \u001b[1;31m# In[3]:\u001b[0m\u001b[1;33m\u001b[0m\u001b[1;33m\u001b[0m\u001b[1;33m\u001b[0m\u001b[0m\n",
      "\u001b[1;31mNameError\u001b[0m: name 'getSkyConfigurationFactors' is not defined"
     ]
    }
   ],
   "source": [
    "C=0.2\n",
    "D=1.5\n",
    "rowType = 'interior'\n",
    "\n",
    "[rearSkyConfigFactors2, frontSkyConfigFactors2] = getSkyConfigurationFactors(rowType, tilt, C, D)       ## Sky configuration factors are the same for all times, only based on geometry and row type\n",
    "\n",
    "# In[3]:\n",
    "\n",
    "beta = myTMY3['trackingdata_surface_tilt']\n",
    "C = myTMY3['C']\n",
    "D = myTMY3['D']\n",
    "\n",
    "# In[4]:\n",
    "[rearSkyConfigFactors2, frontSkyConfigFactors2] = getSkyConfigurationFactors(rowType, myTMY3['trackingdata_surface_tilt'], \n",
    "                                                                              myTMY3['C'], myTMY3['D'])       ## Sky configuration factors are the same for all times, only based on geometry and row type"
   ]
  },
  {
   "cell_type": "code",
   "execution_count": null,
   "id": "cb83cc33",
   "metadata": {},
   "outputs": [],
   "source": []
  }
 ],
 "metadata": {
  "kernelspec": {
   "display_name": "Python 3 (ipykernel)",
   "language": "python",
   "name": "python3"
  },
  "language_info": {
   "codemirror_mode": {
    "name": "ipython",
    "version": 3
   },
   "file_extension": ".py",
   "mimetype": "text/x-python",
   "name": "python",
   "nbconvert_exporter": "python",
   "pygments_lexer": "ipython3",
   "version": "3.8.8"
  }
 },
 "nbformat": 4,
 "nbformat_minor": 5
}
