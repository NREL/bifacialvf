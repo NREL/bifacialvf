{
 "cells": [
  {
   "cell_type": "markdown",
   "id": "967a8149",
   "metadata": {},
   "source": [
    "# 2 - Introductory Example: Ground Irradiance Analysis for AgriPV\n",
    "\n",
    "This jupyter journal will walk us through the creation of the most basic fixed-tilt simulation possible with bifacialvf.\n",
    "We will simulate a 1-up landscape system over a grass albedo and look at the ground irradiance from the start of 1 row to the other.\n"
   ]
  },
  {
   "cell_type": "code",
   "execution_count": 6,
   "id": "a2877703",
   "metadata": {},
   "outputs": [],
   "source": [
    "from pathlib import Path\n",
    "import os\n",
    "import bifacialvf\n",
    "import matplotlib.pyplot as plt\n",
    "import numpy as np\n",
    "import pandas as pd\n",
    "import seaborn as sns\n",
    "\n",
    "\n",
    "# IO Files\n",
    "testfolder = Path().resolve().parent.parent / 'bifacialvf' / 'TEMP' / 'Test'\n",
    "if not os.path.exists(testfolder):\n",
    "    os.makedirs(testfolder)"
   ]
  },
  {
   "cell_type": "code",
   "execution_count": 2,
   "id": "38e3237c",
   "metadata": {},
   "outputs": [],
   "source": [
    "plt.rcParams['timezone'] = 'Etc/GMT+7'\n",
    "font = {'family' : 'DejaVu Sans',\n",
    "'weight' : 'bold',\n",
    "'size'   : 22}\n",
    "plt.rc('font', **font)\n",
    "plt.rcParams['figure.figsize'] = (12, 5)"
   ]
  },
  {
   "cell_type": "code",
   "execution_count": null,
   "id": "96041dee",
   "metadata": {},
   "outputs": [],
   "source": [
    "starttimes =['2005-05-01 1:30:0', '2007-06-01 1:30:0', '2020-07-01 1:30:0', '2020-08-01 1:30:0', '2002-09-01 1:30:0', '1998-10-01 1:30:0']\n",
    "endtimes = ['2005-05-31 23:30:0', '2007-06-30 23:30:0','2020-07-31 23:30:0', '2020-08-31 23:30:0', '2002-09-30 23:30:0', '1998-10-31 23:30:0']\n",
    "months = ['May','Jun','Jul','Aug','Sep','Oct']\n",
    "\n",
    "for ti in range (0, len(starttimes)):\n",
    "    starttime = pd.to_datetime(starttimes[ti])\n",
    "    endtime = pd.to_datetime(endtimes[ti])\n",
    "    month = months[ti]\n",
    "    #demo.readWeatherFile(epwfile, starttime=starttime, endtime=endtime) # Name and path\n",
    "    # Download and Read input\n",
    "    #TMYtoread=bifacialvf.getEPW(lat=lat,lon=lon, path = testfolder)\n",
    "    TMYtoread = r'C:\\Users\\jjones\\Documents\\GitHub\\bifacial_radiance\\bifacial_radiance\\TEMP\\Nespelem_test2\\EPWs\\nespelem_wa_48.167039_-118.976656_psm3-tmy_60_tmy_TMY3formatV2.csv'\n",
    "    myTMY3, meta = bifacialvf.readInputTMY(TMYtoread, startrime = starttime, endtime = endtime)\n",
    "    deltastyle = 'TMY3'"
   ]
  },
  {
   "cell_type": "code",
   "execution_count": 68,
   "id": "11fd7462",
   "metadata": {
    "scrolled": true
   },
   "outputs": [
    {
     "name": "stdout",
     "output_type": "stream",
     "text": [
      "1.5772807911367968\n",
      "Calculating Sun position with a delta of -30 mins. i.e. 12 is 11:30 sunpos\n",
      "Albedo value passed, but also present in TMY3 file.  Using albedo value passed. To use the ones in TMY3 file re-run simulation with albedo=None\n",
      "\n",
      " \n",
      "********* \n",
      "Running Simulation for TMY3: \n",
      "Location:   NESPELEM\n",
      "Lat:  48.17  Long:  -118.98  Tz  -8.0\n",
      "Parameters: tilt:  25   Sazm:  180     Clearance_Height :  0.3543499511241447   Pitch:  1.5772807911367968   Row type:  interior   Albedo:  0.8\n",
      "Saving into C:\\Users\\jjones\\Documents\\GitHub\\bifacialvf\\bifacialvf\\TEMP\\Test\\Results_Test_az_180.csv\n",
      " \n",
      " \n",
      "Distance between rows for no shading on Dec 21 at 9 am solar time =  2.0197831672109294\n",
      "Actual distance between rows =  0.6709730041001468\n",
      " \n",
      "Saving Ground Irradiance Values for AgriPV Analysis. \n"
     ]
    },
    {
     "name": "stderr",
     "output_type": "stream",
     "text": [
      "100%|██████████████████████████████████████████████████████████████████████████████| 8760/8760 [01:43<00:00, 85.01it/s]\n"
     ]
    },
    {
     "name": "stdout",
     "output_type": "stream",
     "text": [
      "Finished\n",
      "Albedo value passed, but also present in TMY3 file.  Using albedo value passed. To use the ones in TMY3 file re-run simulation with albedo=None\n",
      "\n",
      " \n",
      "********* \n",
      "Running Simulation for TMY3: \n",
      "Location:   NESPELEM\n",
      "Lat:  48.17  Long:  -118.98  Tz  -8.0\n",
      "Parameters: tilt:  25   Sazm:  150     Clearance_Height :  0.3543499511241447   Pitch:  1.5772807911367968   Row type:  interior   Albedo:  0.8\n",
      "Saving into C:\\Users\\jjones\\Documents\\GitHub\\bifacialvf\\bifacialvf\\TEMP\\Test\\Results_Test_az_150.csv\n",
      " \n",
      " \n",
      "Distance between rows for no shading on Dec 21 at 9 am solar time =  2.5431554219159778\n",
      "Actual distance between rows =  0.6709730041001468\n",
      " \n",
      "Saving Ground Irradiance Values for AgriPV Analysis. \n"
     ]
    },
    {
     "name": "stderr",
     "output_type": "stream",
     "text": [
      "100%|██████████████████████████████████████████████████████████████████████████████| 8760/8760 [01:41<00:00, 86.09it/s]\n"
     ]
    },
    {
     "name": "stdout",
     "output_type": "stream",
     "text": [
      "Finished\n",
      "Albedo value passed, but also present in TMY3 file.  Using albedo value passed. To use the ones in TMY3 file re-run simulation with albedo=None\n",
      "\n",
      " \n",
      "********* \n",
      "Running Simulation for TMY3: \n",
      "Location:   NESPELEM\n",
      "Lat:  48.17  Long:  -118.98  Tz  -8.0\n",
      "Parameters: tilt:  25   Sazm:  210     Clearance_Height :  0.3543499511241447   Pitch:  1.5772807911367968   Row type:  interior   Albedo:  0.8\n",
      "Saving into C:\\Users\\jjones\\Documents\\GitHub\\bifacialvf\\bifacialvf\\TEMP\\Test\\Results_Test_az_210.csv\n",
      " \n",
      " \n",
      "Distance between rows for no shading on Dec 21 at 9 am solar time =  0.9552116439657368\n",
      "Actual distance between rows =  0.6709730041001468\n",
      " \n",
      "Saving Ground Irradiance Values for AgriPV Analysis. \n"
     ]
    },
    {
     "name": "stderr",
     "output_type": "stream",
     "text": [
      "100%|██████████████████████████████████████████████████████████████████████████████| 8760/8760 [01:41<00:00, 86.50it/s]\n"
     ]
    },
    {
     "name": "stdout",
     "output_type": "stream",
     "text": [
      "Finished\n"
     ]
    }
   ],
   "source": [
    "\n",
    "\n",
    "# Variablee\n",
    "starttimes =['2005-05-01 1:30:0', '2007-06-01 1:30:0', '2020-07-01 1:30:0', '2020-08-01 1:30:0', '2002-09-01 1:30:0', '1998-10-01 1:30:0']\n",
    "endtimes = ['2005-05-31 23:30:0', '2007-06-30 23:30:0','2020-07-31 23:30:0', '2020-08-31 23:30:0', '2002-09-30 23:30:0', '1998-10-31 23:30:0']\n",
    "months = ['May','Jun','Jul','Aug','Sep','Oct']\n",
    "lat = 48.167039\n",
    "lon = -118.976656  #Lat and Long for Nespelem, WA           \n",
    "tilt = 25                  # PV tilt (deg)\n",
    "sazms = np.array([180, 150, 210]) #cycling through 3 different azimuths                  # PV Azimuth(deg) or tracker axis direction\n",
    "albedo = 0.8  # Changed from 0.31 for test 6/9/22\n",
    "x = 2.031\n",
    "y = 1.008 \n",
    "xgap =  0.9144   \n",
    "nMods = 7\n",
    "ygap = .02 # Meters\n",
    "numpanels = 4\n",
    "CW = y * numpanels + (numpanels-1)*ygap\n",
    "#CW = x + 2*xgap\n",
    "clearance_height=1.45/CW #1.5m / collector width\n",
    "D = 2.8    \n",
    "\n",
    " \n",
    "\n",
    "pitch = (((y * numpanels) * np.cos(np.radians(tilt)))+D)/CW\n",
    "print(pitch)\n",
    "#pitch = 2/0.35/2              # 1 / 0.35 where 0.35 is gcr --- row to row spacing in normalized panel lengths. \n",
    "rowType = \"interior\"        # RowType(first interior last single)\n",
    "transFactor = 0             # TransmissionFactor(open area fraction)\n",
    "sensorsy = 12   # sensorsy(# hor rows in panel)   <--> THIS ASSUMES LANDSCAPE ORIENTATION \n",
    "PVfrontSurface = \"glass\"    # PVfrontSurface(glass or ARglass)\n",
    "PVbackSurface = \"glass\"     # PVbackSurface(glass or ARglass)\n",
    "agriPV = True\n",
    "\n",
    " # Calculate PV Output Through Various Methods    \n",
    "# calculateBilInterpol = False   # Only works with landscape at the moment.\n",
    "# calculatePVMismatch = False\n",
    "# portraitorlandscape='portrait'   # portrait or landscape\n",
    "# cellsnum = 72\n",
    "# bififactor = 1.0\n",
    "\n",
    "# Tracking instructions\n",
    "tracking=False\n",
    "backtrack=False\n",
    "limit_angle = 65\n",
    "\n",
    "\n",
    "\n",
    "#for ti in range (0, len(starttimes)):\n",
    " #   starttime = pd.to_datetime(starttimes[ti])\n",
    "  #  endtime = pd.to_datetime(endtimes[ti])\n",
    "   # month = months[ti]\n",
    "    #demo.readWeatherFile(epwfile, starttime=starttime, endtime=endtime) # Name and path\n",
    "    # Download and Read input\n",
    "    #TMYtoread=bifacialvf.getEPW(lat=lat,lon=lon, path = testfolder)\n",
    "TMYtoread = r'C:\\Users\\jjones\\Documents\\GitHub\\bifacial_radiance\\bifacial_radiance\\TEMP\\Nespelem_test2\\EPWs\\nespelem_wa_48.167039_-118.976656_psm3-tmy_60_tmy_TMY3formatV2.csv'\n",
    "myTMY3, meta = bifacialvf.readInputTMY(TMYtoread) #starttime=starttime, endtime=endtime these don't work. Need another way to control dates\n",
    "deltastyle = 'TMY3'\n",
    "    #myTMY3 = myTMY3.iloc[0:24].copy()  # Simulate just the first 24 hours of the data file for speed on this example\n",
    "for az in range (0, len(sazms)):\n",
    "        #Build scene and run raytracing for all 3 azimuths\n",
    "    sazm = sazms[az]\n",
    "    writefiletitle = os.path.join(testfolder, 'Results_Test_az_'+str(sazm)+'.csv')\n",
    "    bifacialvf.simulate(myTMY3, meta, writefiletitle=writefiletitle, \n",
    "                        tilt=tilt, sazm=sazm, pitch=pitch, clearance_height=clearance_height, \n",
    "                        rowType=rowType, transFactor=transFactor, sensorsy=sensorsy, \n",
    "                        PVfrontSurface=PVfrontSurface, PVbackSurface=PVbackSurface, \n",
    "                        albedo=albedo, tracking=tracking, backtrack=backtrack, \n",
    "                        limit_angle=limit_angle, deltastyle=deltastyle, agriPV=True)\n",
    "\n",
    "#Load the results from the resultfile\n",
    "from bifacialvf import loadVFresults\n",
    "(data, metadata) = loadVFresults(writefiletitle)"
   ]
  },
  {
   "cell_type": "code",
   "execution_count": 69,
   "id": "1156b69a",
   "metadata": {},
   "outputs": [
    {
     "name": "stdout",
     "output_type": "stream",
     "text": [
      "0.3543499511241447 1.5772807911367968\n"
     ]
    }
   ],
   "source": [
    "print(clearance_height,pitch)"
   ]
  },
  {
   "cell_type": "code",
   "execution_count": null,
   "id": "808ace4f",
   "metadata": {},
   "outputs": [],
   "source": [
    "bifacialvf.simulate"
   ]
  },
  {
   "cell_type": "code",
   "execution_count": 9,
   "id": "c302b335",
   "metadata": {},
   "outputs": [],
   "source": [
    "from bifacialvf import loadVFresults\n",
    "writefile180 = os.path.join(testfolder,'Results_Test_az_180.csv')\n",
    "(data, metadata) = loadVFresults(writefile180)"
   ]
  },
  {
   "cell_type": "code",
   "execution_count": null,
   "id": "499d27bc",
   "metadata": {},
   "outputs": [],
   "source": [
    "print(writefile180)"
   ]
  },
  {
   "cell_type": "markdown",
   "id": "627ef051",
   "metadata": {},
   "source": [
    "# 5. Analyze the results from the resultfile\n"
   ]
  },
  {
   "cell_type": "code",
   "execution_count": 10,
   "id": "9fddd814",
   "metadata": {},
   "outputs": [],
   "source": [
    "import pandas as pd\n",
    "import matplotlib.pyplot as plt"
   ]
  },
  {
   "cell_type": "code",
   "execution_count": 11,
   "id": "2c09663e",
   "metadata": {},
   "outputs": [],
   "source": [
    "data.set_index(pd.to_datetime(data['date']), inplace=True, drop=True)\n",
    "data.index = data.index.map(lambda t: t.replace(year=2021))   # Chagning to be the same year\n",
    "groundIrrads = data['Ground Irradiance Values'].str.strip('[]').str.split(' ', expand=True).astype(float)"
   ]
  },
  {
   "cell_type": "code",
   "execution_count": 12,
   "id": "080a5bd9",
   "metadata": {},
   "outputs": [],
   "source": [
    "df = groundIrrads.groupby([pd.Grouper(freq='M')]).sum().T\n",
    "# I'm sure there's a fancier way to do this but hey, this works.\n",
    "df.rename(columns={ df.columns[0]: \"Jan\", df.columns[1]: \"Feb\",df.columns[2]: \"Mar\", df.columns[3]: \"Apr\",\n",
    "\n",
    "                   df.columns[4]: \"May\",df.columns[5]: \"Jun\",df.columns[6]: \"Jul\",df.columns[7]: \"Aug\",\n",
    "                   df.columns[8]: \"Sep\",df.columns[9]: \"Oct\",df.columns[10]: \"Nov\",df.columns[11]: \"Dec\"    }, inplace = True)"
   ]
  },
  {
   "cell_type": "code",
   "execution_count": 74,
   "id": "81e6da81",
   "metadata": {
    "scrolled": true
   },
   "outputs": [
    {
     "name": "stdout",
     "output_type": "stream",
     "text": [
      "date          Jan          Feb           Mar            Apr            May  \\\n",
      "0     5164.762291  7639.476759  14460.960643  120430.441288  154470.469449   \n",
      "1     4978.705220  7364.269772  15051.538926  123008.467380  152268.344598   \n",
      "2     4794.595760  7091.943600  14842.907116  123674.574255  146103.782095   \n",
      "3     4614.041639  6824.876322  15532.220354  126016.773868  143331.252140   \n",
      "4     4438.540067  6565.282539  17387.402242  125617.762771  140962.749702   \n",
      "..            ...          ...           ...            ...            ...   \n",
      "95    6034.332931  8925.705305  15791.749515  102552.681788  161340.772887   \n",
      "96    5861.657297  8670.291520  15520.346339  106046.364394  160508.476799   \n",
      "97    5682.720685  8405.616785  15078.951230  109772.648511  159850.288753   \n",
      "98    5499.011254  8133.882318  14851.848208  113090.704660  159174.544698   \n",
      "99    5312.129765  7857.455890  14779.788701  117078.928151  158487.132766   \n",
      "\n",
      "date            Jun            Jul            Aug           Sep           Oct  \\\n",
      "0     150640.631684  196861.790852  177928.118074  43305.336299   8691.622069   \n",
      "1     146715.603083  189228.235131  177259.512755  48111.858048   8378.512259   \n",
      "2     146068.586876  183033.077063  176861.956494  54552.716808   8068.680022   \n",
      "3     145434.065207  179343.628991  175439.825418  61542.228769   7764.830960   \n",
      "4     144817.299718  178937.629394  171782.701041  65895.568081   7469.484679   \n",
      "..              ...            ...            ...           ...           ...   \n",
      "95    169675.589508  204941.213581  165348.190542  22106.725854  10154.996168   \n",
      "96    169068.755220  204541.751417  171261.074263  24281.960986   9864.405573   \n",
      "97    168439.917964  204127.805311  175684.863257  26537.381766   9563.278568   \n",
      "98    167794.307581  203702.817920  178369.871394  30056.553340   9254.119528   \n",
      "99    164403.727474  203270.492395  178546.741019  36835.389446   8939.622329   \n",
      "\n",
      "date          Nov          Dec  \n",
      "0     6034.544866  5071.028519  \n",
      "1     5817.154466  4888.348145  \n",
      "2     5602.039668  4707.580033  \n",
      "3     5391.078954  4530.302737  \n",
      "4     5186.021673  4357.986292  \n",
      "..            ...          ...  \n",
      "95    7050.557365  5924.817574  \n",
      "96    6848.801931  5755.275781  \n",
      "97    6639.731126  5579.586638  \n",
      "98    6425.083724  5399.211295  \n",
      "99    6206.730068  5215.721464  \n",
      "\n",
      "[100 rows x 12 columns]\n"
     ]
    }
   ],
   "source": [
    "print(df)"
   ]
  },
  {
   "cell_type": "code",
   "execution_count": 75,
   "id": "485f1aee",
   "metadata": {},
   "outputs": [
    {
     "name": "stdout",
     "output_type": "stream",
     "text": [
      "15042.352483735353\n"
     ]
    }
   ],
   "source": [
    "print(df.Jun.min())"
   ]
  },
  {
   "cell_type": "markdown",
   "id": "73ecb5b0",
   "metadata": {},
   "source": [
    "## Bring in Corresponing data from Bifacial Radiance"
   ]
  },
  {
   "cell_type": "code",
   "execution_count": 3,
   "id": "babddb56",
   "metadata": {},
   "outputs": [],
   "source": [
    "from bifacialvf import loadVFresults\n",
    "Radiance_File = r'C:\\Users\\jjones\\Documents\\GitHub\\bifacial_radiance\\bifacial_radiance\\TEMP\\Nespelem_test2\\results\\irr_nespelem_May_az_180_Ground_Analysis_Front.csv'\n",
    "(data2, metadata) = loadVFresults(Radiance_File)"
   ]
  },
  {
   "cell_type": "code",
   "execution_count": 4,
   "id": "a41a6433",
   "metadata": {},
   "outputs": [
    {
     "name": "stdout",
     "output_type": "stream",
     "text": [
      "      x         y     z      mattype  Wm2Front\n",
      "0   0.0 -0.291350  0.05  groundplane  164656.9\n",
      "1   0.0 -0.190381  0.05  groundplane  162681.7\n",
      "2   0.0 -0.089412  0.05  groundplane  163393.1\n",
      "3   0.0  0.011557  0.05  groundplane  155039.5\n",
      "4   0.0  0.112526  0.05  groundplane  146328.5\n",
      "5   0.0  0.213494  0.05  groundplane  135191.1\n",
      "6   0.0  0.314463  0.05  groundplane  123910.7\n",
      "7   0.0  0.415432  0.05  groundplane  117041.1\n",
      "8   0.0  0.516401  0.05  groundplane  111597.1\n",
      "9   0.0  0.617369  0.05  groundplane  104543.2\n",
      "10  0.0  0.718338  0.05  groundplane  104020.3\n",
      "11  0.0  0.819307  0.05  groundplane  105313.6\n",
      "12  0.0  0.920276  0.05  groundplane  108662.3\n",
      "13  0.0  1.021245  0.05  groundplane  116998.1\n",
      "14  0.0  1.122213  0.05  groundplane  121369.4\n",
      "15  0.0  1.223182  0.05  groundplane  128458.9\n"
     ]
    }
   ],
   "source": [
    "#Based on calculations, the points in the bifacial radiance file that correspond with the points in the bifacialvf\n",
    "# file are (0,-1.825) to (0,4.625). This is rows 13222 through 13287 (65 points) in the excel file. Will isolate these rows\n",
    "#data2.rename(columns={ data2.columns[0]: \"x\", data2.columns[1]: \"y\",data2.columns[2]: \"z\", data2.columns[3]: \"mattype\",\n",
    "                   #data2.columns[4]: \"Wm2Front\",}, inplace = True)\n",
    "#print(data2)\n",
    "data_line = data2.iloc[13253:13269] #Account for the three lines ignored in the loadVFresults command. Don't need them since \n",
    "#data_line_f=np.flipud(data_line)\n",
    "data_line_f = data_line[::-1].reset_index(drop = True) \n",
    "data_line_f.rename(columns={ data_line_f.columns[0]: \"x\", data_line_f.columns[1]: \"y\",data_line_f.columns[2]: \"z\", data_line_f.columns[3]: \"mattype\",data_line_f.columns[4]: \"Wm2Front\",}, inplace = True)\n",
    "#we're focused on later points.\n",
    "print(data_line_f)\n",
    "#print(data_line_f['Wm2Front'].min())"
   ]
  },
  {
   "cell_type": "code",
   "execution_count": 7,
   "id": "069dc16e",
   "metadata": {},
   "outputs": [],
   "source": [
    "xstep = (len(data_line_f))\n",
    "x_axis = list(range(1,101))\n",
    "x_axis_rad = np.linspace(0,100,xstep)\n",
    "#print(x_axis_rad)\n",
    "#print(x_axis)"
   ]
  },
  {
   "cell_type": "code",
   "execution_count": 13,
   "id": "bd06564f",
   "metadata": {},
   "outputs": [
    {
     "data": {
      "text/plain": [
       "<matplotlib.legend.Legend at 0x1e49a724820>"
      ]
     },
     "execution_count": 13,
     "metadata": {},
     "output_type": "execute_result"
    },
    {
     "data": {
      "image/png": "[encoded data removed]",
      "text/plain": [
       "<Figure size 432x288 with 1 Axes>"
      ]
     },
     "metadata": {
      "needs_background": "light"
     },
     "output_type": "display_data"
    }
   ],
   "source": [
    "plt.figure(1)\n",
    "VF = plt.plot(x_axis, df['May']/1000, label='VF')\n",
    "#fig = (df['May']/1000).plot()\n",
    "Radiance = plt.plot(x_axis_rad,data_line_f['Wm2Front']/1000, label='Radiance')\n",
    "#fig.set_xlabel('Position between start of row and next row [%]')\n",
    "#fig.set_ylabel('Cumulative Insolation for the month [kWh/m2]')\n",
    "plt.title('Comparison of Ground Irradiance Values for May az=180')\n",
    "plt.xlabel('Position between start of row and next row [%]')\n",
    "plt.ylabel('Cumulative Insolation for the month [kWh/m2]')\n",
    "plt.legend(handles=[VF[0], Radiance[0]])\n",
    "#Q In bifacial Radiacne is (0,0) the middle of the module or the bottom edge"
   ]
  },
  {
   "cell_type": "markdown",
   "id": "70a04679",
   "metadata": {},
   "source": [
    "## Bar Plots of Irradiance Factors for each month"
   ]
  },
  {
   "cell_type": "code",
   "execution_count": 14,
   "id": "80081b2a",
   "metadata": {},
   "outputs": [],
   "source": [
    "#data.set_index(pd.to_datetime(data['date']), inplace=True, drop=True)\n",
    "#data.index = data.index.map(lambda t: t.replace(year=2021))   # Chagning to be the same year\n",
    "ghi = data['ghi'] #.str.strip('[]').str.split(' ', expand=True).astype(float)"
   ]
  },
  {
   "cell_type": "code",
   "execution_count": 15,
   "id": "db5edcbd",
   "metadata": {},
   "outputs": [
    {
     "name": "stdout",
     "output_type": "stream",
     "text": [
      "date\n",
      "2021-01-31 00:00:00-08:00     31408.852748\n",
      "2021-02-28 00:00:00-08:00     58163.039240\n",
      "2021-03-31 00:00:00-08:00    102667.133770\n",
      "2021-04-30 00:00:00-08:00    153951.742639\n",
      "2021-05-31 00:00:00-08:00    193226.204375\n",
      "2021-06-30 00:00:00-08:00    203666.180803\n",
      "2021-07-31 00:00:00-08:00    233165.445912\n",
      "2021-08-31 00:00:00-08:00    201076.287745\n",
      "2021-09-30 00:00:00-08:00    138290.738569\n",
      "2021-10-31 00:00:00-08:00     84477.895755\n",
      "2021-11-30 00:00:00-08:00     42850.672965\n",
      "2021-12-31 00:00:00-08:00     27551.170195\n",
      "Freq: M, Name: ghi, dtype: float64\n"
     ]
    }
   ],
   "source": [
    "dates = ['May','Jun','Jul','Aug','Sep','Oct']\n",
    "dghi = ghi.groupby([pd.Grouper(freq='M')]).sum().T\n",
    "# I'm sure there's a fancier way to do this but hey, this works.\n",
    "print(dghi)\n",
    "#dghi.rename(columns={ dghi.rows[0]: \"Jan\", dghi.columns[1]: \"Feb\",dghi.columns[2]: \"Mar\", dghi.columns[3]: \"Apr\",\n",
    "                   #dghi.columns[4]: \"May\",dghi.columns[5]: \"June\",dghi.columns[6]: \"July\",dghi.columns[7]: \"Aug\",\n",
    "                   #dghi.columns[8]: \"Sept\",dghi.columns[9]: \"Oct\",dghi.columns[10]: \"Nov\",dghi.columns[11]: \"Dec\"    }, inplace = True)"
   ]
  },
  {
   "cell_type": "code",
   "execution_count": 16,
   "id": "3008f228",
   "metadata": {},
   "outputs": [],
   "source": [
    "Rad_irr_factor=[]\n",
    "VF_irr_factor=[]\n",
    "for ti in range (0, len(dates)):\n",
    "    month = dates[ti]\n",
    "    ghitot = dghi[ti+5]\n",
    "    #Min for VF data\n",
    "    VFmin = df[month].min() \n",
    "    #Min for Radiance data\n",
    "    Radiance_File = r'C:\\Users\\jjones\\Documents\\GitHub\\bifacial_radiance\\bifacial_radiance\\TEMP\\Nespelem_test2\\results\\irr_nespelem_'+month+'_az_180_Ground_Analysis_Front.csv'\n",
    "    (dataR, metadata) = loadVFresults(Radiance_File)\n",
    "    data_lineR = dataR #.iloc[13220:13285] #Account for the three lines ignored in the loadVFresults command. Don't need them since \n",
    "    data_line_fR = data_lineR[::-1].reset_index(drop = True)\n",
    "    data_line_fR.rename(columns={ data_line_fR.columns[0]: \"x\", data_line_fR.columns[1]: \"y\",data_line_fR.columns[2]: \"z\", data_line_fR.columns[3]: \"mattype\",data_line_fR.columns[4]: \"Wm2Front\",}, inplace = True)\n",
    "    Radmin =  data_line_fR['Wm2Front'].min()\n",
    "    Radirr = Radmin/ghitot\n",
    "    VFirr = VFmin/ghitot\n",
    "    Rad_irr_factor.append(Radirr)\n",
    "    VF_irr_factor.append(VFirr)"
   ]
  },
  {
   "cell_type": "code",
   "execution_count": 17,
   "id": "a6e2fbe2",
   "metadata": {},
   "outputs": [
    {
     "data": {
      "image/png": "[encoded data removed]",
      "text/plain": [
       "<Figure size 432x288 with 1 Axes>"
      ]
     },
     "metadata": {
      "needs_background": "light"
     },
     "output_type": "display_data"
    }
   ],
   "source": [
    "dates_e = ['May','Jun','Jul','Aug','Sep','Oct','Nov']\n",
    "x_axis = np.arange(len(dates))\n",
    "# Multi bar Chart\n",
    "plt.bar(x_axis -0.2, Rad_irr_factor, width=0.4, label = 'bif_rad')\n",
    "plt.bar(x_axis +0.2, VF_irr_factor, width=0.4, label = 'vf')\n",
    "# Xticks\n",
    "plt.xticks(x_axis, dates)\n",
    "# Add legend and titles\n",
    "plt.legend()\n",
    "plt.title('Comparison of Irradiance Factors')\n",
    "plt.ylabel('Irradiance Factor')\n",
    "# Display\n",
    "plt.show()"
   ]
  },
  {
   "cell_type": "code",
   "execution_count": 66,
   "id": "c6fd8055",
   "metadata": {},
   "outputs": [
    {
     "name": "stdout",
     "output_type": "stream",
     "text": [
      "[0.35975896203367724, 0.21652501099980623, 0.12724007164620707, 0.08697417445962671, 0.09305646720959483, 0.08829214081868035, 0.07778386220047706, 0.07617849512855072, 0.10201056169980359, 0.3044257312712643, 0.29407678286903055, 0.42127309506326166]\n"
     ]
    },
    {
     "data": {
      "image/png": "[encoded data removed]",
      "text/plain": [
       "<Figure size 864x360 with 1 Axes>"
      ]
     },
     "metadata": {
      "needs_background": "light"
     },
     "output_type": "display_data"
    }
   ],
   "source": [
    "VF_all =  VF_irr_factor\n",
    "VF_all.append(df['Nov'].min()/dghi[10])\n",
    "VF_all.append(df['Dec'].min()/dghi[11])\n",
    "VF_all.insert(0,df['Apr'].min()/dghi[3])\n",
    "VF_all.insert(0,df['Mar'].min()/dghi[2])\n",
    "VF_all.insert(0,df['Feb'].min()/dghi[1])\n",
    "VF_all.insert(0,df['Jan'].min()/dghi[0])\n",
    "print(VF_all)\n",
    "dates_e = ['Jan','Feb','Mar','Apr','May','Jun','Jul','Aug','Sep','Oct','Nov','Dec']\n",
    "x_axis = np.arange(len(dates_e))\n",
    "# Multi bar Chart\n",
    "plt.bar(x_axis, VF_all, width=0.4, label = 'vf')\n",
    "# Xticks\n",
    "plt.xticks(x_axis, dates_e)\n",
    "# Add legend and titles\n",
    "plt.legend()\n",
    "plt.title('Comparison of Irradiance Factors')\n",
    "plt.ylabel('Irradiance Factor')\n",
    "# Display\n",
    "plt.show()"
   ]
  },
  {
   "cell_type": "code",
   "execution_count": null,
   "id": "ca7950d1",
   "metadata": {},
   "outputs": [],
   "source": [
    "monthlyGHI = pd.DataFrame(data['ghi'].groupby([pd.Grouper(freq='M')]).sum())"
   ]
  },
  {
   "cell_type": "code",
   "execution_count": null,
   "id": "5ce1bf61",
   "metadata": {},
   "outputs": [],
   "source": [
    "monthlyGHI['Month'] = ['Jan', 'Feb', 'Mar', 'Apr', 'May', 'June', 'July', 'Aug', 'Sept', 'Oct', 'Nov', 'Dec']\n",
    "monthlyGHI.set_index(monthlyGHI['Month'], inplace=True)\n",
    "monthlyGHI = monthlyGHI.drop(columns='Month')"
   ]
  },
  {
   "cell_type": "code",
   "execution_count": null,
   "id": "eb4a5bb2",
   "metadata": {},
   "outputs": [],
   "source": [
    "print(monthlyGHI)"
   ]
  },
  {
   "cell_type": "code",
   "execution_count": null,
   "id": "d311fb60",
   "metadata": {},
   "outputs": [],
   "source": [
    "df_norm = df.T\n",
    "df_norm = df_norm.div(monthlyGHI['ghi'], axis=0)\n",
    "df_norm = df_norm.T"
   ]
  },
  {
   "cell_type": "code",
   "execution_count": null,
   "id": "7f63b0f3",
   "metadata": {},
   "outputs": [],
   "source": [
    "fig = (df_norm).plot()\n",
    "fig.set_xlabel('Position between start of row and next row [%]')\n",
    "fig.set_ylabel('Normalized Insolation for the month/GHI')"
   ]
  },
  {
   "cell_type": "code",
   "execution_count": null,
   "id": "0011785f",
   "metadata": {},
   "outputs": [],
   "source": []
  }
 ],
 "metadata": {
  "kernelspec": {
   "display_name": "Python 3 (ipykernel)",
   "language": "python",
   "name": "python3"
  },
  "language_info": {
   "codemirror_mode": {
    "name": "ipython",
    "version": 3
   },
   "file_extension": ".py",
   "mimetype": "text/x-python",
   "name": "python",
   "nbconvert_exporter": "python",
   "pygments_lexer": "ipython3",
   "version": "3.9.12"
  }
 },
 "nbformat": 4,
 "nbformat_minor": 5
}
