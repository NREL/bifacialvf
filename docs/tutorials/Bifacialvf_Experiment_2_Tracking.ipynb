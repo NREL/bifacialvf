{
 "cells": [
  {
   "cell_type": "markdown",
   "id": "967a8149",
   "metadata": {},
   "source": [
    "# 2 - Introductory Example: Ground Irradiance Analysis for AgriPV\n",
    "\n",
    "This jupyter journal will walk us through the creation of the most basic fixed-tilt simulation possible with bifacialvf.\n",
    "We will simulate a 1-up landscape system over a grass albedo and look at the ground irradiance from the start of 1 row to the other.\n"
   ]
  },
  {
   "cell_type": "code",
   "execution_count": 2,
   "id": "a2877703",
   "metadata": {},
   "outputs": [],
   "source": [
    "from pathlib import Path\n",
    "import os\n",
    "import bifacialvf\n",
    "import matplotlib.pyplot as plt\n",
    "import numpy as np\n",
    "import pandas as pd\n",
    "import seaborn as sns\n",
    "\n",
    "\n",
    "\n",
    "# IO Files\n",
    "testfolder = Path().resolve().parent.parent / 'bifacialvf' / 'TEMP' / 'Experiment_2'\n",
    "if not os.path.exists(testfolder):\n",
    "    os.makedirs(testfolder)"
   ]
  },
  {
   "cell_type": "code",
   "execution_count": null,
   "id": "38e3237c",
   "metadata": {},
   "outputs": [],
   "source": [
    "plt.rcParams['timezone'] = 'Etc/GMT+7'\n",
    "font = {'family' : 'DejaVu Sans',\n",
    "'weight' : 'bold',\n",
    "'size'   : 22}\n",
    "plt.rc('font', **font)\n",
    "plt.rcParams['figure.figsize'] = (12, 5)"
   ]
  },
  {
   "cell_type": "code",
   "execution_count": 12,
   "id": "11fd7462",
   "metadata": {
    "scrolled": true
   },
   "outputs": [],
   "source": [
    "# Variables\n",
    "\n",
    "months = ['May','Jun','Jul','Aug','Sep','Oct']\n",
    "lat = 32.25\n",
    "lon = -110.9  #Lat and Long for Tuscon Arizona           \n",
    "sazm = 180 #cycling through 3 different azimuths                 \n",
    "albedo = 0.31  # Changed from 0.31 for test 6/9/22\n",
    "x = 1\n",
    "y = 2 \n",
    "rowType = \"interior\"        # RowType(first interior last single)\n",
    "transFactor = 0             # TransmissionFactor(open area fraction)\n",
    "sensorsy = 12   # sensorsy(# hor rows in panel)   <--> THIS ASSUMES LANDSCAPE ORIENTATION \n",
    "PVfrontSurface = \"glass\"    # PVfrontSurface(glass or ARglass)\n",
    "PVbackSurface = \"glass\"     # PVbackSurface(glass or ARglass)\n",
    "agriPV = True\n",
    "numpanels = 1\n",
    "#xgap =  0.9144   \n",
    "#nMods = 7\n",
    "#ygap = .02 # Meters\n",
    "#numpanels = 4\n",
    "CW = y * numpanels\n",
    "#CW = x + 2*xgap \n",
    "\n",
    "#Arrays for loops\n",
    "tilts = [20,30]  \n",
    "hub_heights = np.array([1,1.5,2,2.5]) \n",
    "GCRs = [0.28,0.33,0.4,0.6]\n",
    "#Defaults\n",
    "tilt_def = tilts[0]\n",
    "hub_height_def = hub_heights[1]\n",
    "GCR_def = GCRs[1]\n",
    "pitch_def = CW/GCR_def/CW\n",
    "module_place = CW/GCR_def\n",
    " \n",
    "# Tracking instructions\n",
    "tracking=True\n",
    "backtrack=True\n",
    "limit_angle = 60\n",
    "\n",
    "\n",
    "\n"
   ]
  },
  {
   "cell_type": "code",
   "execution_count": 5,
   "id": "36a984a1",
   "metadata": {},
   "outputs": [
    {
     "name": "stdout",
     "output_type": "stream",
     "text": [
      "3.0303030303030303 0.33\n"
     ]
    }
   ],
   "source": [
    "print(pitch_def,GCR_def)"
   ]
  },
  {
   "cell_type": "code",
   "execution_count": 4,
   "id": "fe1ae02e",
   "metadata": {},
   "outputs": [
    {
     "name": "stdout",
     "output_type": "stream",
     "text": [
      "path = C:\\Users\\jjones\\Documents\\GitHub\\bifacialvf\\bifacialvf\\TEMP\\Experiment_2\n",
      "Getting weather file: USA_AZ_Davis-Monthan.AFB.722745_TMY3.epw\n",
      " ... OK!\n"
     ]
    }
   ],
   "source": [
    "#Get weather file for Tuscon AZ\n",
    "TMYtoread=bifacialvf.getEPW(lat=lat,lon=lon, path = testfolder)\n",
    "myTMY3, meta = bifacialvf.readInputTMY(TMYtoread)\n",
    "deltastyle = 'TMY3'"
   ]
  },
  {
   "cell_type": "markdown",
   "id": "2b37bad6",
   "metadata": {},
   "source": [
    "## Experiment for Hub height"
   ]
  },
  {
   "cell_type": "code",
   "execution_count": 14,
   "id": "988b9d7a",
   "metadata": {},
   "outputs": [
    {
     "name": "stdout",
     "output_type": "stream",
     "text": [
      "Albedo value passed, but also present in TMY3 file.  Using albedo value passed. To use the ones in TMY3 file re-run simulation with albedo=None\n",
      "\n",
      " \n",
      "********* \n",
      "Running Simulation for TMY3: \n",
      "Location:   Davis Monthan Afb\n",
      "Lat:  32.17  Long:  -110.88  Tz  -7.0\n",
      "Parameters: tilt:  0   Sazm:  180     Hub_Height :  0.5   Pitch:  3.0303030303030303   Row type:  interior   Albedo:  0.31\n",
      "Saving into C:\\Users\\jjones\\Documents\\GitHub\\bifacialvf\\bifacialvf\\TEMP\\Experiment_2\\Results_Test_HubHeight_1.0.csv\n",
      " \n",
      " \n",
      "Distance between rows for no shading on Dec 21 at 9 am solar time =  0.0\n",
      "Actual distance between rows =  2.0303030303030303\n",
      " \n",
      " ***** IMPORTANT --> THIS SIMULATION Has Tracking Activated\n",
      "Backtracking Option is set to:  True\n",
      "Saving Ground Irradiance Values for AgriPV Analysis. \n"
     ]
    },
    {
     "name": "stderr",
     "output_type": "stream",
     "text": [
      "100%|██████████████████████████████████████████████████████████████████████████████| 8760/8760 [01:39<00:00, 88.25it/s]\n"
     ]
    },
    {
     "name": "stdout",
     "output_type": "stream",
     "text": [
      "Finished\n",
      "Albedo value passed, but also present in TMY3 file.  Using albedo value passed. To use the ones in TMY3 file re-run simulation with albedo=None\n",
      "\n",
      " \n",
      "********* \n",
      "Running Simulation for TMY3: \n",
      "Location:   Davis Monthan Afb\n",
      "Lat:  32.17  Long:  -110.88  Tz  -7.0\n",
      "Parameters: tilt:  0   Sazm:  180     Hub_Height :  0.75   Pitch:  3.0303030303030303   Row type:  interior   Albedo:  0.31\n",
      "Saving into C:\\Users\\jjones\\Documents\\GitHub\\bifacialvf\\bifacialvf\\TEMP\\Experiment_2\\Results_Test_HubHeight_1.5.csv\n",
      " \n",
      " \n",
      "Distance between rows for no shading on Dec 21 at 9 am solar time =  0.0\n",
      "Actual distance between rows =  2.0303030303030303\n",
      " \n",
      " ***** IMPORTANT --> THIS SIMULATION Has Tracking Activated\n",
      "Backtracking Option is set to:  True\n",
      "Saving Ground Irradiance Values for AgriPV Analysis. \n"
     ]
    },
    {
     "name": "stderr",
     "output_type": "stream",
     "text": [
      "100%|██████████████████████████████████████████████████████████████████████████████| 8760/8760 [01:58<00:00, 74.14it/s]\n"
     ]
    },
    {
     "name": "stdout",
     "output_type": "stream",
     "text": [
      "Finished\n",
      "Albedo value passed, but also present in TMY3 file.  Using albedo value passed. To use the ones in TMY3 file re-run simulation with albedo=None\n",
      "\n",
      " \n",
      "********* \n",
      "Running Simulation for TMY3: \n",
      "Location:   Davis Monthan Afb\n",
      "Lat:  32.17  Long:  -110.88  Tz  -7.0\n",
      "Parameters: tilt:  0   Sazm:  180     Hub_Height :  1.0   Pitch:  3.0303030303030303   Row type:  interior   Albedo:  0.31\n",
      "Saving into C:\\Users\\jjones\\Documents\\GitHub\\bifacialvf\\bifacialvf\\TEMP\\Experiment_2\\Results_Test_HubHeight_2.0.csv\n",
      " \n",
      " \n",
      "Distance between rows for no shading on Dec 21 at 9 am solar time =  0.0\n",
      "Actual distance between rows =  2.0303030303030303\n",
      " \n",
      " ***** IMPORTANT --> THIS SIMULATION Has Tracking Activated\n",
      "Backtracking Option is set to:  True\n",
      "Saving Ground Irradiance Values for AgriPV Analysis. \n"
     ]
    },
    {
     "name": "stderr",
     "output_type": "stream",
     "text": [
      "100%|██████████████████████████████████████████████████████████████████████████████| 8760/8760 [02:26<00:00, 59.68it/s]\n"
     ]
    },
    {
     "name": "stdout",
     "output_type": "stream",
     "text": [
      "Finished\n",
      "Albedo value passed, but also present in TMY3 file.  Using albedo value passed. To use the ones in TMY3 file re-run simulation with albedo=None\n",
      "\n",
      " \n",
      "********* \n",
      "Running Simulation for TMY3: \n",
      "Location:   Davis Monthan Afb\n",
      "Lat:  32.17  Long:  -110.88  Tz  -7.0\n",
      "Parameters: tilt:  0   Sazm:  180     Hub_Height :  1.25   Pitch:  3.0303030303030303   Row type:  interior   Albedo:  0.31\n",
      "Saving into C:\\Users\\jjones\\Documents\\GitHub\\bifacialvf\\bifacialvf\\TEMP\\Experiment_2\\Results_Test_HubHeight_2.5.csv\n",
      " \n",
      " \n",
      "Distance between rows for no shading on Dec 21 at 9 am solar time =  0.0\n",
      "Actual distance between rows =  2.0303030303030303\n",
      " \n",
      " ***** IMPORTANT --> THIS SIMULATION Has Tracking Activated\n",
      "Backtracking Option is set to:  True\n",
      "Saving Ground Irradiance Values for AgriPV Analysis. \n"
     ]
    },
    {
     "name": "stderr",
     "output_type": "stream",
     "text": [
      "100%|██████████████████████████████████████████████████████████████████████████████| 8760/8760 [04:07<00:00, 35.35it/s]"
     ]
    },
    {
     "name": "stdout",
     "output_type": "stream",
     "text": [
      "Finished\n"
     ]
    },
    {
     "name": "stderr",
     "output_type": "stream",
     "text": [
      "\n"
     ]
    }
   ],
   "source": [
    "for hh in range (0, len(hub_heights)):\n",
    "    #Build scene and run raytracing for all 3 azimuths\n",
    "    chreg = hub_heights[hh]\n",
    "    hub_height = chreg/CW #Normalize using the collector width. Needed for bifacial VF\n",
    "    writefiletitle = os.path.join(testfolder, 'Results_Test_HubHeight_'+str(chreg)+'.csv')\n",
    "    bifacialvf.simulate(myTMY3, meta, writefiletitle=writefiletitle, \n",
    "                        tilt=tilt_def, sazm=sazm, pitch=pitch_def, hub_height=hub_height, \n",
    "                        rowType=rowType, transFactor=transFactor, sensorsy=sensorsy, \n",
    "                        PVfrontSurface=PVfrontSurface, PVbackSurface=PVbackSurface, \n",
    "                        albedo=albedo, tracking=tracking, backtrack=backtrack, \n",
    "                        limit_angle=limit_angle, deltastyle=deltastyle, agriPV=True)\n"
   ]
  },
  {
   "cell_type": "code",
   "execution_count": 125,
   "id": "a40228b1",
   "metadata": {
    "scrolled": true
   },
   "outputs": [
    {
     "name": "stderr",
     "output_type": "stream",
     "text": [
      "C:\\Users\\jjones\\AppData\\Local\\Temp\\1\\ipykernel_7684\\1283535156.py:33: FutureWarning: The series.append method is deprecated and will be removed from pandas in a future version. Use pandas.concat instead.\n",
      "  full = splitback.append(splitfront)\n",
      "C:\\Users\\jjones\\AppData\\Local\\Temp\\1\\ipykernel_7684\\1283535156.py:33: FutureWarning: The series.append method is deprecated and will be removed from pandas in a future version. Use pandas.concat instead.\n",
      "  full = splitback.append(splitfront)\n",
      "C:\\Users\\jjones\\AppData\\Local\\Temp\\1\\ipykernel_7684\\1283535156.py:33: FutureWarning: The series.append method is deprecated and will be removed from pandas in a future version. Use pandas.concat instead.\n",
      "  full = splitback.append(splitfront)\n",
      "C:\\Users\\jjones\\AppData\\Local\\Temp\\1\\ipykernel_7684\\1283535156.py:33: FutureWarning: The series.append method is deprecated and will be removed from pandas in a future version. Use pandas.concat instead.\n",
      "  full = splitback.append(splitfront)\n"
     ]
    },
    {
     "data": {
      "text/plain": [
       "<matplotlib.legend.Legend at 0x215360d5c10>"
      ]
     },
     "execution_count": 125,
     "metadata": {},
     "output_type": "execute_result"
    },
    {
     "data": {
      "image/png": "[encoded data removed]",
      "text/plain": [
       "<Figure size 432x288 with 1 Axes>"
      ]
     },
     "metadata": {
      "needs_background": "light"
     },
     "output_type": "display_data"
    }
   ],
   "source": [
    "# Potential Times\n",
    "# 2021-06-01 06:00:00-07:00, 2021-06-01 07:00:00-07:00, 2021-06-01 08:00:00-07:00, 2021-06-01 09:00:00-07:00, 2021-06-01 10:00:00-07:00\n",
    "# 2021-06-01 11:00:00-07:00, 2021-06-01 12:00:00-07:00, 2021-06-01 13:00:00-07:00, 2021-06-01 14:00:00-07:00, 2021-06-01 15:00:00-07:00\n",
    "# 2021-06-01 16:00:00-07:00, 2021-06-01 17:00:00-07:00 ,2021-06-01 18:00:00-07:00\n",
    "\n",
    "plt.figure(1)\n",
    "for hh in range (0, len(hub_heights)):\n",
    "    #Build scene and run raytracing for all 3 azimuths\n",
    "    chreg = hub_heights[hh]\n",
    "    hub_height = chreg/CW #Normalize using the collector width. Needed for bifacial VF\n",
    "    writefiletitle = os.path.join(testfolder, 'Results_Test_HubHeight_'+str(chreg)+'.csv')\n",
    "    #Load the results from the resultfile\n",
    "    from bifacialvf import loadVFresults\n",
    "    (data, metadata) = loadVFresults(writefiletitle)\n",
    "    #Work with data in resultfile\n",
    "    data.set_index(pd.to_datetime(data['date']), inplace=True, drop=True)\n",
    "    data.index = data.index.map(lambda t: t.replace(year=2021))   # Chagning to be the same year\n",
    "    groundIrrads = data['Ground Irradiance Values'].str.strip('[]').str.split(' ', expand=True).astype(float)\n",
    "    do = groundIrrads.groupby([pd.Grouper(freq='M')]).sum().T\n",
    "    #Isolate rows without summing\n",
    "    \n",
    "    df = groundIrrads.groupby([pd.Grouper(freq='M')]).sum().T\n",
    "    # I'm sure there's a fancier way to do this but hey, this works.\n",
    "    df.rename(columns={ df.columns[0]: \"Jan\", df.columns[1]: \"Feb\",df.columns[2]: \"Mar\", df.columns[3]: \"Apr\",\n",
    "\n",
    "                       df.columns[4]: \"May\",df.columns[5]: \"Jun\",df.columns[6]: \"Jul\",df.columns[7]: \"Aug\",\n",
    "                       df.columns[8]: \"Sep\",df.columns[9]: \"Oct\",df.columns[10]: \"Nov\",df.columns[11]: \"Dec\"    }, inplace = True)\n",
    "    Jun = df['Jun']\n",
    "    #Split the column at the midpoint and bring the front data to the back. This is done to look at data between middle of rows\n",
    "    # instead of from front edge to front edge\n",
    "    splitfront = Jun.iloc[:33]\n",
    "    splitback = Jun.iloc[33:]\n",
    "    full = splitback.append(splitfront)\n",
    "    #create x axis\n",
    "    xstep = pitch_def/100\n",
    "    xaxis = np.linspace(0, pitch_def, num=100, endpoint=True)\n",
    "    graph = plt.plot(xaxis, full/1000, label=chreg)\n",
    "    #fig = (df['May']/1000).plot()\n",
    "    #Radiance = plt.plot(x_axis_rad,data_line_f['Wm2Front']/1000, label='Radiance')\n",
    "    #fig.set_xlabel('Position between start of row and next row [%]')\n",
    "    #fig.set_ylabel('Cumulative Insolation for the month [kWh/m2]')\n",
    "    #plt.axvspan(0, module_end, alpha=.05, color='green')\n",
    "    plt.title('Bifacial_VF Comparison of Hub Height June')\n",
    "    plt.xlabel('Meters from middle (m)')\n",
    "    plt.ylabel('Cumulative Insolation for the month [kWh/m2]')\n",
    "plt.legend()\n",
    "\n",
    "  "
   ]
  },
  {
   "cell_type": "code",
   "execution_count": 123,
   "id": "04e226e7",
   "metadata": {},
   "outputs": [
    {
     "data": {
      "text/plain": [
       "0     216807.957221\n",
       "1     216857.888684\n",
       "2     215450.968077\n",
       "3     213459.461072\n",
       "4     211414.022964\n",
       "          ...      \n",
       "95    188302.752686\n",
       "96    188326.053511\n",
       "97    188352.798768\n",
       "98    188382.757817\n",
       "99    215794.377844\n",
       "Name: Jun, Length: 100, dtype: float64"
      ]
     },
     "execution_count": 123,
     "metadata": {},
     "output_type": "execute_result"
    }
   ],
   "source": [
    "Jun"
   ]
  },
  {
   "cell_type": "code",
   "execution_count": 114,
   "id": "652aadd8",
   "metadata": {},
   "outputs": [
    {
     "name": "stderr",
     "output_type": "stream",
     "text": [
      "C:\\Users\\jjones\\AppData\\Local\\Temp\\1\\ipykernel_7684\\1438986964.py:20: FutureWarning: The series.append method is deprecated and will be removed from pandas in a future version. Use pandas.concat instead.\n",
      "  full = splitback.append(splitfront)\n",
      "No artists with labels found to put in legend.  Note that artists whose label start with an underscore are ignored when legend() is called with no argument.\n"
     ]
    },
    {
     "data": {
      "text/plain": [
       "<matplotlib.legend.Legend at 0x2153576c970>"
      ]
     },
     "execution_count": 114,
     "metadata": {},
     "output_type": "execute_result"
    },
    {
     "data": {
      "image/png": "[encoded data removed]",
      "text/plain": [
       "<Figure size 432x288 with 1 Axes>"
      ]
     },
     "metadata": {
      "needs_background": "light"
     },
     "output_type": "display_data"
    }
   ],
   "source": [
    "# Practice for splitting down data at middle and movin the front data to the back\n",
    "times = ['2021-06-01 09:00:00-07:00','2021-06-01 15:00:00-07:00', '2021-06-01 16:00:00-07:00']\n",
    "#Get tile from result file\n",
    "tilt = 0\n",
    "CW = 2\n",
    "writefiletitle = os.path.join(testfolder, 'Results_Test_HubHeight_1.5.csv')\n",
    "#Load the results from the resultfile\n",
    "from bifacialvf import loadVFresults\n",
    "(data, metadata) = loadVFresults(writefiletitle)\n",
    "#Work with data in resultfile\n",
    "data.set_index(pd.to_datetime(data['date']), inplace=True, drop=True)\n",
    "data.index = data.index.map(lambda t: t.replace(year=2021))   # Chagning to be the same year\n",
    "groundIrrads = data['Ground Irradiance Values'].str.strip('[]').str.split(' ', expand=True).astype(float)\n",
    "date = times[2]\n",
    "gg = groundIrrads.loc[date]\n",
    "#Calculate midpoint. Use this to figure out where to split table. We'll split at row 33\n",
    "mid = 0.5*CW*np.cos(tilt)\n",
    "#will make two seperate tables from the split and then append front split to back split\n",
    "splitfront = gg.iloc[:33]\n",
    "splitback = gg.iloc[33:]\n",
    "full = splitback.append(splitfront)\n",
    "#create x axis\n",
    "xstep = pitch_def/100\n",
    "xaxis = np.linspace(0, pitch_def, num=100, endpoint=True)\n",
    "plt.figure(1)\n",
    "graph = plt.plot(x_axis, full)\n",
    "#fig = (df['May']/1000).plot()\n",
    "#Radiance = plt.plot(x_axis_rad,data_line_f['Wm2Front']/1000, label='Radiance')\n",
    "#fig.set_xlabel('Position between start of row and next row [%]')\n",
    "#fig.set_ylabel('Cumulative Insolation for the month [kWh/m2]')\n",
    "#plt.axvspan(0, module_end, alpha=.05, color='green')\n",
    "plt.title('Bifacial_VF Comparison of Hub Height '+date)\n",
    "plt.xlabel('Position between start of row and next row [%]')\n",
    "plt.ylabel('Cumulative Insolation for the month [W/m2]')\n",
    "plt.legend()"
   ]
  },
  {
   "cell_type": "code",
   "execution_count": null,
   "id": "ae4b722f",
   "metadata": {},
   "outputs": [],
   "source": []
  },
  {
   "cell_type": "markdown",
   "id": "dfec7d2f",
   "metadata": {},
   "source": [
    "## Change Graph Data"
   ]
  },
  {
   "cell_type": "code",
   "execution_count": 115,
   "id": "1f431618",
   "metadata": {},
   "outputs": [
    {
     "name": "stderr",
     "output_type": "stream",
     "text": [
      "C:\\Users\\jjones\\AppData\\Local\\Temp\\1\\ipykernel_7684\\1817353075.py:25: FutureWarning: The series.append method is deprecated and will be removed from pandas in a future version. Use pandas.concat instead.\n",
      "  full = splitback.append(splitfront)\n",
      "C:\\Users\\jjones\\AppData\\Local\\Temp\\1\\ipykernel_7684\\1817353075.py:25: FutureWarning: The series.append method is deprecated and will be removed from pandas in a future version. Use pandas.concat instead.\n",
      "  full = splitback.append(splitfront)\n",
      "C:\\Users\\jjones\\AppData\\Local\\Temp\\1\\ipykernel_7684\\1817353075.py:25: FutureWarning: The series.append method is deprecated and will be removed from pandas in a future version. Use pandas.concat instead.\n",
      "  full = splitback.append(splitfront)\n",
      "C:\\Users\\jjones\\AppData\\Local\\Temp\\1\\ipykernel_7684\\1817353075.py:25: FutureWarning: The series.append method is deprecated and will be removed from pandas in a future version. Use pandas.concat instead.\n",
      "  full = splitback.append(splitfront)\n"
     ]
    },
    {
     "data": {
      "text/plain": [
       "<function matplotlib.pyplot.show(close=None, block=None)>"
      ]
     },
     "execution_count": 115,
     "metadata": {},
     "output_type": "execute_result"
    },
    {
     "data": {
      "image/png": "[encoded data removed]",
      "text/plain": [
       "<Figure size 432x288 with 1 Axes>"
      ]
     },
     "metadata": {
      "needs_background": "light"
     },
     "output_type": "display_data"
    }
   ],
   "source": [
    "times = ['2021-06-01 09:00:00-07:00','2021-06-01 15:00:00-07:00', '2021-06-01 16:00:00-07:00']\n",
    "#Get tile from result file\n",
    "tilt = 0\n",
    "CW = 2\n",
    "plt.figure(1)\n",
    "for hh in range (0, len(hub_heights)):\n",
    "    #Build scene and run raytracing for all 3 azimuths\n",
    "    chreg = hub_heights[hh]\n",
    "    hub_height = chreg/CW #Normalize using the collector width. Needed for bifacial VF\n",
    "    writefiletitle = os.path.join(testfolder, 'Results_Test_HubHeight_'+str(chreg)+'.csv')\n",
    "    #Load the results from the resultfile\n",
    "    from bifacialvf import loadVFresults\n",
    "    (data, metadata) = loadVFresults(writefiletitle)\n",
    "    #Work with data in resultfile\n",
    "    data.set_index(pd.to_datetime(data['date']), inplace=True, drop=True)\n",
    "    data.index = data.index.map(lambda t: t.replace(year=2021))   # Chagning to be the same year\n",
    "    groundIrrads = data['Ground Irradiance Values'].str.strip('[]').str.split(' ', expand=True).astype(float)\n",
    "    date = times[2]\n",
    "    gg = groundIrrads.loc[date]\n",
    "    #Calculate midpoint. Use this to figure out where to split table. We'll split at row 33\n",
    "    mid = 0.5*CW*np.cos(tilt) #This midpoint is at 1m because the tilt is 0\n",
    "    #will make two seperate tables from the split and then append front split to back split\n",
    "    splitfront = gg.iloc[:33]\n",
    "    splitback = gg.iloc[33:]\n",
    "    full = splitback.append(splitfront)\n",
    "    #create x axis\n",
    "    xstep = pitch_def/100\n",
    "    xaxis = np.linspace(0, pitch_def, num=100, endpoint=True)\n",
    "    graph = plt.plot(x_axis, full, label=chreg)\n",
    "    #fig = (df['May']/1000).plot()\n",
    "    #Radiance = plt.plot(x_axis_rad,data_line_f['Wm2Front']/1000, label='Radiance')\n",
    "    #fig.set_xlabel('Position between start of row and next row [%]')\n",
    "    #fig.set_ylabel('Cumulative Insolation for the month [kWh/m2]')\n",
    "    #plt.axvspan(0, module_end, alpha=.05, color='green')\n",
    "    plt.title('Bifacial_VF Comparison of Hub Height '+date)\n",
    "    plt.xlabel('Meters from middle (m)')\n",
    "    plt.ylabel('Cumulative Insolation for the month [W/m2]')\n",
    "plt.legend()\n",
    "plt.show\n",
    "    "
   ]
  },
  {
   "cell_type": "code",
   "execution_count": 122,
   "id": "029ab5c2",
   "metadata": {},
   "outputs": [
    {
     "ename": "IndentationError",
     "evalue": "unexpected indent (3656841046.py, line 2)",
     "output_type": "error",
     "traceback": [
      "\u001b[1;36m  Input \u001b[1;32mIn [122]\u001b[1;36m\u001b[0m\n\u001b[1;33m    from bifacialvf import loadVFresults\u001b[0m\n\u001b[1;37m    ^\u001b[0m\n\u001b[1;31mIndentationError\u001b[0m\u001b[1;31m:\u001b[0m unexpected indent\n"
     ]
    }
   ],
   "source": [
    "#Load the results from the resultfile\n",
    "    from bifacialvf import loadVFresults\n",
    "    (data, metadata) = loadVFresults(writefiletitle)\n",
    "    #Work with data in resultfile\n",
    "    data.set_index(pd.to_datetime(data['date']), inplace=True, drop=True)\n",
    "    data.index = data.index.map(lambda t: t.replace(year=2021))   # Chagning to be the same year\n",
    "    groundIrrads = data['Ground Irradiance Values'].str.strip('[]').str.split(' ', expand=True).astype(float)\n",
    "    #do = groundIrrads.groupby([pd.Grouper(freq='H')]).sum().T\n",
    "    #Isolate rows without summing\n",
    "    \n",
    "    #df = groundIrrads.groupby([pd.Grouper(freq='M')]).sum().T\n",
    "    # I'm sure there's a fancier way to do this but hey, this works.\n",
    "    #df.rename(columns={ df.columns[0]: \"Jan\", df.columns[1]: \"Feb\",df.columns[2]: \"Mar\", df.columns[3]: \"Apr\",\n",
    "\n",
    "                       #df.columns[4]: \"May\",df.columns[5]: \"Jun\",df.columns[6]: \"Jul\",df.columns[7]: \"Aug\",\n",
    "                  #df.columns[8]: \"Sep\",df.columns[9]: \"Oct\",df.columns[10]: \"Nov\",df.columns[11]: \"Dec\"    }, inplace = True)\n",
    "    plt.figure(1)\n",
    "    for time in times:\n",
    "        gg = groundIrrads.loc[time]\n",
    "        plt.plot(gg, label=time)\n",
    "    plt.legend()   \n",
    "    plt.show()\n",
    "    \n",
    "    #xstep = (len(do))\n",
    "    x_axis = list(range(1,101))\n",
    "    date = '2021-06-01 15:00:00-07:00'\n",
    "    #x_axis_rad = np.linspace(0,100,xstep)\n",
    "    plt.figure(1)\n",
    "    VF = plt.plot(x_axis, do[date], label=chreg)\n",
    "    #fig = (df['May']/1000).plot()\n",
    "    #Radiance = plt.plot(x_axis_rad,data_line_f['Wm2Front']/1000, label='Radiance')\n",
    "    #fig.set_xlabel('Position between start of row and next row [%]')\n",
    "    #fig.set_ylabel('Cumulative Insolation for the month [kWh/m2]')\n",
    "    module_end = (2/module_place)*100 #Percentage between rows where the module ends)\n",
    "    #plt.axvspan(0, module_end, alpha=.05, color='green')\n",
    "    plt.title('Bifacial_VF Comparison of Hub Height '+date)\n",
    "    plt.xlabel('Position between start of row and next row [%]')\n",
    "    plt.ylabel('Cumulative Insolation for the month [W/m2]')\n",
    "    plt.legend()"
   ]
  },
  {
   "cell_type": "markdown",
   "id": "8b75f4bf",
   "metadata": {},
   "source": [
    "## Experiment for GCR"
   ]
  },
  {
   "cell_type": "code",
   "execution_count": 17,
   "id": "c379a2ec",
   "metadata": {},
   "outputs": [
    {
     "name": "stdout",
     "output_type": "stream",
     "text": [
      "Albedo value passed, but also present in TMY3 file.  Using albedo value passed. To use the ones in TMY3 file re-run simulation with albedo=None\n",
      "\n",
      " \n",
      "********* \n",
      "Running Simulation for TMY3: \n",
      "Location:   Davis Monthan Afb\n",
      "Lat:  32.17  Long:  -110.88  Tz  -7.0\n",
      "Parameters: tilt:  0   Sazm:  180     Hub_Height :  0.75   Pitch:  3.571428571428571   Row type:  interior   Albedo:  0.31\n",
      "Saving into C:\\Users\\jjones\\Documents\\GitHub\\bifacialvf\\bifacialvf\\TEMP\\Experiment_2\\Results_Test_GCR_0.28.csv\n",
      " \n",
      " \n",
      "Distance between rows for no shading on Dec 21 at 9 am solar time =  0.0\n",
      "Actual distance between rows =  2.571428571428571\n",
      " \n",
      " ***** IMPORTANT --> THIS SIMULATION Has Tracking Activated\n",
      "Backtracking Option is set to:  True\n",
      "Saving Ground Irradiance Values for AgriPV Analysis. \n"
     ]
    },
    {
     "name": "stderr",
     "output_type": "stream",
     "text": [
      "100%|██████████████████████████████████████████████████████████████████████████████| 8760/8760 [01:42<00:00, 85.87it/s]\n"
     ]
    },
    {
     "name": "stdout",
     "output_type": "stream",
     "text": [
      "Finished\n",
      "Albedo value passed, but also present in TMY3 file.  Using albedo value passed. To use the ones in TMY3 file re-run simulation with albedo=None\n",
      "\n",
      " \n",
      "********* \n",
      "Running Simulation for TMY3: \n",
      "Location:   Davis Monthan Afb\n",
      "Lat:  32.17  Long:  -110.88  Tz  -7.0\n",
      "Parameters: tilt:  0   Sazm:  180     Hub_Height :  0.75   Pitch:  3.0303030303030303   Row type:  interior   Albedo:  0.31\n",
      "Saving into C:\\Users\\jjones\\Documents\\GitHub\\bifacialvf\\bifacialvf\\TEMP\\Experiment_2\\Results_Test_GCR_0.33.csv\n",
      " \n",
      " \n",
      "Distance between rows for no shading on Dec 21 at 9 am solar time =  0.0\n",
      "Actual distance between rows =  2.0303030303030303\n",
      " \n",
      " ***** IMPORTANT --> THIS SIMULATION Has Tracking Activated\n",
      "Backtracking Option is set to:  True\n",
      "Saving Ground Irradiance Values for AgriPV Analysis. \n"
     ]
    },
    {
     "name": "stderr",
     "output_type": "stream",
     "text": [
      "100%|██████████████████████████████████████████████████████████████████████████████| 8760/8760 [01:42<00:00, 85.13it/s]\n"
     ]
    },
    {
     "name": "stdout",
     "output_type": "stream",
     "text": [
      "Finished\n",
      "Albedo value passed, but also present in TMY3 file.  Using albedo value passed. To use the ones in TMY3 file re-run simulation with albedo=None\n",
      "\n",
      " \n",
      "********* \n",
      "Running Simulation for TMY3: \n",
      "Location:   Davis Monthan Afb\n",
      "Lat:  32.17  Long:  -110.88  Tz  -7.0\n",
      "Parameters: tilt:  0   Sazm:  180     Hub_Height :  0.75   Pitch:  2.5   Row type:  interior   Albedo:  0.31\n",
      "Saving into C:\\Users\\jjones\\Documents\\GitHub\\bifacialvf\\bifacialvf\\TEMP\\Experiment_2\\Results_Test_GCR_0.4.csv\n",
      " \n",
      " \n",
      "Distance between rows for no shading on Dec 21 at 9 am solar time =  0.0\n",
      "Actual distance between rows =  1.5\n",
      " \n",
      " ***** IMPORTANT --> THIS SIMULATION Has Tracking Activated\n",
      "Backtracking Option is set to:  True\n",
      "Saving Ground Irradiance Values for AgriPV Analysis. \n"
     ]
    },
    {
     "name": "stderr",
     "output_type": "stream",
     "text": [
      "100%|██████████████████████████████████████████████████████████████████████████████| 8760/8760 [01:47<00:00, 81.81it/s]\n"
     ]
    },
    {
     "name": "stdout",
     "output_type": "stream",
     "text": [
      "Finished\n",
      "Albedo value passed, but also present in TMY3 file.  Using albedo value passed. To use the ones in TMY3 file re-run simulation with albedo=None\n",
      "\n",
      " \n",
      "********* \n",
      "Running Simulation for TMY3: \n",
      "Location:   Davis Monthan Afb\n",
      "Lat:  32.17  Long:  -110.88  Tz  -7.0\n",
      "Parameters: tilt:  0   Sazm:  180     Hub_Height :  0.75   Pitch:  1.6666666666666667   Row type:  interior   Albedo:  0.31\n",
      "Saving into C:\\Users\\jjones\\Documents\\GitHub\\bifacialvf\\bifacialvf\\TEMP\\Experiment_2\\Results_Test_GCR_0.6.csv\n",
      " \n",
      " \n",
      "Distance between rows for no shading on Dec 21 at 9 am solar time =  0.0\n",
      "Actual distance between rows =  0.6666666666666667\n",
      " \n",
      " ***** IMPORTANT --> THIS SIMULATION Has Tracking Activated\n",
      "Backtracking Option is set to:  True\n",
      "Saving Ground Irradiance Values for AgriPV Analysis. \n"
     ]
    },
    {
     "name": "stderr",
     "output_type": "stream",
     "text": [
      "100%|██████████████████████████████████████████████████████████████████████████████| 8760/8760 [01:52<00:00, 77.94it/s]"
     ]
    },
    {
     "name": "stdout",
     "output_type": "stream",
     "text": [
      "Finished\n"
     ]
    },
    {
     "name": "stderr",
     "output_type": "stream",
     "text": [
      "\n"
     ]
    }
   ],
   "source": [
    "for gc in range (0, len(GCRs)):\n",
    "        #Build scene and run raytracing for all 3 azimuths\n",
    "    GCR = GCRs[gc]\n",
    "    pitch = CW/GCR/CW\n",
    "    writefiletitle = os.path.join(testfolder, 'Results_Test_GCR_'+str(GCR)+'.csv')\n",
    "    bifacialvf.simulate(myTMY3, meta, writefiletitle=writefiletitle, \n",
    "                        tilt=tilt_def, sazm=sazm, pitch=pitch, hub_height=hub_height_def, \n",
    "                        rowType=rowType, transFactor=transFactor, sensorsy=sensorsy, \n",
    "                        PVfrontSurface=PVfrontSurface, PVbackSurface=PVbackSurface, \n",
    "                        albedo=albedo, tracking=tracking, backtrack=backtrack, \n",
    "                        limit_angle=limit_angle, deltastyle=deltastyle, agriPV=True)\n",
    "\n",
    "  "
   ]
  },
  {
   "cell_type": "code",
   "execution_count": 18,
   "id": "202475e3",
   "metadata": {},
   "outputs": [
    {
     "data": {
      "image/png": "[encoded data removed]",
      "text/plain": [
       "<Figure size 432x288 with 1 Axes>"
      ]
     },
     "metadata": {
      "needs_background": "light"
     },
     "output_type": "display_data"
    }
   ],
   "source": [
    "for gc in range (0, len(GCRs)):\n",
    "        #Build scene and run raytracing for all 3 azimuths\n",
    "    GCR = GCRs[gc]\n",
    "    pitch = CW/GCR\n",
    "    writefiletitle = os.path.join(testfolder, 'Results_Test_GCR_'+str(GCR)+'.csv')\n",
    "    #Load the results from the resultfile\n",
    "    from bifacialvf import loadVFresults\n",
    "    (data, metadata) = loadVFresults(writefiletitle)\n",
    "    #Work with data in resultfile\n",
    "    data.set_index(pd.to_datetime(data['date']), inplace=True, drop=True)\n",
    "    data.index = data.index.map(lambda t: t.replace(year=2021))   # Chagning to be the same year\n",
    "    groundIrrads = data['Ground Irradiance Values'].str.strip('[]').str.split(' ', expand=True).astype(float)\n",
    "    df = groundIrrads.groupby([pd.Grouper(freq='M')]).sum().T\n",
    "    # I'm sure there's a fancier way to do this but hey, this works.\n",
    "    df.rename(columns={ df.columns[0]: \"Jan\", df.columns[1]: \"Feb\",df.columns[2]: \"Mar\", df.columns[3]: \"Apr\",\n",
    "\n",
    "                       df.columns[4]: \"May\",df.columns[5]: \"Jun\",df.columns[6]: \"Jul\",df.columns[7]: \"Aug\",\n",
    "                       df.columns[8]: \"Sep\",df.columns[9]: \"Oct\",df.columns[10]: \"Nov\",df.columns[11]: \"Dec\"    }, inplace = True)\n",
    "    #xstep = (len(data_line_f))\n",
    "    x_axis = list(range(1,101))\n",
    "    #x_axis_rad = np.linspace(0,100,xstep)\n",
    "    plt.figure(1)\n",
    "    VF = plt.plot(x_axis, df['Jun']/1000, label=GCR)\n",
    "    #fig = (df['May']/1000).plot()\n",
    "    #Radiance = plt.plot(x_axis_rad,data_line_f['Wm2Front']/1000, label='Radiance')\n",
    "    #fig.set_xlabel('Position between start of row and next row [%]')\n",
    "    #fig.set_ylabel('Cumulative Insolation for the month [kWh/m2]')\n",
    "    module_end = (2/pitch)*100 #Percentage between rows where the module ends)\n",
    "    #plt.axvspan(0, module_end, alpha=.05, color='green')\n",
    "    plt.title('Bifacial_VF Comparison of Ground Irradiance by GCRs (June)')\n",
    "    plt.xlabel('Position between start of row and next row [%]')\n",
    "    plt.ylabel('Cumulative Insolation for the month [kWh/m2]')\n",
    "    plt.legend()"
   ]
  },
  {
   "cell_type": "markdown",
   "id": "e174f58f",
   "metadata": {},
   "source": [
    "## Compare VF and Radiance"
   ]
  },
  {
   "cell_type": "code",
   "execution_count": 16,
   "id": "84a9cdff",
   "metadata": {},
   "outputs": [
    {
     "data": {
      "text/plain": [
       "<matplotlib.legend.Legend at 0x24b86bf58b0>"
      ]
     },
     "execution_count": 16,
     "metadata": {},
     "output_type": "execute_result"
    },
    {
     "data": {
      "image/png": "[encoded data removed]",
      "text/plain": [
       "<Figure size 432x288 with 1 Axes>"
      ]
     },
     "metadata": {
      "needs_background": "light"
     },
     "output_type": "display_data"
    }
   ],
   "source": [
    "from bifacialvf import loadVFresults\n",
    "VFfile = r'C:\\Users\\jjones\\Documents\\GitHub\\bifacialvf\\bifacialvf\\TEMP\\Experiment_1\\Results_Test_Tilt_20.csv'\n",
    "(data, metadata) = loadVFresults(VFfile)\n",
    "#Work with data in resultfile\n",
    "data.set_index(pd.to_datetime(data['date']), inplace=True, drop=True)\n",
    "data.index = data.index.map(lambda t: t.replace(year=2021))   # Chagning to be the same year\n",
    "groundIrrads = data['Ground Irradiance Values'].str.strip('[]').str.split(' ', expand=True).astype(float)\n",
    "df = groundIrrads.groupby([pd.Grouper(freq='M')]).sum().T\n",
    "# I'm sure there's a fancier way to do this but hey, this works.\n",
    "df.rename(columns={ df.columns[0]: \"Jan\", df.columns[1]: \"Feb\",df.columns[2]: \"Mar\", df.columns[3]: \"Apr\",\n",
    "\n",
    "                   df.columns[4]: \"May\",df.columns[5]: \"Jun\",df.columns[6]: \"Jul\",df.columns[7]: \"Aug\",\n",
    "                   df.columns[8]: \"Sep\",df.columns[9]: \"Oct\",df.columns[10]: \"Nov\",df.columns[11]: \"Dec\"    }, inplace = True)\n",
    "#xstep = (len(data_line_f))\n",
    "x_axis = list(range(1,101))\n",
    "#x_axis_rad = np.linspace(0,100,xstep)\n",
    "\n",
    "#fig = (df['May']/1000).plot()\n",
    "#Radiance = plt.plot(x_axis_rad,data_line_f['Wm2Front']/1000, label='Radiance')\n",
    "Radiance_File = r'C:\\Users\\jjones\\Documents\\GitHub\\bifacial_radiance\\bifacial_radiance\\TEMP\\Experiment_1\\results\\irr_Rad_Experiment1_tilt_20_Ground_Analysis_Front.csv'\n",
    "(dataR, metadata) = loadVFresults(Radiance_File)\n",
    "data_lineR = dataR#.iloc[13220:13285] #Account for the three lines ignored in the loadVFresults command. Don't need them since \n",
    "data_line_fR = data_lineR[::-1].reset_index(drop = True)\n",
    "data_line_fR.rename(columns={ data_line_fR.columns[0]: \"x\", data_line_fR.columns[1]: \"y\",data_line_fR.columns[2]: \"z\", data_line_fR.columns[3]: \"mattype\",data_line_fR.columns[4]: \"Wm2Front\",}, inplace = True)\n",
    "#Radirr = Radmin/ghitot\n",
    "#VFirr = VFmin/ghitot\n",
    "#Rad_irr_factor.append(Radirr)\n",
    "#VF_irr_factor.append(VFirr)\n",
    "#fig.set_xlabel('Position between start of row and next row [%]')\n",
    "#fig.set_ylabel('Cumulative Insolation for the month [kWh/m2]')\n",
    "yshift = data_line_fR['y'] + 1\n",
    "ystep = (yshift/6.06)*100\n",
    "plt.figure(1)\n",
    "Rad = plt.plot(ystep, data_line_fR['Wm2Front']/1000, label='Rad (122)')\n",
    "VF = plt.plot(x_axis, df['Jun']/1000, label='VF (100)')\n",
    "module_end = (2/module_place)*100 #Percentage between rows where the module ends)\n",
    "plt.axvspan(0, module_end, alpha=.05, color='green')\n",
    "plt.title('Bifacial_VF and Radiance Comparison (June)')\n",
    "plt.xlabel('Position between start of row and next row [%]')\n",
    "plt.ylabel('Cumulative Insolation for the month [kWh/m2]')\n",
    "plt.legend()"
   ]
  },
  {
   "cell_type": "markdown",
   "id": "c4d2dff1",
   "metadata": {},
   "source": [
    "## Changing Transmission Factor"
   ]
  },
  {
   "cell_type": "code",
   "execution_count": 10,
   "id": "0f222f23",
   "metadata": {},
   "outputs": [
    {
     "name": "stdout",
     "output_type": "stream",
     "text": [
      "2 2 0.0\n",
      "Warning: clearance_height passed and is being used as  hub_height for the tracking routine\n",
      "Albedo value passed, but also present in TMY3 file.  Using albedo value passed. To use the ones in TMY3 file re-run simulation with albedo=None\n",
      "\n",
      " \n",
      "********* \n",
      "Running Simulation for TMY3: \n",
      "Location:   Davis Monthan Afb\n",
      "Lat:  32.17  Long:  -110.88  Tz  -7.0\n",
      "Parameters: tilt:  0   Sazm:  180     Hub_Height :  1.0   Pitch:  3.0303030303030303   Row type:  interior   Albedo:  0.31\n",
      "Saving into C:\\Users\\jjones\\Documents\\GitHub\\bifacialvf\\bifacialvf\\TEMP\\Experiment_2\\Results_Test_TFactor_0.0.csv\n",
      " \n",
      " \n",
      "Distance between rows for no shading on Dec 21 at 9 am solar time =  0.0\n",
      "Actual distance between rows =  2.0303030303030303\n",
      " \n",
      " ***** IMPORTANT --> THIS SIMULATION Has Tracking Activated\n",
      "Backtracking Option is set to:  True\n",
      "Saving Ground Irradiance Values for AgriPV Analysis. \n"
     ]
    },
    {
     "name": "stderr",
     "output_type": "stream",
     "text": [
      "100%|██████████████████████████████████████████████████████████████████████████████| 8760/8760 [01:47<00:00, 81.63it/s]\n"
     ]
    },
    {
     "name": "stdout",
     "output_type": "stream",
     "text": [
      "Finished\n",
      "2.1 2 0.04761904761904767\n",
      "Warning: clearance_height passed and is being used as  hub_height for the tracking routine\n",
      "Albedo value passed, but also present in TMY3 file.  Using albedo value passed. To use the ones in TMY3 file re-run simulation with albedo=None\n",
      "\n",
      " \n",
      "********* \n",
      "Running Simulation for TMY3: \n",
      "Location:   Davis Monthan Afb\n",
      "Lat:  32.17  Long:  -110.88  Tz  -7.0\n",
      "Parameters: tilt:  0   Sazm:  180     Hub_Height :  1.0   Pitch:  3.03030303030303   Row type:  interior   Albedo:  0.31\n",
      "Saving into C:\\Users\\jjones\\Documents\\GitHub\\bifacialvf\\bifacialvf\\TEMP\\Experiment_2\\Results_Test_TFactor_0.04761904761904767.csv\n",
      " \n",
      " \n",
      "Distance between rows for no shading on Dec 21 at 9 am solar time =  0.0\n",
      "Actual distance between rows =  2.03030303030303\n",
      " \n",
      " ***** IMPORTANT --> THIS SIMULATION Has Tracking Activated\n",
      "Backtracking Option is set to:  True\n",
      "Saving Ground Irradiance Values for AgriPV Analysis. \n"
     ]
    },
    {
     "name": "stderr",
     "output_type": "stream",
     "text": [
      "100%|██████████████████████████████████████████████████████████████████████████████| 8760/8760 [01:53<00:00, 77.40it/s]\n"
     ]
    },
    {
     "name": "stdout",
     "output_type": "stream",
     "text": [
      "Finished\n",
      "2.2 2 0.09090909090909094\n",
      "Warning: clearance_height passed and is being used as  hub_height for the tracking routine\n",
      "Albedo value passed, but also present in TMY3 file.  Using albedo value passed. To use the ones in TMY3 file re-run simulation with albedo=None\n",
      "\n",
      " \n",
      "********* \n",
      "Running Simulation for TMY3: \n",
      "Location:   Davis Monthan Afb\n",
      "Lat:  32.17  Long:  -110.88  Tz  -7.0\n",
      "Parameters: tilt:  0   Sazm:  180     Hub_Height :  1.0   Pitch:  3.0303030303030303   Row type:  interior   Albedo:  0.31\n",
      "Saving into C:\\Users\\jjones\\Documents\\GitHub\\bifacialvf\\bifacialvf\\TEMP\\Experiment_2\\Results_Test_TFactor_0.09090909090909094.csv\n",
      " \n",
      " \n",
      "Distance between rows for no shading on Dec 21 at 9 am solar time =  0.0\n",
      "Actual distance between rows =  2.0303030303030303\n",
      " \n",
      " ***** IMPORTANT --> THIS SIMULATION Has Tracking Activated\n",
      "Backtracking Option is set to:  True\n",
      "Saving Ground Irradiance Values for AgriPV Analysis. \n"
     ]
    },
    {
     "name": "stderr",
     "output_type": "stream",
     "text": [
      "100%|██████████████████████████████████████████████████████████████████████████████| 8760/8760 [01:48<00:00, 80.89it/s]\n"
     ]
    },
    {
     "name": "stdout",
     "output_type": "stream",
     "text": [
      "Finished\n",
      "2.3 2 0.13043478260869557\n",
      "Warning: clearance_height passed and is being used as  hub_height for the tracking routine\n",
      "Albedo value passed, but also present in TMY3 file.  Using albedo value passed. To use the ones in TMY3 file re-run simulation with albedo=None\n",
      "\n",
      " \n",
      "********* \n",
      "Running Simulation for TMY3: \n",
      "Location:   Davis Monthan Afb\n",
      "Lat:  32.17  Long:  -110.88  Tz  -7.0\n",
      "Parameters: tilt:  0   Sazm:  180     Hub_Height :  1.0   Pitch:  3.0303030303030303   Row type:  interior   Albedo:  0.31\n",
      "Saving into C:\\Users\\jjones\\Documents\\GitHub\\bifacialvf\\bifacialvf\\TEMP\\Experiment_2\\Results_Test_TFactor_0.13043478260869557.csv\n",
      " \n",
      " \n",
      "Distance between rows for no shading on Dec 21 at 9 am solar time =  0.0\n",
      "Actual distance between rows =  2.0303030303030303\n",
      " \n",
      " ***** IMPORTANT --> THIS SIMULATION Has Tracking Activated\n",
      "Backtracking Option is set to:  True\n",
      "Saving Ground Irradiance Values for AgriPV Analysis. \n"
     ]
    },
    {
     "name": "stderr",
     "output_type": "stream",
     "text": [
      "100%|██████████████████████████████████████████████████████████████████████████████| 8760/8760 [01:46<00:00, 82.29it/s]\n"
     ]
    },
    {
     "name": "stdout",
     "output_type": "stream",
     "text": [
      "Finished\n",
      "2.5 2 0.19999999999999996\n",
      "Warning: clearance_height passed and is being used as  hub_height for the tracking routine\n",
      "Albedo value passed, but also present in TMY3 file.  Using albedo value passed. To use the ones in TMY3 file re-run simulation with albedo=None\n",
      "\n",
      " \n",
      "********* \n",
      "Running Simulation for TMY3: \n",
      "Location:   Davis Monthan Afb\n",
      "Lat:  32.17  Long:  -110.88  Tz  -7.0\n",
      "Parameters: tilt:  0   Sazm:  180     Hub_Height :  1.0   Pitch:  3.0303030303030303   Row type:  interior   Albedo:  0.31\n",
      "Saving into C:\\Users\\jjones\\Documents\\GitHub\\bifacialvf\\bifacialvf\\TEMP\\Experiment_2\\Results_Test_TFactor_0.19999999999999996.csv\n",
      " \n",
      " \n",
      "Distance between rows for no shading on Dec 21 at 9 am solar time =  0.0\n",
      "Actual distance between rows =  2.0303030303030303\n",
      " \n",
      " ***** IMPORTANT --> THIS SIMULATION Has Tracking Activated\n",
      "Backtracking Option is set to:  True\n",
      "Saving Ground Irradiance Values for AgriPV Analysis. \n"
     ]
    },
    {
     "name": "stderr",
     "output_type": "stream",
     "text": [
      "100%|██████████████████████████████████████████████████████████████████████████████| 8760/8760 [01:51<00:00, 78.55it/s]\n"
     ]
    },
    {
     "name": "stdout",
     "output_type": "stream",
     "text": [
      "Finished\n",
      "3 2 0.33333333333333337\n",
      "Warning: clearance_height passed and is being used as  hub_height for the tracking routine\n",
      "Albedo value passed, but also present in TMY3 file.  Using albedo value passed. To use the ones in TMY3 file re-run simulation with albedo=None\n",
      "\n",
      " \n",
      "********* \n",
      "Running Simulation for TMY3: \n",
      "Location:   Davis Monthan Afb\n",
      "Lat:  32.17  Long:  -110.88  Tz  -7.0\n",
      "Parameters: tilt:  0   Sazm:  180     Hub_Height :  1.0   Pitch:  3.03030303030303   Row type:  interior   Albedo:  0.31\n",
      "Saving into C:\\Users\\jjones\\Documents\\GitHub\\bifacialvf\\bifacialvf\\TEMP\\Experiment_2\\Results_Test_TFactor_0.33333333333333337.csv\n",
      " \n",
      " \n",
      "Distance between rows for no shading on Dec 21 at 9 am solar time =  0.0\n",
      "Actual distance between rows =  2.03030303030303\n",
      " \n",
      " ***** IMPORTANT --> THIS SIMULATION Has Tracking Activated\n",
      "Backtracking Option is set to:  True\n",
      "Saving Ground Irradiance Values for AgriPV Analysis. \n"
     ]
    },
    {
     "name": "stderr",
     "output_type": "stream",
     "text": [
      "100%|██████████████████████████████████████████████████████████████████████████████| 8760/8760 [04:13<00:00, 34.61it/s]"
     ]
    },
    {
     "name": "stdout",
     "output_type": "stream",
     "text": [
      "Finished\n"
     ]
    },
    {
     "name": "stderr",
     "output_type": "stream",
     "text": [
      "\n"
     ]
    }
   ],
   "source": [
    "xl = 2\n",
    "yl = 1 \n",
    "ygaps = [0,.1,.2,.3,.5,1]\n",
    "numpanels_l = 2\n",
    "\n",
    "\n",
    "for yg in range (0, len(ygaps)):\n",
    "        #Build scene and run raytracing for all 3 azimuths\n",
    "    ygap = ygaps[yg]\n",
    "    CW = yl * numpanels_l +(ygap * (numpanels_l-1)) #Collector Width\n",
    "    AA = yl*numpanels_l #Area of module that light hits\n",
    "    transFactor = 1 - (AA/CW) # TransmissionFactor(open area fraction)\n",
    "    pitch = CW/GCR_def/CW\n",
    "    print(CW,AA,transFactor)\n",
    "    writefiletitle = os.path.join(testfolder, 'Results_Test_TFactor_'+str(transFactor)+'.csv')\n",
    "    bifacialvf.simulate(myTMY3, meta, writefiletitle=writefiletitle, \n",
    "                        tilt=tilt_def, sazm=sazm, pitch=pitch, clearance_height=clearance_height_def, \n",
    "                        rowType=rowType, transFactor=transFactor, sensorsy=sensorsy, \n",
    "                        PVfrontSurface=PVfrontSurface, PVbackSurface=PVbackSurface, \n",
    "                        albedo=albedo, tracking=tracking, backtrack=backtrack, \n",
    "                        limit_angle=limit_angle, deltastyle=deltastyle, agriPV=True)\n",
    "\n"
   ]
  },
  {
   "cell_type": "code",
   "execution_count": 11,
   "id": "ef43dd05",
   "metadata": {},
   "outputs": [
    {
     "name": "stdout",
     "output_type": "stream",
     "text": [
      "2 2 0.0\n",
      "2.1 2 0.04761904761904767\n",
      "2.2 2 0.09090909090909094\n",
      "2.3 2 0.13043478260869557\n",
      "2.5 2 0.19999999999999996\n",
      "3 2 0.33333333333333337\n"
     ]
    },
    {
     "data": {
      "image/png": "[encoded data removed]",
      "text/plain": [
       "<Figure size 432x288 with 1 Axes>"
      ]
     },
     "metadata": {
      "needs_background": "light"
     },
     "output_type": "display_data"
    }
   ],
   "source": [
    "xl = 2\n",
    "yl = 1 \n",
    "ygaps = [0,.1,.2,.3,.5,1]\n",
    "numpanels_l = 2\n",
    "\n",
    "\n",
    "for yg in range (0, len(ygaps)):\n",
    "        #Build scene and run raytracing for all 3 azimuths\n",
    "    ygap = ygaps[yg]\n",
    "    CW = yl * numpanels_l +(ygap * (numpanels_l-1)) #Collector Width\n",
    "    AA = yl*numpanels_l #Area of module that light hits\n",
    "    transFactor = 1 - (AA/CW) # TransmissionFactor(open area fraction)\n",
    "    pitch = CW/GCR_def/CW\n",
    "    print(CW,AA,transFactor)\n",
    "    writefiletitle = os.path.join(testfolder, 'Results_Test_TFactor_'+str(transFactor)+'.csv')\n",
    "\n",
    "    #Load the results from the resultfile\n",
    "    from bifacialvf import loadVFresults\n",
    "    (data, metadata) = loadVFresults(writefiletitle)\n",
    "    #Work with data in resultfile\n",
    "    data.set_index(pd.to_datetime(data['date']), inplace=True, drop=True)\n",
    "    data.index = data.index.map(lambda t: t.replace(year=2021))   # Chagning to be the same year\n",
    "    groundIrrads = data['Ground Irradiance Values'].str.strip('[]').str.split(' ', expand=True).astype(float)\n",
    "    df = groundIrrads.groupby([pd.Grouper(freq='M')]).sum().T\n",
    "    # I'm sure there's a fancier way to do this but hey, this works.\n",
    "    df.rename(columns={ df.columns[0]: \"Jan\", df.columns[1]: \"Feb\",df.columns[2]: \"Mar\", df.columns[3]: \"Apr\",\n",
    "\n",
    "                       df.columns[4]: \"May\",df.columns[5]: \"Jun\",df.columns[6]: \"Jul\",df.columns[7]: \"Aug\",\n",
    "                       df.columns[8]: \"Sep\",df.columns[9]: \"Oct\",df.columns[10]: \"Nov\",df.columns[11]: \"Dec\"    }, inplace = True)\n",
    "    #xstep = (len(data_line_f))\n",
    "    x_axis = list(range(1,101))\n",
    "    #x_axis_rad = np.linspace(0,100,xstep)\n",
    "    plt.figure(1)\n",
    "    VF = plt.plot(x_axis, df['Jun']/1000, label=transFactor)\n",
    "    #fig = (df['May']/1000).plot()\n",
    "    #Radiance = plt.plot(x_axis_rad,data_line_f['Wm2Front']/1000, label='Radiance')\n",
    "    #fig.set_xlabel('Position between start of row and next row [%]')\n",
    "    #fig.set_ylabel('Cumulative Insolation for the month [kWh/m2]')\n",
    "    plt.title('Bifacial_VF Transmission Factor Comparison(June)')\n",
    "    plt.xlabel('Position between start of row and next row [%]')\n",
    "    plt.ylabel('Cumulative Insolation for the month [kWh/m2]')\n",
    "    plt.legend()"
   ]
  },
  {
   "cell_type": "code",
   "execution_count": 2,
   "id": "c302b335",
   "metadata": {},
   "outputs": [
    {
     "ename": "URLError",
     "evalue": "<urlopen error unknown url type: c>",
     "output_type": "error",
     "traceback": [
      "\u001b[1;31m---------------------------------------------------------------------------\u001b[0m",
      "\u001b[1;31mFileNotFoundError\u001b[0m                         Traceback (most recent call last)",
      "File \u001b[1;32mc:\\users\\jjones\\documents\\github\\bifacialvf\\bifacialvf\\loadVFresults.py:59\u001b[0m, in \u001b[0;36mloadVFresults\u001b[1;34m(filename)\u001b[0m\n\u001b[0;32m     58\u001b[0m \u001b[38;5;28;01mtry\u001b[39;00m:\n\u001b[1;32m---> 59\u001b[0m     csvdata \u001b[38;5;241m=\u001b[39m \u001b[38;5;28;43mopen\u001b[39;49m\u001b[43m(\u001b[49m\u001b[43mfilename\u001b[49m\u001b[43m,\u001b[49m\u001b[43m \u001b[49m\u001b[38;5;124;43m'\u001b[39;49m\u001b[38;5;124;43mr\u001b[39;49m\u001b[38;5;124;43m'\u001b[39;49m\u001b[43m)\u001b[49m\n\u001b[0;32m     60\u001b[0m \u001b[38;5;28;01mexcept\u001b[39;00m \u001b[38;5;167;01mIOError\u001b[39;00m:\n",
      "\u001b[1;31mFileNotFoundError\u001b[0m: [Errno 2] No such file or directory: 'C:\\\\Users\\\\jjones\\\\Documents\\\\GitHub\\\\bifacialvf\\\\bifacialvf\\\\TEMP\\\\Experiment_2\\\\Results_Test_Tilt_180.csv'",
      "\nDuring handling of the above exception, another exception occurred:\n",
      "\u001b[1;31mURLError\u001b[0m                                  Traceback (most recent call last)",
      "Input \u001b[1;32mIn [2]\u001b[0m, in \u001b[0;36m<cell line: 3>\u001b[1;34m()\u001b[0m\n\u001b[0;32m      1\u001b[0m \u001b[38;5;28;01mfrom\u001b[39;00m \u001b[38;5;21;01mbifacialvf\u001b[39;00m \u001b[38;5;28;01mimport\u001b[39;00m loadVFresults\n\u001b[0;32m      2\u001b[0m writefile180 \u001b[38;5;241m=\u001b[39m os\u001b[38;5;241m.\u001b[39mpath\u001b[38;5;241m.\u001b[39mjoin(testfolder,\u001b[38;5;124m'\u001b[39m\u001b[38;5;124mResults_Test_Tilt_180.csv\u001b[39m\u001b[38;5;124m'\u001b[39m)\n\u001b[1;32m----> 3\u001b[0m (data, metadata) \u001b[38;5;241m=\u001b[39m \u001b[43mloadVFresults\u001b[49m\u001b[43m(\u001b[49m\u001b[43mwritefile180\u001b[49m\u001b[43m)\u001b[49m\n",
      "File \u001b[1;32mc:\\users\\jjones\\documents\\github\\bifacialvf\\bifacialvf\\loadVFresults.py:61\u001b[0m, in \u001b[0;36mloadVFresults\u001b[1;34m(filename)\u001b[0m\n\u001b[0;32m     59\u001b[0m     csvdata \u001b[38;5;241m=\u001b[39m \u001b[38;5;28mopen\u001b[39m(filename, \u001b[38;5;124m'\u001b[39m\u001b[38;5;124mr\u001b[39m\u001b[38;5;124m'\u001b[39m)\n\u001b[0;32m     60\u001b[0m \u001b[38;5;28;01mexcept\u001b[39;00m \u001b[38;5;167;01mIOError\u001b[39;00m:\n\u001b[1;32m---> 61\u001b[0m     response \u001b[38;5;241m=\u001b[39m \u001b[43murlopen\u001b[49m\u001b[43m(\u001b[49m\u001b[43mfilename\u001b[49m\u001b[43m)\u001b[49m\n\u001b[0;32m     62\u001b[0m     csvdata \u001b[38;5;241m=\u001b[39m io\u001b[38;5;241m.\u001b[39mStringIO(response\u001b[38;5;241m.\u001b[39mread()\u001b[38;5;241m.\u001b[39mdecode(errors\u001b[38;5;241m=\u001b[39m\u001b[38;5;124m'\u001b[39m\u001b[38;5;124mignore\u001b[39m\u001b[38;5;124m'\u001b[39m))\n\u001b[0;32m     64\u001b[0m \u001b[38;5;66;03m# read in file metadata\u001b[39;00m\n",
      "File \u001b[1;32mC:\\ProgramData\\Anaconda3\\lib\\urllib\\request.py:214\u001b[0m, in \u001b[0;36murlopen\u001b[1;34m(url, data, timeout, cafile, capath, cadefault, context)\u001b[0m\n\u001b[0;32m    212\u001b[0m \u001b[38;5;28;01melse\u001b[39;00m:\n\u001b[0;32m    213\u001b[0m     opener \u001b[38;5;241m=\u001b[39m _opener\n\u001b[1;32m--> 214\u001b[0m \u001b[38;5;28;01mreturn\u001b[39;00m \u001b[43mopener\u001b[49m\u001b[38;5;241;43m.\u001b[39;49m\u001b[43mopen\u001b[49m\u001b[43m(\u001b[49m\u001b[43murl\u001b[49m\u001b[43m,\u001b[49m\u001b[43m \u001b[49m\u001b[43mdata\u001b[49m\u001b[43m,\u001b[49m\u001b[43m \u001b[49m\u001b[43mtimeout\u001b[49m\u001b[43m)\u001b[49m\n",
      "File \u001b[1;32mC:\\ProgramData\\Anaconda3\\lib\\urllib\\request.py:517\u001b[0m, in \u001b[0;36mOpenerDirector.open\u001b[1;34m(self, fullurl, data, timeout)\u001b[0m\n\u001b[0;32m    514\u001b[0m     req \u001b[38;5;241m=\u001b[39m meth(req)\n\u001b[0;32m    516\u001b[0m sys\u001b[38;5;241m.\u001b[39maudit(\u001b[38;5;124m'\u001b[39m\u001b[38;5;124murllib.Request\u001b[39m\u001b[38;5;124m'\u001b[39m, req\u001b[38;5;241m.\u001b[39mfull_url, req\u001b[38;5;241m.\u001b[39mdata, req\u001b[38;5;241m.\u001b[39mheaders, req\u001b[38;5;241m.\u001b[39mget_method())\n\u001b[1;32m--> 517\u001b[0m response \u001b[38;5;241m=\u001b[39m \u001b[38;5;28;43mself\u001b[39;49m\u001b[38;5;241;43m.\u001b[39;49m\u001b[43m_open\u001b[49m\u001b[43m(\u001b[49m\u001b[43mreq\u001b[49m\u001b[43m,\u001b[49m\u001b[43m \u001b[49m\u001b[43mdata\u001b[49m\u001b[43m)\u001b[49m\n\u001b[0;32m    519\u001b[0m \u001b[38;5;66;03m# post-process response\u001b[39;00m\n\u001b[0;32m    520\u001b[0m meth_name \u001b[38;5;241m=\u001b[39m protocol\u001b[38;5;241m+\u001b[39m\u001b[38;5;124m\"\u001b[39m\u001b[38;5;124m_response\u001b[39m\u001b[38;5;124m\"\u001b[39m\n",
      "File \u001b[1;32mC:\\ProgramData\\Anaconda3\\lib\\urllib\\request.py:539\u001b[0m, in \u001b[0;36mOpenerDirector._open\u001b[1;34m(self, req, data)\u001b[0m\n\u001b[0;32m    536\u001b[0m \u001b[38;5;28;01mif\u001b[39;00m result:\n\u001b[0;32m    537\u001b[0m     \u001b[38;5;28;01mreturn\u001b[39;00m result\n\u001b[1;32m--> 539\u001b[0m \u001b[38;5;28;01mreturn\u001b[39;00m \u001b[38;5;28;43mself\u001b[39;49m\u001b[38;5;241;43m.\u001b[39;49m\u001b[43m_call_chain\u001b[49m\u001b[43m(\u001b[49m\u001b[38;5;28;43mself\u001b[39;49m\u001b[38;5;241;43m.\u001b[39;49m\u001b[43mhandle_open\u001b[49m\u001b[43m,\u001b[49m\u001b[43m \u001b[49m\u001b[38;5;124;43m'\u001b[39;49m\u001b[38;5;124;43munknown\u001b[39;49m\u001b[38;5;124;43m'\u001b[39;49m\u001b[43m,\u001b[49m\n\u001b[0;32m    540\u001b[0m \u001b[43m                        \u001b[49m\u001b[38;5;124;43m'\u001b[39;49m\u001b[38;5;124;43munknown_open\u001b[39;49m\u001b[38;5;124;43m'\u001b[39;49m\u001b[43m,\u001b[49m\u001b[43m \u001b[49m\u001b[43mreq\u001b[49m\u001b[43m)\u001b[49m\n",
      "File \u001b[1;32mC:\\ProgramData\\Anaconda3\\lib\\urllib\\request.py:494\u001b[0m, in \u001b[0;36mOpenerDirector._call_chain\u001b[1;34m(self, chain, kind, meth_name, *args)\u001b[0m\n\u001b[0;32m    492\u001b[0m \u001b[38;5;28;01mfor\u001b[39;00m handler \u001b[38;5;129;01min\u001b[39;00m handlers:\n\u001b[0;32m    493\u001b[0m     func \u001b[38;5;241m=\u001b[39m \u001b[38;5;28mgetattr\u001b[39m(handler, meth_name)\n\u001b[1;32m--> 494\u001b[0m     result \u001b[38;5;241m=\u001b[39m \u001b[43mfunc\u001b[49m\u001b[43m(\u001b[49m\u001b[38;5;241;43m*\u001b[39;49m\u001b[43margs\u001b[49m\u001b[43m)\u001b[49m\n\u001b[0;32m    495\u001b[0m     \u001b[38;5;28;01mif\u001b[39;00m result \u001b[38;5;129;01mis\u001b[39;00m \u001b[38;5;129;01mnot\u001b[39;00m \u001b[38;5;28;01mNone\u001b[39;00m:\n\u001b[0;32m    496\u001b[0m         \u001b[38;5;28;01mreturn\u001b[39;00m result\n",
      "File \u001b[1;32mC:\\ProgramData\\Anaconda3\\lib\\urllib\\request.py:1417\u001b[0m, in \u001b[0;36mUnknownHandler.unknown_open\u001b[1;34m(self, req)\u001b[0m\n\u001b[0;32m   1415\u001b[0m \u001b[38;5;28;01mdef\u001b[39;00m \u001b[38;5;21munknown_open\u001b[39m(\u001b[38;5;28mself\u001b[39m, req):\n\u001b[0;32m   1416\u001b[0m     \u001b[38;5;28mtype\u001b[39m \u001b[38;5;241m=\u001b[39m req\u001b[38;5;241m.\u001b[39mtype\n\u001b[1;32m-> 1417\u001b[0m     \u001b[38;5;28;01mraise\u001b[39;00m URLError(\u001b[38;5;124m'\u001b[39m\u001b[38;5;124munknown url type: \u001b[39m\u001b[38;5;132;01m%s\u001b[39;00m\u001b[38;5;124m'\u001b[39m \u001b[38;5;241m%\u001b[39m \u001b[38;5;28mtype\u001b[39m)\n",
      "\u001b[1;31mURLError\u001b[0m: <urlopen error unknown url type: c>"
     ]
    }
   ],
   "source": [
    "from bifacialvf import loadVFresults\n",
    "writefile180 = os.path.join(testfolder,'Results_Test_Tilt_180.csv')\n",
    "(data, metadata) = loadVFresults(writefile180)"
   ]
  },
  {
   "cell_type": "markdown",
   "id": "627ef051",
   "metadata": {},
   "source": [
    "# 5. Analyze the results from the resultfile\n"
   ]
  },
  {
   "cell_type": "code",
   "execution_count": null,
   "id": "2c09663e",
   "metadata": {},
   "outputs": [],
   "source": [
    "data.set_index(pd.to_datetime(data['date']), inplace=True, drop=True)\n",
    "data.index = data.index.map(lambda t: t.replace(year=2021))   # Chagning to be the same year\n",
    "groundIrrads = data['Ground Irradiance Values'].str.strip('[]').str.split(' ', expand=True).astype(float)"
   ]
  },
  {
   "cell_type": "code",
   "execution_count": null,
   "id": "080a5bd9",
   "metadata": {},
   "outputs": [],
   "source": [
    "df = groundIrrads.groupby([pd.Grouper(freq='M')]).sum().T\n",
    "# I'm sure there's a fancier way to do this but hey, this works.\n",
    "df.rename(columns={ df.columns[0]: \"Jan\", df.columns[1]: \"Feb\",df.columns[2]: \"Mar\", df.columns[3]: \"Apr\",\n",
    "\n",
    "                   df.columns[4]: \"May\",df.columns[5]: \"Jun\",df.columns[6]: \"Jul\",df.columns[7]: \"Aug\",\n",
    "                   df.columns[8]: \"Sep\",df.columns[9]: \"Oct\",df.columns[10]: \"Nov\",df.columns[11]: \"Dec\"    }, inplace = True)"
   ]
  },
  {
   "cell_type": "code",
   "execution_count": 42,
   "id": "81e6da81",
   "metadata": {
    "scrolled": true
   },
   "outputs": [
    {
     "name": "stdout",
     "output_type": "stream",
     "text": [
      "date            Jan           Feb            Mar            Apr  \\\n",
      "0     106804.350327  91094.913686  134161.226536  203721.855676   \n",
      "1     106384.397730  90289.637640  133013.600099  199378.339094   \n",
      "2     106052.451169  89520.013077  131917.123084  193469.847469   \n",
      "3     105793.662375  88835.811066  130768.414234  178061.550709   \n",
      "4     105585.170961  88183.695581  129566.185315  139554.867764   \n",
      "..              ...           ...            ...            ...   \n",
      "95    108527.989866  94975.236945  139769.179154  212826.472826   \n",
      "96    108175.300811  94265.543506  138745.227880  212162.635670   \n",
      "97    107919.815657  93505.528382  137652.809707  210769.341429   \n",
      "98    107516.879801  92736.413970  136516.208756  208577.025222   \n",
      "99    107118.152102  91917.065134  135338.199697  206245.989286   \n",
      "\n",
      "date            May            Jun            Jul            Aug  \\\n",
      "0     204934.082339  184441.442684  169392.380183  172832.337806   \n",
      "1     186802.449273  151353.467270  148570.116819  167173.472868   \n",
      "2     137373.884878   92467.971073   96644.374046  156795.904516   \n",
      "3      94021.881501   91770.588721   78000.723675  126123.604978   \n",
      "4      88356.942052   91149.074171   77150.165577   88744.611320   \n",
      "..              ...            ...            ...            ...   \n",
      "95    233314.553791  231869.774187  194354.829923  186019.489677   \n",
      "96    229869.314905  231180.197804  192944.733102  183977.998007   \n",
      "97    227332.676219  230441.726162  191953.440863  181278.152340   \n",
      "98    223023.386459  213916.372790  186885.238197  179087.027887   \n",
      "99    215151.051087  209212.878729  178172.111259  176962.690122   \n",
      "\n",
      "date            Sep            Oct            Nov           Dec  \n",
      "0     138708.501019  136206.804023   99679.377051  91510.598869  \n",
      "1     137193.889539  135514.577132   99155.921718  90950.609223  \n",
      "2     135549.262147  134852.996770   98535.904995  90645.585417  \n",
      "3     133939.544933  134243.320926   98123.070497  90241.592528  \n",
      "4     130998.413015  133682.753061   97666.856580  89900.171745  \n",
      "..              ...            ...            ...           ...  \n",
      "95    144415.935803  139422.875182  102349.752243  94013.051458  \n",
      "96    143369.460742  138812.812478  101992.602502  93517.685245  \n",
      "97    142258.483455  138229.872871  101601.517147  92987.194482  \n",
      "98    141122.851723  137544.082966  100958.811840  92430.338366  \n",
      "99    139927.646084  136913.537252  100341.709922  91984.281778  \n",
      "\n",
      "[100 rows x 12 columns]\n"
     ]
    }
   ],
   "source": [
    "print(df)"
   ]
  },
  {
   "cell_type": "code",
   "execution_count": null,
   "id": "485f1aee",
   "metadata": {},
   "outputs": [],
   "source": [
    "print(df.Jun.min())"
   ]
  },
  {
   "cell_type": "markdown",
   "id": "73ecb5b0",
   "metadata": {},
   "source": [
    "## Bring in Corresponing data from Bifacial Radiance"
   ]
  },
  {
   "cell_type": "code",
   "execution_count": null,
   "id": "babddb56",
   "metadata": {},
   "outputs": [],
   "source": [
    "from bifacialvf import loadVFresults\n",
    "Radiance_File = r'C:\\Users\\jjones\\Documents\\GitHub\\bifacial_radiance\\bifacial_radiance\\TEMP\\Nespelem_test2\\results\\irr_nespelem_May_az_180_Ground_Analysis_Front.csv'\n",
    "(data2, metadata) = loadVFresults(Radiance_File)"
   ]
  },
  {
   "cell_type": "code",
   "execution_count": null,
   "id": "a41a6433",
   "metadata": {},
   "outputs": [],
   "source": [
    "#Based on calculations, the points in the bifacial radiance file that correspond with the points in the bifacialvf\n",
    "# file are (0,-1.825) to (0,4.625). This is rows 13222 through 13287 (65 points) in the excel file. Will isolate these rows\n",
    "#data2.rename(columns={ data2.columns[0]: \"x\", data2.columns[1]: \"y\",data2.columns[2]: \"z\", data2.columns[3]: \"mattype\",\n",
    "                   #data2.columns[4]: \"Wm2Front\",}, inplace = True)\n",
    "#print(data2)\n",
    "data_line = data2.iloc[13220:13285] #Account for the three lines ignored in the loadVFresults command. Don't need them since \n",
    "#data_line_f=np.flipud(data_line)\n",
    "data_line_f = data_line[::-1].reset_index(drop = True) \n",
    "data_line_f.rename(columns={ data_line_f.columns[0]: \"x\", data_line_f.columns[1]: \"y\",data_line_f.columns[2]: \"z\", data_line_f.columns[3]: \"mattype\",data_line_f.columns[4]: \"Wm2Front\",}, inplace = True)\n",
    "#we're focused on later points.\n",
    "print(data_line_f)\n",
    "#print(data_line_f['Wm2Front'].min())"
   ]
  },
  {
   "cell_type": "code",
   "execution_count": null,
   "id": "069dc16e",
   "metadata": {},
   "outputs": [],
   "source": [
    "xstep = (len(data_line_f))\n",
    "x_axis = list(range(1,101))\n",
    "x_axis_rad = np.linspace(0,100,xstep)\n",
    "#print(x_axis_rad)\n",
    "#print(x_axis)"
   ]
  },
  {
   "cell_type": "code",
   "execution_count": null,
   "id": "bd06564f",
   "metadata": {},
   "outputs": [],
   "source": [
    "plt.figure(1)\n",
    "VF = plt.plot(x_axis, df['May']/1000, label='VF')\n",
    "#fig = (df['May']/1000).plot()\n",
    "Radiance = plt.plot(x_axis_rad,data_line_f['Wm2Front']/1000, label='Radiance')\n",
    "#fig.set_xlabel('Position between start of row and next row [%]')\n",
    "#fig.set_ylabel('Cumulative Insolation for the month [kWh/m2]')\n",
    "plt.title('Comparison of Ground Irradiance Values for May az=180')\n",
    "plt.xlabel('Position between start of row and next row [%]')\n",
    "plt.ylabel('Cumulative Insolation for the month [kWh/m2]')\n",
    "plt.legend(handles=[VF[0], Radiance[0]])\n",
    "#Q In bifacial Radiacne is (0,0) the middle of the module or the bottom edge"
   ]
  },
  {
   "cell_type": "markdown",
   "id": "70a04679",
   "metadata": {},
   "source": [
    "## Bar Plots of Irradiance Factors for each month"
   ]
  },
  {
   "cell_type": "code",
   "execution_count": 43,
   "id": "80081b2a",
   "metadata": {},
   "outputs": [],
   "source": [
    "#data.set_index(pd.to_datetime(data['date']), inplace=True, drop=True)\n",
    "#data.index = data.index.map(lambda t: t.replace(year=2021))   # Chagning to be the same year\n",
    "ghi = data['ghi'] #.str.strip('[]').str.split(' ', expand=True).astype(float)"
   ]
  },
  {
   "cell_type": "code",
   "execution_count": 44,
   "id": "db5edcbd",
   "metadata": {},
   "outputs": [
    {
     "name": "stdout",
     "output_type": "stream",
     "text": [
      "date\n",
      "2021-01-31 00:00:00-07:00    117026.170036\n",
      "2021-02-28 00:00:00-07:00    101592.549169\n",
      "2021-03-31 00:00:00-07:00    148849.908263\n",
      "2021-04-30 00:00:00-07:00    220098.947497\n",
      "2021-05-31 00:00:00-07:00    246039.847708\n",
      "2021-06-30 00:00:00-07:00    250162.614211\n",
      "2021-07-31 00:00:00-07:00    210202.106113\n",
      "2021-08-31 00:00:00-07:00    193593.260574\n",
      "2021-09-30 00:00:00-07:00    153746.217164\n",
      "2021-10-31 00:00:00-07:00    145113.887870\n",
      "2021-11-30 00:00:00-07:00    110458.418624\n",
      "2021-12-31 00:00:00-07:00    102666.306768\n",
      "Freq: M, Name: ghi, dtype: float64\n"
     ]
    }
   ],
   "source": [
    "dates = ['May','Jun','Jul','Aug','Sep','Oct']\n",
    "dghi = ghi.groupby([pd.Grouper(freq='M')]).sum().T\n",
    "# I'm sure there's a fancier way to do this but hey, this works.\n",
    "print(dghi)\n",
    "#dghi.rename(columns={ dghi.rows[0]: \"Jan\", dghi.columns[1]: \"Feb\",dghi.columns[2]: \"Mar\", dghi.columns[3]: \"Apr\",\n",
    "                   #dghi.columns[4]: \"May\",dghi.columns[5]: \"June\",dghi.columns[6]: \"July\",dghi.columns[7]: \"Aug\",\n",
    "                   #dghi.columns[8]: \"Sept\",dghi.columns[9]: \"Oct\",dghi.columns[10]: \"Nov\",dghi.columns[11]: \"Dec\"    }, inplace = True)"
   ]
  },
  {
   "cell_type": "code",
   "execution_count": 45,
   "id": "3008f228",
   "metadata": {},
   "outputs": [],
   "source": [
    "Rad_irr_factor=[]\n",
    "VF_irr_factor=[]\n",
    "for ti in range (0, len(dates)):\n",
    "    month = dates[ti]\n",
    "    ghitot = dghi[ti+5]\n",
    "    #Min for VF data\n",
    "    VFmin = df[month].min() \n",
    "    #Min for Radiance data\n",
    "    Radiance_File = r'C:\\Users\\jjones\\Documents\\GitHub\\bifacial_radiance\\bifacial_radiance\\TEMP\\Nespelem_test2\\results\\irr_nespelem_'+month+'_az_180_Ground_Analysis_Front.csv'\n",
    "    (dataR, metadata) = loadVFresults(Radiance_File)\n",
    "    data_lineR = dataR #.iloc[13220:13285] #Account for the three lines ignored in the loadVFresults command. Don't need them since \n",
    "    data_line_fR = data_lineR[::-1].reset_index(drop = True)\n",
    "    data_line_fR.rename(columns={ data_line_fR.columns[0]: \"x\", data_line_fR.columns[1]: \"y\",data_line_fR.columns[2]: \"z\", data_line_fR.columns[3]: \"mattype\",data_line_fR.columns[4]: \"Wm2Front\",}, inplace = True)\n",
    "    Radmin =  data_line_fR['Wm2Front'].min()\n",
    "    Radirr = Radmin/ghitot\n",
    "    VFirr = VFmin/ghitot\n",
    "    Rad_irr_factor.append(Radirr)\n",
    "    VF_irr_factor.append(VFirr)"
   ]
  },
  {
   "cell_type": "code",
   "execution_count": 46,
   "id": "a6e2fbe2",
   "metadata": {},
   "outputs": [
    {
     "data": {
      "image/png": "[encoded data removed]",
      "text/plain": [
       "<Figure size 432x288 with 1 Axes>"
      ]
     },
     "metadata": {
      "needs_background": "light"
     },
     "output_type": "display_data"
    }
   ],
   "source": [
    "dates_e = ['May','Jun','Jul','Aug','Sep','Oct','Nov']\n",
    "x_axis = np.arange(len(dates))\n",
    "# Multi bar Chart\n",
    "plt.bar(x_axis -0.2, Rad_irr_factor, width=0.4, label = 'bif_rad')\n",
    "plt.bar(x_axis +0.2, VF_irr_factor, width=0.4, label = 'vf')\n",
    "# Xticks\n",
    "plt.xticks(x_axis, dates)\n",
    "# Add legend and titles\n",
    "plt.legend()\n",
    "plt.title('Comparison of Irradiance Factors')\n",
    "plt.ylabel('Irradiance Factor')\n",
    "# Display\n",
    "plt.show()"
   ]
  },
  {
   "cell_type": "code",
   "execution_count": null,
   "id": "c6fd8055",
   "metadata": {},
   "outputs": [],
   "source": [
    "VF_all =  VF_irr_factor\n",
    "VF_all.append(df['Nov'].min()/dghi[10])\n",
    "VF_all.append(df['Dec'].min()/dghi[11])\n",
    "VF_all.insert(0,df['Apr'].min()/dghi[3])\n",
    "VF_all.insert(0,df['Mar'].min()/dghi[2])\n",
    "VF_all.insert(0,df['Feb'].min()/dghi[1])\n",
    "VF_all.insert(0,df['Jan'].min()/dghi[0])\n",
    "print(VF_all)\n",
    "dates_e = ['Jan','Feb','Mar','Apr','May','Jun','Jul','Aug','Sep','Oct','Nov','Dec']\n",
    "x_axis = np.arange(len(dates_e))\n",
    "# Multi bar Chart\n",
    "plt.bar(x_axis, VF_all, width=0.4, label = 'vf')\n",
    "# Xticks\n",
    "plt.xticks(x_axis, dates_e)\n",
    "# Add legend and titles\n",
    "plt.legend()\n",
    "plt.title('Comparison of Irradiance Factors')\n",
    "plt.ylabel('Irradiance Factor')\n",
    "# Display\n",
    "plt.show()"
   ]
  },
  {
   "cell_type": "code",
   "execution_count": null,
   "id": "ca7950d1",
   "metadata": {},
   "outputs": [],
   "source": [
    "monthlyGHI = pd.DataFrame(data['ghi'].groupby([pd.Grouper(freq='M')]).sum())"
   ]
  },
  {
   "cell_type": "code",
   "execution_count": null,
   "id": "5ce1bf61",
   "metadata": {},
   "outputs": [],
   "source": [
    "monthlyGHI['Month'] = ['Jan', 'Feb', 'Mar', 'Apr', 'May', 'June', 'July', 'Aug', 'Sept', 'Oct', 'Nov', 'Dec']\n",
    "monthlyGHI.set_index(monthlyGHI['Month'], inplace=True)\n",
    "monthlyGHI = monthlyGHI.drop(columns='Month')"
   ]
  },
  {
   "cell_type": "code",
   "execution_count": null,
   "id": "eb4a5bb2",
   "metadata": {},
   "outputs": [],
   "source": [
    "print(monthlyGHI)"
   ]
  },
  {
   "cell_type": "code",
   "execution_count": null,
   "id": "d311fb60",
   "metadata": {},
   "outputs": [],
   "source": [
    "df_norm = df.T\n",
    "df_norm = df_norm.div(monthlyGHI['ghi'], axis=0)\n",
    "df_norm = df_norm.T"
   ]
  },
  {
   "cell_type": "code",
   "execution_count": null,
   "id": "7f63b0f3",
   "metadata": {},
   "outputs": [],
   "source": [
    "fig = (df_norm).plot()\n",
    "fig.set_xlabel('Position between start of row and next row [%]')\n",
    "fig.set_ylabel('Normalized Insolation for the month/GHI')"
   ]
  },
  {
   "cell_type": "code",
   "execution_count": null,
   "id": "0011785f",
   "metadata": {},
   "outputs": [],
   "source": []
  }
 ],
 "metadata": {
  "kernelspec": {
   "display_name": "Python 3 (ipykernel)",
   "language": "python",
   "name": "python3"
  },
  "language_info": {
   "codemirror_mode": {
    "name": "ipython",
    "version": 3
   },
   "file_extension": ".py",
   "mimetype": "text/x-python",
   "name": "python",
   "nbconvert_exporter": "python",
   "pygments_lexer": "ipython3",
   "version": "3.9.12"
  }
 },
 "nbformat": 4,
 "nbformat_minor": 5
}
