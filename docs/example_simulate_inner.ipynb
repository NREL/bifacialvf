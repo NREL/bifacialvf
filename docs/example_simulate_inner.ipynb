{
 "cells": [
  {
   "cell_type": "code",
   "execution_count": 1,
   "metadata": {},
   "outputs": [],
   "source": [
    "import bifacialvf\n",
    "import pandas as pd\n",
    "from pathlib import Path\n",
    "from bifacialvf import *\n",
    "import matplotlib.pyplot as plt\n",
    "import seaborn as sns\n",
    "\n",
    "Path.ls = lambda x: sorted(list(x.iterdir()))"
   ]
  },
  {
   "cell_type": "code",
   "execution_count": 2,
   "metadata": {},
   "outputs": [
    {
     "data": {
      "text/plain": [
       "[PosixPath('../bifacialvf/data/722740TYA.CSV'),\n",
       " PosixPath('../bifacialvf/data/724010TYA.CSV'),\n",
       " PosixPath('../bifacialvf/data/724666TYA.CSV'),\n",
       " PosixPath('../bifacialvf/data/Output'),\n",
       " PosixPath('../bifacialvf/data/USA_VA_Richmond.Intl.AP.724010_TMY.epw'),\n",
       " PosixPath('../bifacialvf/data/tmy_ines.csv')]"
      ]
     },
     "execution_count": 2,
     "metadata": {},
     "output_type": "execute_result"
    }
   ],
   "source": [
    "PATH = Path('../bifacialvf/data')\n",
    "PATH.ls()"
   ]
  },
  {
   "cell_type": "code",
   "execution_count": 3,
   "metadata": {},
   "outputs": [],
   "source": [
    "slope = 1.69 * 2\n",
    "beta = 30                   # PV tilt (deg)\n",
    "sazm = 180                  # PV Azimuth(deg)\n",
    "C = 0.77/slope               # GroundClearance(panel slope lengths)\n",
    "rtr = 9.4/slope          # row to row spacing in panel lengths. \n",
    "\n",
    "writefiletitle = \"output.csv\"\n",
    "\n",
    "# Set optional variables.  These are the default values\n",
    "rowType = \"first\"        # RowType(first interior last single)\n",
    "transFactor = 0.013         # TransmissionFactor(open area fraction)\n",
    "cellRows = 7                # CellRows(# hor rows in panel)   This is the number of irradiance values returned along module chord\n",
    "PVfrontSurface = \"ARglass\"    # PVfrontSurface(glass or ARglass)\n",
    "PVbackSurface = \"ARglass\"     # PVbackSurface(glass or ARglass)\n",
    "albedo = 0.4               # ground albedo beneath system\n",
    "# 1-axis tracking instructions (optional)\n",
    "tracking=False\n",
    "backtrack=False       # backtracking optimization as defined in pvlib"
   ]
  },
  {
   "cell_type": "code",
   "execution_count": 4,
   "metadata": {},
   "outputs": [],
   "source": [
    "tmy_file = PATH/'tmy_ines.csv'\n",
    "gps_data = {'Name':'Chambery', 'latitude': 45.637001, 'longitude': 5.881, 'Elevation': 235.0, 'TZ':2}"
   ]
  },
  {
   "cell_type": "code",
   "execution_count": 5,
   "metadata": {},
   "outputs": [],
   "source": [
    "tmy3 = pd.read_csv(tmy_file, index_col='date', parse_dates=True)"
   ]
  },
  {
   "cell_type": "code",
   "execution_count": 6,
   "metadata": {},
   "outputs": [
    {
     "data": {
      "text/html": [
       "<div>\n",
       "<style scoped>\n",
       "    .dataframe tbody tr th:only-of-type {\n",
       "        vertical-align: middle;\n",
       "    }\n",
       "\n",
       "    .dataframe tbody tr th {\n",
       "        vertical-align: top;\n",
       "    }\n",
       "\n",
       "    .dataframe thead th {\n",
       "        text-align: right;\n",
       "    }\n",
       "</style>\n",
       "<table border=\"1\" class=\"dataframe\">\n",
       "  <thead>\n",
       "    <tr style=\"text-align: right;\">\n",
       "      <th></th>\n",
       "      <th>DNI</th>\n",
       "      <th>DHI</th>\n",
       "      <th>DryBulb</th>\n",
       "      <th>Wspd</th>\n",
       "    </tr>\n",
       "    <tr>\n",
       "      <th>date</th>\n",
       "      <th></th>\n",
       "      <th></th>\n",
       "      <th></th>\n",
       "      <th></th>\n",
       "    </tr>\n",
       "  </thead>\n",
       "  <tbody>\n",
       "    <tr>\n",
       "      <th>2017-01-01 07:00:00</th>\n",
       "      <td>0.0</td>\n",
       "      <td>0.00</td>\n",
       "      <td>-2.19</td>\n",
       "      <td>0.935</td>\n",
       "    </tr>\n",
       "    <tr>\n",
       "      <th>2017-01-01 08:00:00</th>\n",
       "      <td>0.0</td>\n",
       "      <td>28.43</td>\n",
       "      <td>-1.98</td>\n",
       "      <td>0.955</td>\n",
       "    </tr>\n",
       "    <tr>\n",
       "      <th>2017-01-01 09:00:00</th>\n",
       "      <td>0.0</td>\n",
       "      <td>60.17</td>\n",
       "      <td>-1.80</td>\n",
       "      <td>1.345</td>\n",
       "    </tr>\n",
       "    <tr>\n",
       "      <th>2017-01-01 10:00:00</th>\n",
       "      <td>0.0</td>\n",
       "      <td>93.09</td>\n",
       "      <td>-1.47</td>\n",
       "      <td>1.065</td>\n",
       "    </tr>\n",
       "    <tr>\n",
       "      <th>2017-01-01 11:00:00</th>\n",
       "      <td>0.0</td>\n",
       "      <td>120.62</td>\n",
       "      <td>-1.10</td>\n",
       "      <td>0.925</td>\n",
       "    </tr>\n",
       "  </tbody>\n",
       "</table>\n",
       "</div>"
      ],
      "text/plain": [
       "                     DNI     DHI  DryBulb   Wspd\n",
       "date                                            \n",
       "2017-01-01 07:00:00  0.0    0.00    -2.19  0.935\n",
       "2017-01-01 08:00:00  0.0   28.43    -1.98  0.955\n",
       "2017-01-01 09:00:00  0.0   60.17    -1.80  1.345\n",
       "2017-01-01 10:00:00  0.0   93.09    -1.47  1.065\n",
       "2017-01-01 11:00:00  0.0  120.62    -1.10  0.925"
      ]
     },
     "execution_count": 6,
     "metadata": {},
     "output_type": "execute_result"
    }
   ],
   "source": [
    "tmy3.head()"
   ]
  },
  {
   "cell_type": "code",
   "execution_count": 7,
   "metadata": {},
   "outputs": [
    {
     "name": "stderr",
     "output_type": "stream",
     "text": [
      "  0%|          | 0/4159 [00:00<?, ?it/s]/home/tc256760/Apps/bifacialvf/bifacialvf/vf.py:640: RuntimeWarning: divide by zero encountered in double_scalars\n",
      "  projectedX1 = PcellX - np.float64(PcellY) / math.tan(startElvDown);      # Projection of ElvDown to ground in -x direction\n",
      "  1%|          | 25/4159 [00:00<00:16, 247.90it/s]"
     ]
    },
    {
     "name": "stdout",
     "output_type": "stream",
     "text": [
      " \n",
      "********* \n",
      "Running Simulation for TMY3:  Chambery\n",
      "Location:   Chambery\n",
      "Lat:  45.637001  Long:  5.881  Tz  2\n",
      "Parameters: beta:  30   Sazm:  180   Height:  0.227810650887574   rtr separation:  2.7810650887573964   Row type:  first   Albedo:  0.4\n",
      "Saving into output.csv\n",
      " \n",
      " \n"
     ]
    },
    {
     "name": "stderr",
     "output_type": "stream",
     "text": [
      "100%|██████████| 4159/4159 [00:18<00:00, 220.83it/s]"
     ]
    },
    {
     "name": "stdout",
     "output_type": "stream",
     "text": [
      "Finished\n"
     ]
    },
    {
     "name": "stderr",
     "output_type": "stream",
     "text": [
      "\n"
     ]
    }
   ],
   "source": [
    "bifacialvf.simulate_inner(tmy3, gps_data, writefiletitle, beta, sazm, \n",
    "                C=C, rtr=rtr, rowType=rowType, transFactor=transFactor, cellRows=cellRows,\n",
    "                PVfrontSurface=PVfrontSurface, PVbackSurface=PVbackSurface, albedo=albedo, \n",
    "                tracking=tracking, backtrack=backtrack, sam_header=False)"
   ]
  },
  {
   "cell_type": "code",
   "execution_count": 8,
   "metadata": {},
   "outputs": [
    {
     "data": {
      "text/html": [
       "<div>\n",
       "<style scoped>\n",
       "    .dataframe tbody tr th:only-of-type {\n",
       "        vertical-align: middle;\n",
       "    }\n",
       "\n",
       "    .dataframe tbody tr th {\n",
       "        vertical-align: top;\n",
       "    }\n",
       "\n",
       "    .dataframe thead th {\n",
       "        text-align: right;\n",
       "    }\n",
       "</style>\n",
       "<table border=\"1\" class=\"dataframe\">\n",
       "  <thead>\n",
       "    <tr style=\"text-align: right;\">\n",
       "      <th>date</th>\n",
       "      <th>2017-01-01 10:00:00</th>\n",
       "      <th>2017-01-01 11:00:00</th>\n",
       "      <th>2017-01-01 12:00:00</th>\n",
       "      <th>2017-01-01 13:00:00</th>\n",
       "      <th>2017-01-01 14:00:00</th>\n",
       "    </tr>\n",
       "  </thead>\n",
       "  <tbody>\n",
       "    <tr>\n",
       "      <th>DNI</th>\n",
       "      <td>0.000000</td>\n",
       "      <td>0.000000</td>\n",
       "      <td>0.000000</td>\n",
       "      <td>562.605000</td>\n",
       "      <td>501.180000</td>\n",
       "    </tr>\n",
       "    <tr>\n",
       "      <th>DHI</th>\n",
       "      <td>93.090000</td>\n",
       "      <td>120.620000</td>\n",
       "      <td>166.290000</td>\n",
       "      <td>80.320000</td>\n",
       "      <td>38.015000</td>\n",
       "    </tr>\n",
       "    <tr>\n",
       "      <th>decHRs</th>\n",
       "      <td>9.500000</td>\n",
       "      <td>10.500000</td>\n",
       "      <td>11.500000</td>\n",
       "      <td>12.500000</td>\n",
       "      <td>13.500000</td>\n",
       "    </tr>\n",
       "    <tr>\n",
       "      <th>ghi</th>\n",
       "      <td>93.090000</td>\n",
       "      <td>120.620000</td>\n",
       "      <td>166.290000</td>\n",
       "      <td>269.183777</td>\n",
       "      <td>220.921740</td>\n",
       "    </tr>\n",
       "    <tr>\n",
       "      <th>inc</th>\n",
       "      <td>69.734769</td>\n",
       "      <td>60.336352</td>\n",
       "      <td>49.974943</td>\n",
       "      <td>42.196863</td>\n",
       "      <td>38.636247</td>\n",
       "    </tr>\n",
       "    <tr>\n",
       "      <th>zen</th>\n",
       "      <td>87.104126</td>\n",
       "      <td>80.944568</td>\n",
       "      <td>74.645522</td>\n",
       "      <td>70.385184</td>\n",
       "      <td>68.595359</td>\n",
       "    </tr>\n",
       "    <tr>\n",
       "      <th>azm</th>\n",
       "      <td>127.300967</td>\n",
       "      <td>136.573707</td>\n",
       "      <td>149.120616</td>\n",
       "      <td>162.881947</td>\n",
       "      <td>177.493499</td>\n",
       "    </tr>\n",
       "    <tr>\n",
       "      <th>pvFrontSH</th>\n",
       "      <td>0.000000</td>\n",
       "      <td>0.000000</td>\n",
       "      <td>0.000000</td>\n",
       "      <td>0.000000</td>\n",
       "      <td>0.000000</td>\n",
       "    </tr>\n",
       "    <tr>\n",
       "      <th>aveFrontGroundGHI</th>\n",
       "      <td>57.379789</td>\n",
       "      <td>72.923617</td>\n",
       "      <td>99.471700</td>\n",
       "      <td>82.670697</td>\n",
       "      <td>61.022305</td>\n",
       "    </tr>\n",
       "    <tr>\n",
       "      <th>GTIfrontBroadBand</th>\n",
       "      <td>236.242753</td>\n",
       "      <td>171.679088</td>\n",
       "      <td>199.040887</td>\n",
       "      <td>549.689631</td>\n",
       "      <td>462.636516</td>\n",
       "    </tr>\n",
       "    <tr>\n",
       "      <th>pvBackSH</th>\n",
       "      <td>1.000000</td>\n",
       "      <td>1.000000</td>\n",
       "      <td>1.000000</td>\n",
       "      <td>1.000000</td>\n",
       "      <td>1.000000</td>\n",
       "    </tr>\n",
       "    <tr>\n",
       "      <th>aveBackGroundGHI</th>\n",
       "      <td>57.379789</td>\n",
       "      <td>72.923617</td>\n",
       "      <td>99.471700</td>\n",
       "      <td>82.670697</td>\n",
       "      <td>61.022305</td>\n",
       "    </tr>\n",
       "    <tr>\n",
       "      <th>GTIbackBroadBand</th>\n",
       "      <td>36.958245</td>\n",
       "      <td>48.185367</td>\n",
       "      <td>66.602665</td>\n",
       "      <td>112.201380</td>\n",
       "      <td>90.082049</td>\n",
       "    </tr>\n",
       "    <tr>\n",
       "      <th>maxShadow</th>\n",
       "      <td>9.584996</td>\n",
       "      <td>4.182573</td>\n",
       "      <td>3.140836</td>\n",
       "      <td>2.817812</td>\n",
       "      <td>2.720960</td>\n",
       "    </tr>\n",
       "    <tr>\n",
       "      <th>Tamb</th>\n",
       "      <td>-1.470000</td>\n",
       "      <td>-1.100000</td>\n",
       "      <td>-0.725000</td>\n",
       "      <td>2.015000</td>\n",
       "      <td>2.740000</td>\n",
       "    </tr>\n",
       "    <tr>\n",
       "      <th>Vwind</th>\n",
       "      <td>1.065000</td>\n",
       "      <td>0.925000</td>\n",
       "      <td>0.960000</td>\n",
       "      <td>0.640000</td>\n",
       "      <td>0.765000</td>\n",
       "    </tr>\n",
       "    <tr>\n",
       "      <th>No_1_RowFrontGTI</th>\n",
       "      <td>213.465310</td>\n",
       "      <td>164.807159</td>\n",
       "      <td>192.896730</td>\n",
       "      <td>544.496605</td>\n",
       "      <td>459.595886</td>\n",
       "    </tr>\n",
       "    <tr>\n",
       "      <th>No_2_RowFrontGTI</th>\n",
       "      <td>213.465310</td>\n",
       "      <td>164.807159</td>\n",
       "      <td>192.896730</td>\n",
       "      <td>544.496605</td>\n",
       "      <td>459.595886</td>\n",
       "    </tr>\n",
       "    <tr>\n",
       "      <th>No_3_RowFrontGTI</th>\n",
       "      <td>213.465310</td>\n",
       "      <td>164.807159</td>\n",
       "      <td>192.896730</td>\n",
       "      <td>544.496605</td>\n",
       "      <td>459.595886</td>\n",
       "    </tr>\n",
       "    <tr>\n",
       "      <th>No_4_RowFrontGTI</th>\n",
       "      <td>213.465310</td>\n",
       "      <td>164.807159</td>\n",
       "      <td>192.896730</td>\n",
       "      <td>544.496605</td>\n",
       "      <td>459.595886</td>\n",
       "    </tr>\n",
       "    <tr>\n",
       "      <th>No_5_RowFrontGTI</th>\n",
       "      <td>213.465310</td>\n",
       "      <td>164.807159</td>\n",
       "      <td>192.896730</td>\n",
       "      <td>544.496605</td>\n",
       "      <td>459.595886</td>\n",
       "    </tr>\n",
       "    <tr>\n",
       "      <th>No_6_RowFrontGTI</th>\n",
       "      <td>213.465310</td>\n",
       "      <td>164.807159</td>\n",
       "      <td>192.896730</td>\n",
       "      <td>544.496605</td>\n",
       "      <td>459.595886</td>\n",
       "    </tr>\n",
       "    <tr>\n",
       "      <th>No_7_RowFrontGTI</th>\n",
       "      <td>213.465310</td>\n",
       "      <td>164.807159</td>\n",
       "      <td>192.896730</td>\n",
       "      <td>544.496605</td>\n",
       "      <td>459.595886</td>\n",
       "    </tr>\n",
       "    <tr>\n",
       "      <th>No_1_RowBackGTI</th>\n",
       "      <td>18.867306</td>\n",
       "      <td>27.386894</td>\n",
       "      <td>36.232748</td>\n",
       "      <td>77.213459</td>\n",
       "      <td>64.899774</td>\n",
       "    </tr>\n",
       "    <tr>\n",
       "      <th>No_2_RowBackGTI</th>\n",
       "      <td>18.333584</td>\n",
       "      <td>26.035119</td>\n",
       "      <td>34.008403</td>\n",
       "      <td>69.139601</td>\n",
       "      <td>57.301021</td>\n",
       "    </tr>\n",
       "    <tr>\n",
       "      <th>No_3_RowBackGTI</th>\n",
       "      <td>18.352326</td>\n",
       "      <td>25.737564</td>\n",
       "      <td>33.231165</td>\n",
       "      <td>58.575394</td>\n",
       "      <td>46.963444</td>\n",
       "    </tr>\n",
       "    <tr>\n",
       "      <th>No_4_RowBackGTI</th>\n",
       "      <td>18.821167</td>\n",
       "      <td>25.802284</td>\n",
       "      <td>32.983967</td>\n",
       "      <td>49.091021</td>\n",
       "      <td>37.301749</td>\n",
       "    </tr>\n",
       "    <tr>\n",
       "      <th>No_5_RowBackGTI</th>\n",
       "      <td>19.370041</td>\n",
       "      <td>26.124353</td>\n",
       "      <td>33.320608</td>\n",
       "      <td>40.699521</td>\n",
       "      <td>29.267112</td>\n",
       "    </tr>\n",
       "    <tr>\n",
       "      <th>No_6_RowBackGTI</th>\n",
       "      <td>19.826779</td>\n",
       "      <td>26.267956</td>\n",
       "      <td>33.788811</td>\n",
       "      <td>34.830248</td>\n",
       "      <td>23.866023</td>\n",
       "    </tr>\n",
       "    <tr>\n",
       "      <th>No_7_RowBackGTI</th>\n",
       "      <td>20.322046</td>\n",
       "      <td>26.466017</td>\n",
       "      <td>34.580911</td>\n",
       "      <td>32.927798</td>\n",
       "      <td>21.745291</td>\n",
       "    </tr>\n",
       "  </tbody>\n",
       "</table>\n",
       "</div>"
      ],
      "text/plain": [
       "date               2017-01-01 10:00:00  2017-01-01 11:00:00  \\\n",
       "DNI                           0.000000             0.000000   \n",
       "DHI                          93.090000           120.620000   \n",
       "decHRs                        9.500000            10.500000   \n",
       "ghi                          93.090000           120.620000   \n",
       "inc                          69.734769            60.336352   \n",
       "zen                          87.104126            80.944568   \n",
       "azm                         127.300967           136.573707   \n",
       "pvFrontSH                     0.000000             0.000000   \n",
       "aveFrontGroundGHI            57.379789            72.923617   \n",
       "GTIfrontBroadBand           236.242753           171.679088   \n",
       "pvBackSH                      1.000000             1.000000   \n",
       "aveBackGroundGHI             57.379789            72.923617   \n",
       "GTIbackBroadBand             36.958245            48.185367   \n",
       "maxShadow                     9.584996             4.182573   \n",
       "Tamb                         -1.470000            -1.100000   \n",
       "Vwind                         1.065000             0.925000   \n",
       "No_1_RowFrontGTI            213.465310           164.807159   \n",
       "No_2_RowFrontGTI            213.465310           164.807159   \n",
       "No_3_RowFrontGTI            213.465310           164.807159   \n",
       "No_4_RowFrontGTI            213.465310           164.807159   \n",
       "No_5_RowFrontGTI            213.465310           164.807159   \n",
       "No_6_RowFrontGTI            213.465310           164.807159   \n",
       "No_7_RowFrontGTI            213.465310           164.807159   \n",
       "No_1_RowBackGTI              18.867306            27.386894   \n",
       "No_2_RowBackGTI              18.333584            26.035119   \n",
       "No_3_RowBackGTI              18.352326            25.737564   \n",
       "No_4_RowBackGTI              18.821167            25.802284   \n",
       "No_5_RowBackGTI              19.370041            26.124353   \n",
       "No_6_RowBackGTI              19.826779            26.267956   \n",
       "No_7_RowBackGTI              20.322046            26.466017   \n",
       "\n",
       "date               2017-01-01 12:00:00  2017-01-01 13:00:00  \\\n",
       "DNI                           0.000000           562.605000   \n",
       "DHI                         166.290000            80.320000   \n",
       "decHRs                       11.500000            12.500000   \n",
       "ghi                         166.290000           269.183777   \n",
       "inc                          49.974943            42.196863   \n",
       "zen                          74.645522            70.385184   \n",
       "azm                         149.120616           162.881947   \n",
       "pvFrontSH                     0.000000             0.000000   \n",
       "aveFrontGroundGHI            99.471700            82.670697   \n",
       "GTIfrontBroadBand           199.040887           549.689631   \n",
       "pvBackSH                      1.000000             1.000000   \n",
       "aveBackGroundGHI             99.471700            82.670697   \n",
       "GTIbackBroadBand             66.602665           112.201380   \n",
       "maxShadow                     3.140836             2.817812   \n",
       "Tamb                         -0.725000             2.015000   \n",
       "Vwind                         0.960000             0.640000   \n",
       "No_1_RowFrontGTI            192.896730           544.496605   \n",
       "No_2_RowFrontGTI            192.896730           544.496605   \n",
       "No_3_RowFrontGTI            192.896730           544.496605   \n",
       "No_4_RowFrontGTI            192.896730           544.496605   \n",
       "No_5_RowFrontGTI            192.896730           544.496605   \n",
       "No_6_RowFrontGTI            192.896730           544.496605   \n",
       "No_7_RowFrontGTI            192.896730           544.496605   \n",
       "No_1_RowBackGTI              36.232748            77.213459   \n",
       "No_2_RowBackGTI              34.008403            69.139601   \n",
       "No_3_RowBackGTI              33.231165            58.575394   \n",
       "No_4_RowBackGTI              32.983967            49.091021   \n",
       "No_5_RowBackGTI              33.320608            40.699521   \n",
       "No_6_RowBackGTI              33.788811            34.830248   \n",
       "No_7_RowBackGTI              34.580911            32.927798   \n",
       "\n",
       "date               2017-01-01 14:00:00  \n",
       "DNI                         501.180000  \n",
       "DHI                          38.015000  \n",
       "decHRs                       13.500000  \n",
       "ghi                         220.921740  \n",
       "inc                          38.636247  \n",
       "zen                          68.595359  \n",
       "azm                         177.493499  \n",
       "pvFrontSH                     0.000000  \n",
       "aveFrontGroundGHI            61.022305  \n",
       "GTIfrontBroadBand           462.636516  \n",
       "pvBackSH                      1.000000  \n",
       "aveBackGroundGHI             61.022305  \n",
       "GTIbackBroadBand             90.082049  \n",
       "maxShadow                     2.720960  \n",
       "Tamb                          2.740000  \n",
       "Vwind                         0.765000  \n",
       "No_1_RowFrontGTI            459.595886  \n",
       "No_2_RowFrontGTI            459.595886  \n",
       "No_3_RowFrontGTI            459.595886  \n",
       "No_4_RowFrontGTI            459.595886  \n",
       "No_5_RowFrontGTI            459.595886  \n",
       "No_6_RowFrontGTI            459.595886  \n",
       "No_7_RowFrontGTI            459.595886  \n",
       "No_1_RowBackGTI              64.899774  \n",
       "No_2_RowBackGTI              57.301021  \n",
       "No_3_RowBackGTI              46.963444  \n",
       "No_4_RowBackGTI              37.301749  \n",
       "No_5_RowBackGTI              29.267112  \n",
       "No_6_RowBackGTI              23.866023  \n",
       "No_7_RowBackGTI              21.745291  "
      ]
     },
     "execution_count": 8,
     "metadata": {},
     "output_type": "execute_result"
    }
   ],
   "source": [
    "res = pd.read_csv(writefiletitle, header=2, index_col='date', parse_dates=True)\n",
    "res.head().T"
   ]
  },
  {
   "cell_type": "code",
   "execution_count": 9,
   "metadata": {},
   "outputs": [
    {
     "data": {
      "text/plain": [
       "<matplotlib.legend.Legend at 0x7f41644004e0>"
      ]
     },
     "execution_count": 9,
     "metadata": {},
     "output_type": "execute_result"
    },
    {
     "data": {
      "image/png": "[encoded data removed]",
      "text/plain": [
       "<Figure size 1080x360 with 1 Axes>"
      ]
     },
     "metadata": {
      "needs_background": "light"
     },
     "output_type": "display_data"
    }
   ],
   "source": [
    "day = '5 Jul 2017'\n",
    "res.loc[day, 'No_1_RowBackGTI'].plot(figsize=(15,5))\n",
    "res.loc[day, 'No_4_RowBackGTI'].plot(figsize=(15,5))\n",
    "res.loc[day, 'No_6_RowBackGTI'].plot(figsize=(15,5))\n",
    "plt.legend()"
   ]
  },
  {
   "cell_type": "markdown",
   "metadata": {},
   "source": [
    "# bifacialVF main"
   ]
  },
  {
   "cell_type": "code",
   "execution_count": 10,
   "metadata": {},
   "outputs": [],
   "source": [
    "from bifacialvf import simulate\n",
    "from bifacialvf.loadVFresults import loadVFresults"
   ]
  },
  {
   "cell_type": "code",
   "execution_count": 11,
   "metadata": {},
   "outputs": [],
   "source": [
    "beta = 10                   # PV tilt (deg)\n",
    "sazm = 180                  # PV Azimuth(deg) or tracker axis direction\n",
    "C = 1                      # GroundClearance(panel slope lengths). For tracking this is tilt = 0 hub height \n",
    "D = 0.51519                 # DistanceBetweenRows(panel slope lengths)\n",
    "rowType = \"interior\"        # RowType(first interior last single)\n",
    "transFactor = 0.013         # TransmissionFactor(open area fraction)\n",
    "cellRows = 6                # CellRows(# hor rows in panel)   <--> THIS ASSUMES LANDSCAPE ORIENTATION \n",
    "PVfrontSurface = \"glass\"    # PVfrontSurface(glass or ARglass)\n",
    "PVbackSurface = \"glass\"     # PVbackSurface(glass or ARglass)\n",
    "albedo = 0.62               # ground albedo"
   ]
  },
  {
   "cell_type": "code",
   "execution_count": 12,
   "metadata": {},
   "outputs": [],
   "source": [
    "# Tracking instructions\n",
    "tracking=False\n",
    "backtrack=True\n",
    "rtr = 1.5                   # row to row spacing in normalized panel lengths. \n",
    "\n",
    "TMYtoread= \"../bifacialvf/data/724010TYA.CSV\"   # VA Richmond\n",
    "writefiletitle=\"../bifacialvf/data/Output/TEST.csv\""
   ]
  },
  {
   "cell_type": "code",
   "execution_count": 13,
   "metadata": {},
   "outputs": [
    {
     "name": "stderr",
     "output_type": "stream",
     "text": [
      "/home/tc256760/Apps/bifacialvf/bifacialvf/bifacialvf.py:43: pvlibDeprecationWarning: The readtmy3 function was deprecated in pvlib 0.6.1 and will be removed in 0.7. Use iotools.read_tmy3 instead.\n",
      "  (TMY3, meta) = pvlib.tmy.readtmy3(TMYtoread)\n",
      "  0%|          | 16/8760 [00:00<00:56, 155.54it/s]"
     ]
    },
    {
     "name": "stdout",
     "output_type": "stream",
     "text": [
      " \n",
      "********* \n",
      "Running Simulation for TMY3:  \"RICHMOND INTERNATIONAL AP\"\n",
      "Location:   \"RICHMOND INTERNATIONAL AP\"\n",
      "Lat:  37.517  Long:  -77.317  Tz  -5.0\n",
      "Parameters: beta:  10   Sazm:  180   Height:  1   rtr separation:  1.5   Row type:  interior   Albedo:  0.62\n",
      "Saving into ../bifacialvf/data/Output/TEST.csv\n",
      " \n",
      " \n"
     ]
    },
    {
     "name": "stderr",
     "output_type": "stream",
     "text": [
      "100%|██████████| 8760/8760 [00:32<00:00, 268.65it/s]"
     ]
    },
    {
     "name": "stdout",
     "output_type": "stream",
     "text": [
      "Finished\n"
     ]
    },
    {
     "name": "stderr",
     "output_type": "stream",
     "text": [
      "\n"
     ]
    }
   ],
   "source": [
    "simulate(TMYtoread, writefiletitle, beta, sazm, C, rtr= rtr, \n",
    "                rowType= rowType, transFactor= transFactor, cellRows= cellRows, \n",
    "                PVfrontSurface= PVfrontSurface, PVbackSurface= PVbackSurface,   \n",
    "                albedo= albedo, tracking= tracking, backtrack= backtrack)"
   ]
  },
  {
   "cell_type": "code",
   "execution_count": 14,
   "metadata": {},
   "outputs": [
    {
     "name": "stdout",
     "output_type": "stream",
     "text": [
      "The bifacial ratio for ground clearance 1 and rtr spacing 1.5 is: 16.3%\n"
     ]
    }
   ],
   "source": [
    "(data, metadata) = loadVFresults(writefiletitle)\n",
    "#print data.keys()\n",
    "# calculate average front and back global tilted irradiance across the module chord\n",
    "data['GTIFrontavg'] = data[['No_1_RowFrontGTI', 'No_2_RowFrontGTI','No_3_RowFrontGTI','No_4_RowFrontGTI','No_5_RowFrontGTI','No_6_RowFrontGTI']].mean(axis=1)\n",
    "data['GTIBackavg'] = data[['No_1_RowBackGTI', 'No_2_RowBackGTI','No_3_RowBackGTI','No_4_RowBackGTI','No_5_RowBackGTI','No_6_RowBackGTI']].mean(axis=1)\n",
    "\n",
    "# Print the annual bifacial ratio.\n",
    "frontIrrSum = data['GTIFrontavg'].sum()\n",
    "backIrrSum = data['GTIBackavg'].sum()\n",
    "print('The bifacial ratio for ground clearance {} and rtr spacing {} is: {:.1f}%'.format(C,rtr,backIrrSum/frontIrrSum*100))\n",
    "#print(\"--- %s seconds ---\" % (time.time() - start_time))"
   ]
  },
  {
   "cell_type": "code",
   "execution_count": null,
   "metadata": {},
   "outputs": [],
   "source": []
  }
 ],
 "metadata": {
  "kernelspec": {
   "display_name": "Python 3",
   "language": "python",
   "name": "python3"
  },
  "language_info": {
   "codemirror_mode": {
    "name": "ipython",
    "version": 3
   },
   "file_extension": ".py",
   "mimetype": "text/x-python",
   "name": "python",
   "nbconvert_exporter": "python",
   "pygments_lexer": "ipython3",
   "version": "3.7.3"
  }
 },
 "nbformat": 4,
 "nbformat_minor": 4
}
