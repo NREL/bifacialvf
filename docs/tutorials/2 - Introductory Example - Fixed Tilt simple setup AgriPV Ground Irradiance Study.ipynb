{
 "cells": [
  {
   "cell_type": "markdown",
   "id": "967a8149",
   "metadata": {},
   "source": [
    "# 2 - Introductory Example: Ground Irradiance Analysis for AgriPV\n",
    "\n",
    "This jupyter journal will walk us through the creation of the most basic fixed-tilt simulation possible with bifacialvf.\n",
    "We will simulate a 1-up landscape system over a grass albedo and look at the ground irradiance from the start of 1 row to the other.\n"
   ]
  },
  {
   "cell_type": "code",
   "execution_count": 1,
   "id": "a2877703",
   "metadata": {},
   "outputs": [],
   "source": [
    "from pathlib import Path\n",
    "import os\n",
    "import bifacialvf\n",
    "import matplotlib.pyplot as plt\n",
    "\n",
    "# IO Files\n",
    "testfolder = Path().resolve().parent.parent / 'bifacialvf' / 'TEMP' / 'Tutorial_01'\n",
    "if not os.path.exists(testfolder):\n",
    "    os.makedirs(testfolder)"
   ]
  },
  {
   "cell_type": "code",
   "execution_count": 2,
   "id": "97f1e28f",
   "metadata": {},
   "outputs": [],
   "source": [
    "plt.rcParams['timezone'] = 'Etc/GMT+7'\n",
    "font = {'family' : 'DejaVu Sans',\n",
    "'weight' : 'bold',\n",
    "'size'   : 22}\n",
    "plt.rc('font', **font)\n",
    "plt.rcParams['figure.figsize'] = (12, 5)"
   ]
  },
  {
   "cell_type": "code",
   "execution_count": 3,
   "id": "e2f40d43",
   "metadata": {},
   "outputs": [
    {
     "name": "stdout",
     "output_type": "stream",
     "text": [
      "path = C:\\Users\\sayala\\Documents\\GitHub\\bifacialvf\\bifacialvf\\TEMP\\Tutorial_01\n",
      "Getting weather file: USA_CO_Golden-NREL.724666_TMY3.epw\n",
      " ... OK!\n",
      "Calculating Sun position with a delta of -30 mins. i.e. 12 is 11:30 sunpos\n",
      "Using albedo from TMY3 file.\n",
      "Note that at the moment, no validation check is done in the albedo data, so we assume it's correct and valid.\n",
      "\n",
      " \n",
      "********* \n",
      "Running Simulation for TMY3: \n",
      "Location:   Denver Centennial  Golden   Nr\n",
      "Lat:  39.74  Long:  -105.18  Tz  -7.0\n",
      "Parameters: tilt:  0   Sazm:  180     Hub_Height :  0.75   Pitch:  2.857142857142857   Row type:  interior   Albedo:  None\n",
      "Saving into C:\\Users\\sayala\\Documents\\GitHub\\bifacialvf\\bifacialvf\\TEMP\\Tutorial_01\\Results_Tutorial2_unflipped.csv\n",
      " \n",
      " \n",
      "Distance between rows for no shading on Dec 21 at 9 am solar time =  0.0\n",
      "Actual distance between rows =  1.8571428571428572\n",
      " \n",
      " ***** IMPORTANT --> THIS SIMULATION Has Tracking Activated\n",
      "Backtracking Option is set to:  True\n",
      "Saving Ground Irradiance Values for AgriPV Analysis. \n"
     ]
    },
    {
     "name": "stderr",
     "output_type": "stream",
     "text": [
      "100%|█████████████████████████████████████████████████████████████████████████████| 8760/8760 [01:21<00:00, 107.76it/s]\n"
     ]
    },
    {
     "name": "stdout",
     "output_type": "stream",
     "text": [
      "Finished\n"
     ]
    }
   ],
   "source": [
    "writefiletitle = os.path.join(testfolder, 'Results_Tutorial2_unflipped.csv')\n",
    "\n",
    "# Variables\n",
    "lat = 39.75555              # Golden CO, Coords.\n",
    "lon = -105.2211             # Golden CO, Coords.\n",
    "tilt = 10                   # PV tilt (deg)\n",
    "sazm = 180                  # PV Azimuth(deg) or tracker axis direction\n",
    "albedo = None               # Calculated in previous section from SRRL data. Value is 0.28 up to 11/18/19o\n",
    "hub_height=1.5/2            #1.5m / 2m collector width\n",
    "pitch = 2/0.35/2              # 1 / 0.35 where 0.35 is gcr --- row to row spacing in normalized panel lengths. \n",
    "rowType = \"interior\"        # RowType(first interior last single)\n",
    "transFactor = 0             # TransmissionFactor(open area fraction)\n",
    "sensorsy = 12                # sensorsy(# hor rows in panel)   <--> THIS ASSUMES LANDSCAPE ORIENTATION \n",
    "PVfrontSurface = \"glass\"    # PVfrontSurface(glass or ARglass)\n",
    "PVbackSurface = \"glass\"     # PVbackSurface(glass or ARglass)\n",
    "agriPV = True\n",
    "\n",
    " # Calculate PV Output Through Various Methods    \n",
    "# calculateBilInterpol = False   # Only works with landscape at the moment.\n",
    "# calculatePVMismatch = False\n",
    "# portraitorlandscape='portrait'   # portrait or landscape\n",
    "# cellsnum = 72\n",
    "# bififactor = 1.0\n",
    "\n",
    "# Tracking instructions\n",
    "tracking=True\n",
    "backtrack=True\n",
    "limit_angle = 65\n",
    "\n",
    "# Download and Read input\n",
    "TMYtoread=bifacialvf.getEPW(lat=lat,lon=lon, path = testfolder)\n",
    "myTMY3, meta = bifacialvf.readInputTMY(TMYtoread)\n",
    "deltastyle = 'TMY3'\n",
    "#myTMY3 = myTMY3.iloc[0:24].copy()  # Simulate just the first 24 hours of the data file for speed on this example\n",
    "\n",
    "bifacialvf.simulate(myTMY3, meta, writefiletitle=writefiletitle, \n",
    "         tilt=tilt, sazm=sazm, pitch=pitch, hub_height=hub_height, \n",
    "         rowType=rowType, transFactor=transFactor, sensorsy=sensorsy, \n",
    "         PVfrontSurface=PVfrontSurface, PVbackSurface=PVbackSurface, \n",
    "         albedo=albedo, tracking=tracking, backtrack=backtrack, \n",
    "         limit_angle=limit_angle, deltastyle=deltastyle, agriPV=agriPV)\n",
    "\n",
    "#Load the results from the resultfile\n",
    "from bifacialvf import loadVFresults\n",
    "(data, metadata) = loadVFresults(writefiletitle)"
   ]
  },
  {
   "cell_type": "code",
   "execution_count": null,
   "id": "c302b335",
   "metadata": {},
   "outputs": [],
   "source": [
    "from bifacialvf import loadVFresults\n",
    "(data, metadata) = loadVFresults(writefiletitle)"
   ]
  },
  {
   "cell_type": "markdown",
   "id": "627ef051",
   "metadata": {},
   "source": [
    "# 5. Analyze the results from the resultfile\n"
   ]
  },
  {
   "cell_type": "code",
   "execution_count": null,
   "id": "0f69293a",
   "metadata": {},
   "outputs": [],
   "source": [
    "import pandas as pd\n",
    "import matplotlib.pyplot as plt"
   ]
  },
  {
   "cell_type": "code",
   "execution_count": null,
   "id": "2c09663e",
   "metadata": {},
   "outputs": [],
   "source": [
    "data.set_index(pd.to_datetime(data['date']), inplace=True, drop=True)\n",
    "data.index = data.index.map(lambda t: t.replace(year=2021))   # Chagning to be the same year\n",
    "groundIrrads = data['Ground Irradiance Values'].str.strip('[]').str.split(' ', expand=True).astype(float)"
   ]
  },
  {
   "cell_type": "code",
   "execution_count": null,
   "id": "46a7996e",
   "metadata": {},
   "outputs": [],
   "source": [
    "df = groundIrrads.groupby([pd.Grouper(freq='M')]).sum().T\n",
    "# I'm sure there's a fancier way to do this but hey, this works.\n",
    "df.rename(columns={ df.columns[0]: \"Jan\", df.columns[1]: \"Feb\",df.columns[2]: \"Mar\", df.columns[3]: \"Apr\",\n",
    "                   df.columns[4]: \"May\",df.columns[5]: \"June\",df.columns[6]: \"July\",df.columns[7]: \"Aug\",\n",
    "                   df.columns[8]: \"Sept\",df.columns[9]: \"Oct\",df.columns[10]: \"Nov\",df.columns[11]: \"Dec\"    }, inplace = True)"
   ]
  },
  {
   "cell_type": "code",
   "execution_count": null,
   "id": "0ddd4bc1",
   "metadata": {},
   "outputs": [],
   "source": [
    "fig = (df/1000).plot()\n",
    "fig.set_xlabel('Position between start of row and next row [%]')\n",
    "fig.set_ylabel('Cumulative Insolation for the month [kWh/m2]')"
   ]
  },
  {
   "cell_type": "code",
   "execution_count": null,
   "id": "290b2481",
   "metadata": {},
   "outputs": [],
   "source": [
    "monthlyGHI = pd.DataFrame(data['ghi'].groupby([pd.Grouper(freq='M')]).sum())"
   ]
  },
  {
   "cell_type": "code",
   "execution_count": null,
   "id": "050c127e",
   "metadata": {},
   "outputs": [],
   "source": [
    "monthlyGHI['Month'] = ['Jan', 'Feb', 'Mar', 'Apr', 'May', 'June', 'July', 'Aug', 'Sept', 'Oct', 'Nov', 'Dec']\n",
    "monthlyGHI.set_index(monthlyGHI['Month'], inplace=True)\n",
    "monthlyGHI = monthlyGHI.drop(columns='Month')"
   ]
  },
  {
   "cell_type": "code",
   "execution_count": null,
   "id": "b9424eea",
   "metadata": {},
   "outputs": [],
   "source": [
    "df_norm = df.T\n",
    "df_norm = df_norm.div(monthlyGHI['ghi'], axis=0)\n",
    "df_norm = df_norm.T"
   ]
  },
  {
   "cell_type": "code",
   "execution_count": null,
   "id": "9e1d4dad",
   "metadata": {},
   "outputs": [],
   "source": [
    "fig = (df_norm).plot()\n",
    "fig.set_xlabel('Position between start of row and next row [%]')\n",
    "fig.set_ylabel('Normalized Insolation for the month/GHI')"
   ]
  }
 ],
 "metadata": {
  "kernelspec": {
   "display_name": "Python 3 (ipykernel)",
   "language": "python",
   "name": "python3"
  },
  "language_info": {
   "codemirror_mode": {
    "name": "ipython",
    "version": 3
   },
   "file_extension": ".py",
   "mimetype": "text/x-python",
   "name": "python",
   "nbconvert_exporter": "python",
   "pygments_lexer": "ipython3",
   "version": "3.8.8"
  }
 },
 "nbformat": 4,
 "nbformat_minor": 5
}
